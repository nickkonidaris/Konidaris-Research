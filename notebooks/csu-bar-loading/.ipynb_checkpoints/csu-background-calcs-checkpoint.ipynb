{
 "cells": [
  {
   "cell_type": "code",
   "execution_count": 6,
   "metadata": {},
   "outputs": [],
   "source": [
    "# use sympy environment\n",
    "\n",
    "import numpy as np\n",
    "import sympy\n",
    "import pint"
   ]
  },
  {
   "cell_type": "markdown",
   "metadata": {},
   "source": [
    "## Setup: Units"
   ]
  },
  {
   "cell_type": "code",
   "execution_count": 7,
   "metadata": {},
   "outputs": [],
   "source": [
    "UR = pint.UnitRegistry()"
   ]
  },
  {
   "cell_type": "code",
   "execution_count": 50,
   "metadata": {},
   "outputs": [],
   "source": [
    "σ = sigma = UR.stefan_boltzmann_constant"
   ]
  },
  {
   "cell_type": "code",
   "execution_count": 9,
   "metadata": {},
   "outputs": [
    {
     "data": {
      "text/html": [
       "401.0547085813 watt/meter<sup>2</sup>"
      ],
      "text/latex": [
       "$401.0547085813\\ \\frac{\\mathrm{watt}}{\\mathrm{meter}^{2}}$"
      ],
      "text/plain": [
       "<Quantity(401.0547085813, 'watt / meter ** 2')>"
      ]
     },
     "execution_count": 9,
     "metadata": {},
     "output_type": "execute_result"
    }
   ],
   "source": [
    "\n",
    "W = UR.watt\n",
    "m = UR.meter\n",
    "K = UR.kelvin\n",
    "inch = UR.inch\n",
    "\n",
    "# Check that room temp is ~ 400 W/m2\n",
    "P_window = sigma*(290*K)**4\n",
    "P_window.to(W/m**2)"
   ]
  },
  {
   "cell_type": "markdown",
   "metadata": {},
   "source": [
    "## Setup: Geometry"
   ]
  },
  {
   "cell_type": "code",
   "execution_count": 44,
   "metadata": {},
   "outputs": [
    {
     "name": "stdout",
     "output_type": "stream",
     "text": [
      "712.8900000000001 centimeter ** 2 of mask sees 0.21 Sr\n"
     ]
    }
   ],
   "source": [
    "A = (10*inch)**2\n",
    "A = 0.071289*m**2\n",
    "A_window = np.pi*(10*inch)**2\n",
    "\n",
    "# Solid angle estimated with half-angle relationship below\n",
    "Ω_hot = 2 * np.pi * (1-np.cos(np.deg2rad(15)))\n",
    "Ω_cold = 2*np.pi-Ω_hot # Solid angle of cold\n",
    "\n",
    "\n",
    "print(\"%s of mask sees %1.2f Sr\" % (A.to(UR.cm**2), Ω_hot))\n"
   ]
  },
  {
   "cell_type": "markdown",
   "metadata": {},
   "source": [
    "![Heat transfer](data/bgd.png)"
   ]
  },
  {
   "cell_type": "code",
   "execution_count": 45,
   "metadata": {},
   "outputs": [],
   "source": [
    "L = 1 * m\n",
    "R_mask = (5 * inch)/L\n",
    "R_window = (10 * inch)/L\n",
    "R_i = R_window\n",
    "R_j = R_mask\n",
    "\n",
    "S = 1 + (1 + R_j**2)/R_i**2\n",
    "F_window_to_mask = 1/2 * (S - np.sqrt(S**2 - 4*(R_j/R_i)**2))"
   ]
  },
  {
   "cell_type": "code",
   "execution_count": 46,
   "metadata": {},
   "outputs": [
    {
     "data": {
      "text/html": [
       "0.014938668699873148 dimensionless"
      ],
      "text/latex": [
       "$0.014938668699873148\\ dimensionless$"
      ],
      "text/plain": [
       "<Quantity(0.014938668699873148, 'dimensionless')>"
      ]
     },
     "execution_count": 46,
     "metadata": {},
     "output_type": "execute_result"
    }
   ],
   "source": [
    "F_window_to_mask"
   ]
  },
  {
   "cell_type": "markdown",
   "metadata": {},
   "source": [
    "## Setup: Constants"
   ]
  },
  {
   "cell_type": "code",
   "execution_count": 100,
   "metadata": {},
   "outputs": [],
   "source": [
    "absorption = 0.25 # Worst case absorption of mask material, probably is half this.\n",
    "T_dewar = 120*K\n",
    "T_bar_limit = 130*K\n",
    "N_bars=50\n",
    "K_Al = 100 * W/m/K # Thermal conductance\n",
    "\n",
    "ϵ_mask = .15"
   ]
  },
  {
   "cell_type": "markdown",
   "metadata": {},
   "source": [
    "## Calculate the in/out power from the slitmask"
   ]
  },
  {
   "cell_type": "code",
   "execution_count": 79,
   "metadata": {},
   "outputs": [],
   "source": [
    "def exchange12(T_1=120*K, T_2=120*K, ϵ_1=1, ϵ_2=1, F_12=1, A_1=1*m**2, A_2=1*m**2):\n",
    "    num = σ*(T_1**4 - T_2**4)\n",
    "    den = (1-ϵ_1)/(ϵ_1*A_1) + 1/(A_1*F_12) + (1-ϵ_2)/(ϵ_2*A_2)\n",
    "    return num/den"
   ]
  },
  {
   "cell_type": "code",
   "execution_count": 80,
   "metadata": {},
   "outputs": [
    {
     "name": "stdout",
     "output_type": "stream",
     "text": [
      "Entire masks sees: 0.8633863801603564 watt power\n"
     ]
    }
   ],
   "source": [
    "P_window_to_mask = A_window * F_window_to_mask * σ * ( (270*K)**4 - (T_dewar + 10*K)**4)\n",
    "print(\"Entire masks sees: %s power\" % P_window_to_mask.to(W))"
   ]
  },
  {
   "cell_type": "code",
   "execution_count": 101,
   "metadata": {},
   "outputs": [
    {
     "name": "stdout",
     "output_type": "stream",
     "text": [
      "Entire masks sees: 0.8633863801603564 watt power if only BB exchange\n",
      "Entire masks sees: 0.7111205871983383 watt power\n"
     ]
    }
   ],
   "source": [
    "# Exchange from 1->2: Window -> Mask\n",
    "P_window_to_mask_blackbody = exchange12(T_1=270*K, T_2=T_bar_limit, ϵ_1=1, ϵ_2=1, F_12=F_window_to_mask, A_1=A_window,\n",
    "                             A_2=A_mask)\n",
    "print(\"Entire masks sees: %s power if only BB exchange\" % P_window_to_mask_blackbody.to(W))\n",
    "\n",
    "P_window_to_mask = exchange12(T_1=270*K, T_2=T_bar_limit, ϵ_1=.25, ϵ_2=ϵ_mask, F_12=F_window_to_mask, A_1=A_window,\n",
    "                             A_2=A_mask)\n",
    "print(\"Entire masks sees: %s power\" % P_window_to_mask.to(W))"
   ]
  },
  {
   "cell_type": "code",
   "execution_count": 82,
   "metadata": {},
   "outputs": [
    {
     "name": "stdout",
     "output_type": "stream",
     "text": [
      "Each bar sees 0.014222411743966766 watt power\n"
     ]
    }
   ],
   "source": [
    "P_incident_bar = P_window_to_mask/N_bars\n",
    "print(\"Each bar sees %s power\" % P_incident_bar.to(W))"
   ]
  },
  {
   "cell_type": "markdown",
   "metadata": {},
   "source": [
    "Now compute cooling"
   ]
  },
  {
   "cell_type": "code",
   "execution_count": 102,
   "metadata": {},
   "outputs": [
    {
     "name": "stdout",
     "output_type": "stream",
     "text": [
      "Mask cools by -0.06744884908654482 watt\n"
     ]
    }
   ],
   "source": [
    "A_mask = A_window/2\n",
    "P_mask_to_all = A_mask * σ * (T_dewar**4 - (T_bar_limit)**4) * ϵ_mask\n",
    "print(\"Mask cools by %s\" % P_mask_to_all.to(W))"
   ]
  },
  {
   "cell_type": "code",
   "execution_count": 103,
   "metadata": {},
   "outputs": [
    {
     "name": "stdout",
     "output_type": "stream",
     "text": [
      "Mask heating / dewar cooling is -0.09 aka ~ 0\n"
     ]
    }
   ],
   "source": [
    "d = P_mask_to_all/P_window_to_mask\n",
    "print(\"Mask heating / dewar cooling is %1.2f aka ~ 0\" % d.magnitude)"
   ]
  },
  {
   "cell_type": "markdown",
   "metadata": {},
   "source": [
    "## Heat conductance across bar"
   ]
  },
  {
   "cell_type": "markdown",
   "metadata": {},
   "source": []
  },
  {
   "cell_type": "code",
   "execution_count": 105,
   "metadata": {},
   "outputs": [
    {
     "data": {
      "text/html": [
       "0.7167199619006873 kelvin"
      ],
      "text/latex": [
       "$0.7167199619006873\\ \\mathrm{kelvin}$"
      ],
      "text/plain": [
       "<Quantity(0.7167199619006873, 'kelvin')>"
      ]
     },
     "execution_count": 105,
     "metadata": {},
     "output_type": "execute_result"
    }
   ],
   "source": [
    "L = 8*inch\n",
    "\n",
    "# Cross sectional area of bar\n",
    "A_cross = (1/16)*inch * 1*inch\n",
    "\n",
    "\n",
    "Delta_T = P_incident_bar * L / K_Al / A_cross\n",
    "Delta_T.to(K)"
   ]
  },
  {
   "cell_type": "code",
   "execution_count": null,
   "metadata": {},
   "outputs": [],
   "source": []
  },
  {
   "cell_type": "code",
   "execution_count": null,
   "metadata": {},
   "outputs": [],
   "source": []
  },
  {
   "cell_type": "code",
   "execution_count": null,
   "metadata": {},
   "outputs": [],
   "source": []
  }
 ],
 "metadata": {
  "kernelspec": {
   "display_name": "Python 3",
   "language": "python",
   "name": "python3"
  }
 },
 "nbformat": 4,
 "nbformat_minor": 2
}
