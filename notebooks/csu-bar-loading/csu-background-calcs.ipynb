{
 "cells": [
  {
   "cell_type": "code",
   "execution_count": 1,
   "metadata": {},
   "outputs": [
    {
     "name": "stderr",
     "output_type": "stream",
     "text": [
      "/Users/npk/Dropbox/virtualenv/sympy/lib/python3.6/site-packages/matplotlib/font_manager.py:279: UserWarning: Matplotlib is building the font cache using fc-list. This may take a moment.\n",
      "  'Matplotlib is building the font cache using fc-list. '\n"
     ]
    }
   ],
   "source": [
    "# use sympy environment\n",
    "\n",
    "\n",
    "import numpy as np\n",
    "%matplotlib inline\n",
    "from pylab import *\n",
    "import sympy\n",
    "import pint"
   ]
  },
  {
   "cell_type": "markdown",
   "metadata": {},
   "source": [
    "## Setup: Units"
   ]
  },
  {
   "cell_type": "code",
   "execution_count": 2,
   "metadata": {},
   "outputs": [],
   "source": [
    "UR = pint.UnitRegistry()"
   ]
  },
  {
   "cell_type": "code",
   "execution_count": 3,
   "metadata": {},
   "outputs": [],
   "source": [
    "σ = sigma = UR.stefan_boltzmann_constant"
   ]
  },
  {
   "cell_type": "code",
   "execution_count": 4,
   "metadata": {},
   "outputs": [
    {
     "data": {
      "text/html": [
       "401.0547085813 watt/meter<sup>2</sup>"
      ],
      "text/latex": [
       "$401.0547085813\\ \\frac{\\mathrm{watt}}{\\mathrm{meter}^{2}}$"
      ],
      "text/plain": [
       "<Quantity(401.0547085813, 'watt / meter ** 2')>"
      ]
     },
     "execution_count": 4,
     "metadata": {},
     "output_type": "execute_result"
    }
   ],
   "source": [
    "\n",
    "W = UR.watt\n",
    "J = UR.joule\n",
    "g = UR.gram\n",
    "cm = UR.centimeter\n",
    "kg = UR.kilogram\n",
    "m = UR.meter\n",
    "K = UR.kelvin\n",
    "inch = UR.inch\n",
    "\n",
    "# Check that room temp is ~ 400 W/m2\n",
    "P_window = sigma*(290*K)**4\n",
    "P_window.to(W/m**2)"
   ]
  },
  {
   "cell_type": "markdown",
   "metadata": {},
   "source": [
    "## Setup: Geometry"
   ]
  },
  {
   "cell_type": "code",
   "execution_count": 87,
   "metadata": {},
   "outputs": [
    {
     "name": "stdout",
     "output_type": "stream",
     "text": [
      "712.9 cm^2 of mask sees 0.21 Sr of hot\n"
     ]
    }
   ],
   "source": [
    "A = (10*inch)**2\n",
    "A = 0.071289*m**2\n",
    "A_window = np.pi*(10*inch)**2\n",
    "A_mask = A_window/2\n",
    "\n",
    "\n",
    "# Solid angle estimated with half-angle relationship below\n",
    "Ω_hot = 2 * np.pi * (1-np.cos(np.deg2rad(15)))\n",
    "Ω_cold = 2*np.pi-Ω_hot # Solid angle of cold\n",
    "\n",
    "\n",
    "print(\"%4.1f cm^2 of mask sees %1.2f Sr of hot\" % (A.to(UR.cm**2).magnitude, Ω_hot))\n"
   ]
  },
  {
   "cell_type": "markdown",
   "metadata": {},
   "source": [
    "![Heat transfer](data/bgd.png)"
   ]
  },
  {
   "cell_type": "code",
   "execution_count": 72,
   "metadata": {},
   "outputs": [],
   "source": [
    "L = 1 * m\n",
    "R_mask = (5 * inch)/L\n",
    "R_window = (10 * inch)/L\n",
    "R_i = R_window\n",
    "R_j = R_mask\n",
    "\n",
    "S = 1 + (1 + R_j**2)/R_i**2\n",
    "F_window_to_mask = 1/2 * (S - np.sqrt(S**2 - 4*(R_j/R_i)**2))"
   ]
  },
  {
   "cell_type": "code",
   "execution_count": 73,
   "metadata": {},
   "outputs": [
    {
     "data": {
      "text/html": [
       "0.014938668699873148 dimensionless"
      ],
      "text/latex": [
       "$0.014938668699873148\\ dimensionless$"
      ],
      "text/plain": [
       "<Quantity(0.014938668699873148, 'dimensionless')>"
      ]
     },
     "execution_count": 73,
     "metadata": {},
     "output_type": "execute_result"
    }
   ],
   "source": [
    "F_window_to_mask"
   ]
  },
  {
   "cell_type": "markdown",
   "metadata": {},
   "source": [
    "## Setup: Constants"
   ]
  },
  {
   "cell_type": "code",
   "execution_count": 74,
   "metadata": {},
   "outputs": [],
   "source": [
    "absorption = 0.25 # Worst case absorption of mask material, probably is half this.\n",
    "T_dewar = 120*K\n",
    "T_bar_limit = 130*K\n",
    "N_bars=50\n",
    "\n",
    "# Aluminum material properties\n",
    "K_Al = 110 * W/m/K # Thermal conductance\n",
    "C_J = 600 * J/kg/K\n",
    "ρ_al = 2.7 * g/cm**3\n",
    "\n",
    "\n",
    "# Optical properties of materials\n",
    "ϵ_mask = .15\n",
    "ϵ_baffles = .85"
   ]
  },
  {
   "cell_type": "markdown",
   "metadata": {},
   "source": [
    "## Calculate the in/out power from the slitmask"
   ]
  },
  {
   "cell_type": "code",
   "execution_count": 75,
   "metadata": {},
   "outputs": [],
   "source": [
    "def exchange12(T_1=120*K, T_2=120*K, ϵ_1=1, ϵ_2=1, F_12=1, A_1=1*m**2, A_2=1*m**2):\n",
    "    num = σ*(T_1**4 - T_2**4)\n",
    "    den = (1-ϵ_1)/(ϵ_1*A_1) + 1/(A_1*F_12) + (1-ϵ_2)/(ϵ_2*A_2)\n",
    "    return num/den"
   ]
  },
  {
   "cell_type": "code",
   "execution_count": 76,
   "metadata": {},
   "outputs": [
    {
     "name": "stdout",
     "output_type": "stream",
     "text": [
      "Entire masks sees: 0.8633863801603564 watt power\n"
     ]
    }
   ],
   "source": [
    "P_window_to_mask = A_window * F_window_to_mask * σ * ( (270*K)**4 - (T_dewar + 10*K)**4)\n",
    "print(\"Entire masks sees: %s power\" % P_window_to_mask.to(W))"
   ]
  },
  {
   "cell_type": "code",
   "execution_count": 77,
   "metadata": {},
   "outputs": [
    {
     "name": "stdout",
     "output_type": "stream",
     "text": [
      "Entire masks sees: 0.8633863801603564 watt power if only BB exchange\n",
      "Entire masks sees: 0.737 W power for grey exchange\n"
     ]
    }
   ],
   "source": [
    "# Exchange from 1->2: Window -> Mask\n",
    "P_window_to_mask_blackbody = exchange12(T_1=270*K, T_2=T_bar_limit, ϵ_1=1, ϵ_2=1, F_12=F_window_to_mask, A_1=A_window,\n",
    "                             A_2=A_mask)\n",
    "print(\"Entire masks sees: %s power if only BB exchange\" % P_window_to_mask_blackbody.to(W))\n",
    "\n",
    "P_window_to_mask = exchange12(T_1=270*K, T_2=T_bar_limit, ϵ_1=ϵ_baffles, ϵ_2=ϵ_mask, F_12=F_window_to_mask, A_1=A_window,\n",
    "                             A_2=A_mask)\n",
    "print(\"Entire masks sees: %1.3f W power for grey exchange\" % P_window_to_mask.to(W).magnitude)"
   ]
  },
  {
   "cell_type": "code",
   "execution_count": 78,
   "metadata": {},
   "outputs": [
    {
     "name": "stdout",
     "output_type": "stream",
     "text": [
      "Each bar sees 14.7 mW power\n"
     ]
    }
   ],
   "source": [
    "P_incident_bar = P_window_to_mask/N_bars\n",
    "print(\"Each bar sees %3.1f mW power\" % (P_incident_bar.to(W).magnitude*1000))"
   ]
  },
  {
   "cell_type": "markdown",
   "metadata": {},
   "source": [
    "Now compute cooling"
   ]
  },
  {
   "cell_type": "code",
   "execution_count": 79,
   "metadata": {},
   "outputs": [],
   "source": [
    "P_mask_to_all = exchange12(T_1=T_bar_limit, T_2=T_dewar, ϵ_1=.85, ϵ_2=ϵ_baffles, F_12=1, A_1=A_mask,\n",
    "                             A_2=A_mask*10000)"
   ]
  },
  {
   "cell_type": "code",
   "execution_count": 80,
   "metadata": {},
   "outputs": [
    {
     "name": "stdout",
     "output_type": "stream",
     "text": [
      "Mask cools by 0.382 W\n"
     ]
    }
   ],
   "source": [
    "#P_mask_to_all = A_mask * σ * (T_dewar**4 - (T_bar_limit+6*K)**4) * .85\n",
    "print(\"Mask cools by %1.3f W\" % (P_mask_to_all.to(W).magnitude))"
   ]
  },
  {
   "cell_type": "code",
   "execution_count": 81,
   "metadata": {},
   "outputs": [
    {
     "name": "stdout",
     "output_type": "stream",
     "text": [
      "Mask heating / dewar cooling is 0.52 aka ~ 0\n"
     ]
    }
   ],
   "source": [
    "d = np.abs(P_mask_to_all/P_window_to_mask)\n",
    "print(\"Mask heating / dewar cooling is %1.2f aka ~ 0\" % d.magnitude)\n"
   ]
  },
  {
   "cell_type": "markdown",
   "metadata": {},
   "source": [
    "## Temperature gradients due to this heating, limiting case"
   ]
  },
  {
   "cell_type": "markdown",
   "metadata": {},
   "source": [
    "If we now dump about 14.2 mW into one tip of the bar, assume there's a sink at the other end of the bar, what is the magnitude of the thermal gradient?"
   ]
  },
  {
   "cell_type": "code",
   "execution_count": 82,
   "metadata": {},
   "outputs": [
    {
     "name": "stdout",
     "output_type": "stream",
     "text": [
      "Dumping heat in one end, and sinking at the other yield 0.68 K ΔT\n"
     ]
    }
   ],
   "source": [
    "L = 8*inch\n",
    "\n",
    "# Cross sectional area of bar\n",
    "A_cross = (1/16)*inch * 1*inch\n",
    "\n",
    "Delta_T = P_incident_bar * L / K_Al / A_cross\n",
    "print(\"Dumping heat in one end, and sinking at the other yield %1.2f K ΔT\" % (Delta_T.to(K).magnitude))"
   ]
  },
  {
   "cell_type": "markdown",
   "metadata": {},
   "source": [
    "## Thermal time constant of bars"
   ]
  },
  {
   "cell_type": "code",
   "execution_count": 83,
   "metadata": {},
   "outputs": [
    {
     "name": "stdout",
     "output_type": "stream",
     "text": [
      "Time constant is 0.6 min\n"
     ]
    }
   ],
   "source": [
    "time_constant = 3 * (C_J * ρ_al * L * A_cross * Delta_T)/P_window_to_mask\n",
    "\n",
    "print(\"Time constant is %2.1f min\" % (time_constant.to(UR.minute).magnitude))"
   ]
  },
  {
   "cell_type": "code",
   "execution_count": 85,
   "metadata": {},
   "outputs": [
    {
     "data": {
      "image/png": "[encoded data removed]",
      "text/plain": [
       "<matplotlib.figure.Figure at 0x10facc400>"
      ]
     },
     "metadata": {},
     "output_type": "display_data"
    }
   ],
   "source": [
    "v = np.arange(120,130)\n",
    "ΔP = A_mask * σ * (.85*T_dewar**4 - (v*K)**4) \n",
    "#def exchange12(T_1=120*K, T_2=120*K, ϵ_1=1, ϵ_2=1, F_12=1, A_1=1*m**2, A_2=1*m**2):\n",
    "\n",
    "ΔP = exchange12(T_2=v*K, ϵ_1=1, ϵ_2=.85, F_12=1, A_1=4*np.pi*(1*m)**2,A_2=A_mask)\n",
    "plot(v,-ΔP.to(W).magnitude)\n",
    "axhline(P_window_to_mask.to(W).magnitude)\n",
    "grid(True)"
   ]
  },
  {
   "cell_type": "code",
   "execution_count": null,
   "metadata": {},
   "outputs": [],
   "source": []
  },
  {
   "cell_type": "code",
   "execution_count": null,
   "metadata": {},
   "outputs": [],
   "source": []
  }
 ],
 "metadata": {
  "kernelspec": {
   "display_name": "Python 3",
   "language": "python",
   "name": "python3"
  },
  "language_info": {
   "codemirror_mode": {
    "name": "ipython",
    "version": 3
   },
   "file_extension": ".py",
   "mimetype": "text/x-python",
   "name": "python",
   "nbconvert_exporter": "python",
   "pygments_lexer": "ipython3",
   "version": "3.6.1"
  }
 },
 "nbformat": 4,
 "nbformat_minor": 2
}
