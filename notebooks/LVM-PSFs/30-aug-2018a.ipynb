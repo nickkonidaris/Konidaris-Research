{
 "cells": [
  {
   "cell_type": "markdown",
   "metadata": {},
   "source": [
    "Data produced in Zemax and process for LVM\n",
    "\n",
    "30-aug-2018\n",
    "npk\n"
   ]
  },
  {
   "cell_type": "code",
   "execution_count": 46,
   "metadata": {
    "collapsed": true
   },
   "outputs": [],
   "source": [
    "import numpy as np\n",
    "import os\n",
    "\n",
    "%matplotlib inline\n",
    "from pylab import *\n",
    "\n"
   ]
  },
  {
   "cell_type": "code",
   "execution_count": null,
   "metadata": {
    "collapsed": true
   },
   "outputs": [],
   "source": []
  },
  {
   "cell_type": "code",
   "execution_count": 47,
   "metadata": {},
   "outputs": [],
   "source": [
    "f = open(\"30-aug-2018a.txt\", encoding=\"utf8\")\n",
    "lines = f.readlines()\n",
    "f.close()"
   ]
  },
  {
   "cell_type": "code",
   "execution_count": 48,
   "metadata": {},
   "outputs": [
    {
     "data": {
      "text/plain": [
       "114"
      ]
     },
     "execution_count": 48,
     "metadata": {},
     "output_type": "execute_result"
    }
   ],
   "source": [
    "len(lines)"
   ]
  },
  {
   "cell_type": "code",
   "execution_count": 49,
   "metadata": {},
   "outputs": [],
   "source": [
    "\n",
    "new = True\n",
    "PSFs = []\n",
    "psf = []\n",
    "for line in lines:\n",
    "    try:\n",
    "        sp = line.split()\n",
    "        dat = list(map(float, sp))\n",
    "    except:\n",
    "        continue\n",
    "        \n",
    "        \n",
    "    if len(dat) == 0 and new == False:\n",
    "        PSFs.append(np.array(psf))\n",
    "        psf = []\n",
    "        new = True\n",
    "        continue\n",
    "    \n",
    "    if len(dat) == 0 and new == True:\n",
    "        continue\n",
    "        \n",
    "    new = False\n",
    "    psf.append(dat)\n",
    "    "
   ]
  },
  {
   "cell_type": "code",
   "execution_count": 84,
   "metadata": {},
   "outputs": [
    {
     "data": {
      "image/png": "[encoded data removed]",
      "text/plain": [
       "<matplotlib.figure.Figure at 0x10ce47f28>"
      ]
     },
     "metadata": {},
     "output_type": "display_data"
    }
   ],
   "source": [
    "d = PSFs[3] - PSFs[0]\n",
    "mx = np.max(PSFs[0])\n",
    "\n",
    "\n",
    "figure(figsize=(15,4))\n",
    "imshow(d/mx, vmin=-.05, vmax=0.05)\n",
    "colorbar()\n",
    "\n",
    "cargs = {\"shrink\": 0.7}\n",
    "iargs = {\"vmin\": -0.05, \"vmax\": 0.05}\n",
    "\n",
    "subplot(1,4,1)\n",
    "imshow(PSFs[0]/mx) ; colorbar(**cargs)\n",
    "title(\"PSF\")\n",
    "\n",
    "subplot(1,4,2)\n",
    "d = PSFs[1] - PSFs[0]\n",
    "imshow(d/mx, **iargs) ; colorbar(**cargs)\n",
    "title(\"Rx - 1.8% off\")\n",
    "\n",
    "subplot(1,4,3)\n",
    "d = PSFs[2] - PSFs[0]\n",
    "imshow(d/mx, **iargs) ; colorbar(**cargs)\n",
    "title(\"Rx - 3.6% off\")\n",
    "\n",
    "subplot(1,4,4)\n",
    "d = PSFs[3] - PSFs[0]\n",
    "imshow(d/mx,  **iargs) ; colorbar(**cargs)\n",
    "title(\"Rx - 5.4% off\")\n",
    "\n",
    "tight_layout()"
   ]
  },
  {
   "cell_type": "code",
   "execution_count": 58,
   "metadata": {},
   "outputs": [
    {
     "data": {
      "text/plain": [
       "<matplotlib.colorbar.Colorbar at 0x110043cf8>"
      ]
     },
     "execution_count": 58,
     "metadata": {},
     "output_type": "execute_result"
    },
    {
     "data": {
      "image/png": "[encoded data removed]",
      "text/plain": [
       "<matplotlib.figure.Figure at 0x11005aa20>"
      ]
     },
     "metadata": {},
     "output_type": "display_data"
    }
   ],
   "source": [
    "imshow(PSFs[0]/mx) ; colorbar()"
   ]
  },
  {
   "cell_type": "code",
   "execution_count": null,
   "metadata": {
    "collapsed": true
   },
   "outputs": [],
   "source": []
  }
 ],
 "metadata": {
  "kernelspec": {
   "display_name": "Python 3",
   "language": "python",
   "name": "python3"
  },
  "language_info": {
   "codemirror_mode": {
    "name": "ipython",
    "version": 3
   },
   "file_extension": ".py",
   "mimetype": "text/x-python",
   "name": "python",
   "nbconvert_exporter": "python",
   "pygments_lexer": "ipython3",
   "version": "3.6.1"
  }
 },
 "nbformat": 4,
 "nbformat_minor": 2
}
