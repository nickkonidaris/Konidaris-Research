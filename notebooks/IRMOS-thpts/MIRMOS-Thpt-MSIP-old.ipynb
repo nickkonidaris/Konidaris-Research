{
 "cells": [
  {
   "cell_type": "code",
   "execution_count": null,
   "metadata": {
    "collapsed": true
   },
   "outputs": [],
   "source": [
    "import numpy as np\n",
    "import matplotlib\n",
    "from scipy.interpolate import interpolate as II\n",
    "from pylab import *\n",
    "from astropy.convolution import convolve\n",
    "from astropy.convolution import convolve, Gaussian1DKernel, Box1DKernel\n",
    "\n",
    "ion()\n",
    "\n",
    "_ = np.array"
   ]
  },
  {
   "cell_type": "markdown",
   "metadata": {},
   "source": [
    "# Optics"
   ]
  },
  {
   "cell_type": "code",
   "execution_count": 2,
   "metadata": {
    "collapsed": true
   },
   "outputs": [],
   "source": [
    "# Wl(mi)  2Wndos   Col #1   Mirror   Col #2   Col #3   Col #4   Col #5   Col #6\n",
    "tbl = '''0.850   0.9481   0.9514   0.9531   0.9684   0.9276   0.9556   0.9250   0.9706\n",
    "0.975   0.9681   0.9714   0.9731   0.9884   0.9476   0.9756   0.9750   0.9906\n",
    "0.985   0.9724   0.9716   0.9737   0.9896   0.9539   0.9814   0.9765   0.9909\n",
    "1.000   0.9787   0.9720   0.9744   0.9895   0.9644   0.9882   0.9772   0.9894\n",
    "1.100   0.9530   0.9730   0.9772   0.9805   0.9937   0.9865   0.9809   0.9869\n",
    "1.200   0.9303   0.9774   0.9822   0.9903   0.9922   0.9928   0.9769   0.9927\n",
    "1.300   0.9461   0.9733   0.9848   0.9856   0.9827   0.9889   0.9789   0.9861\n",
    "1.400   0.9635   0.9725   0.9862   0.9798   0.9766   0.9836   0.9828   0.9816\n",
    "1.500   0.9628   0.9783   0.9869   0.9806   0.9762   0.9832   0.9861   0.9820\n",
    "1.600   0.9518   0.9838   0.9885   0.9835   0.9795   0.9850   0.9874   0.9842\n",
    "1.700   0.9452   0.9840   0.9901   0.9840   0.9850   0.9852   0.9861   0.9834\n",
    "1.800   0.9465   0.9805   0.9925   0.9799   0.9900   0.9849   0.9839   0.9811\n",
    "1.900   0.9555   0.9765   0.9931   0.9777   0.9935   0.9846   0.9823   0.9810\n",
    "2.000   0.9671   0.9755   0.9938   0.9779   0.9948   0.9854   0.9826   0.9812\n",
    "2.100   0.9797   0.9770   0.9946   0.9801   0.9938   0.9873   0.9846   0.9828\n",
    "2.200   0.9829   0.9789   0.9952   0.9821   0.9907   0.9884   0.9856   0.9842\n",
    "2.300   0.9813   0.9795   0.9956   0.9829   0.9854   0.9879   0.9849   0.9848\n",
    "2.400   0.9683   0.9774   0.9960   0.9811   0.9794   0.9829   0.9816   0.9820'''\n",
    "\n",
    "# Wl(mi) Cam #1   Cam #2 Cam #3  Cam #4 Cam #5 Cam #6 Cam #7 \n",
    "tbl2 = '''0.850 0.9463  0.9544 0.9572  0.9583 0.9644 0.9249 0.9563\n",
    "0.975   0.9663  0.9744 0.9772  0.9783 0.9844 0.9449 0.9763        \n",
    "0.985   0.9669  0.9828 0.9827  0.9830 0.9852 0.9568 0.9822 \n",
    "1.000   0.9673  0.9874 0.9855  0.9878 0.9859 0.9729 0.9870 \n",
    "1.100   0.9706  0.9855 0.9909  0.9907 0.9802 0.9777 0.9908 \n",
    "1.200   0.9771  0.9848 0.9848  0.9887 0.9863 0.9712 0.9851 \n",
    "1.300   0.9722  0.9832 0.9842  0.9826 0.9886 0.9766 0.9850 \n",
    "1.400   0.9720  0.9837 0.9903  0.9819 0.9901 0.9820 0.9904 \n",
    "1.500   0.9776  0.9865 0.9949  0.9852 0.9917 0.9856 0.9936 \n",
    "1.600   0.9814  0.9869 0.9940  0.9888 0.9915 0.9856 0.9916 \n",
    "1.700   0.9804  0.9852 0.9891  0.9889 0.9910 0.9837 0.9866 \n",
    "1.800   0.9776  0.9825 0.9853  0.9885 0.9901 0.9813 0.9827 \n",
    "1.900   0.9747  0.9826 0.9843  0.9888 0.9894 0.9805 0.9823 \n",
    "2.000   0.9741  0.9843 0.9856  0.9897 0.9906 0.9809 0.9831 \n",
    "2.100   0.9762  0.9880 0.9884  0.9908 0.9914 0.9847 0.9864 \n",
    "2.200   0.9790  0.9917 0.9898  0.9909 0.9901 0.9882 0.9868 \n",
    "2.300   0.9783  0.9934 0.9887  0.9884 0.9872 0.9889 0.9861 \n",
    "2.400   0.9749  0.9913 0.9837  0.9832 0.9821 0.9864 0.9792'''"
   ]
  },
  {
   "cell_type": "code",
   "execution_count": 3,
   "metadata": {
    "collapsed": true
   },
   "outputs": [],
   "source": [
    "opt1 = np.fromstring(tbl, sep=' \\n')\n",
    "opt2 = np.fromstring(tbl2, sep=' \\n')"
   ]
  },
  {
   "cell_type": "code",
   "execution_count": 4,
   "metadata": {},
   "outputs": [],
   "source": [
    "opt1 = opt1.reshape((18, 9))\n",
    "opt2 = opt2.reshape((18, 8))"
   ]
  },
  {
   "cell_type": "code",
   "execution_count": 5,
   "metadata": {},
   "outputs": [],
   "source": [
    "l, windows2, col1, mirror, col2, col3, col4, col5 = opt2.T\n",
    "\n",
    "ADC = windows2\n",
    "corr = windows2 * col1\n",
    "col = col1*col2*col3\n",
    "dichroic = mirror\n",
    "\n"
   ]
  },
  {
   "cell_type": "code",
   "execution_count": 6,
   "metadata": {
    "collapsed": true
   },
   "outputs": [],
   "source": [
    "l, c1, c2, c3, c4, c5, c6, c7 = opt2.T\n",
    "camera = c1*c2*c3*c4*c5*c6*c7 * c5 # Multiply by another for filter"
   ]
  },
  {
   "cell_type": "markdown",
   "metadata": {},
   "source": [
    "# Detector"
   ]
  },
  {
   "cell_type": "code",
   "execution_count": 7,
   "metadata": {
    "collapsed": true
   },
   "outputs": [],
   "source": [
    "QE = lambda x: 0.85"
   ]
  },
  {
   "cell_type": "markdown",
   "metadata": {},
   "source": [
    "# Telescope"
   ]
  },
  {
   "cell_type": "code",
   "execution_count": 8,
   "metadata": {
    "collapsed": true
   },
   "outputs": [],
   "source": [
    "tel = lambda x: 0.95**3"
   ]
  },
  {
   "cell_type": "markdown",
   "metadata": {},
   "source": [
    "# Stops - Pupil and Lyot"
   ]
  },
  {
   "cell_type": "code",
   "execution_count": 9,
   "metadata": {
    "collapsed": true
   },
   "outputs": [],
   "source": [
    "stops = lambda x: 0.95"
   ]
  },
  {
   "cell_type": "markdown",
   "metadata": {},
   "source": [
    "# Margin"
   ]
  },
  {
   "cell_type": "code",
   "execution_count": 10,
   "metadata": {
    "collapsed": true
   },
   "outputs": [],
   "source": [
    "margin = lambda x: 0.8"
   ]
  },
  {
   "cell_type": "markdown",
   "metadata": {},
   "source": [
    "# Optics + Detector + Tel"
   ]
  },
  {
   "cell_type": "code",
   "execution_count": 11,
   "metadata": {},
   "outputs": [],
   "source": [
    "thpt_optdet = II.interp1d(l, ADC*corr*col*camera * QE(l) * tel(l) * margin(l) * stops(l), bounds_error=False, fill_value=0)"
   ]
  },
  {
   "cell_type": "markdown",
   "metadata": {},
   "source": [
    "# VPHG"
   ]
  },
  {
   "cell_type": "code",
   "execution_count": 12,
   "metadata": {},
   "outputs": [
    {
     "data": {
      "image/png": "[encoded data removed]",
      "text/plain": [
       "<matplotlib.figure.Figure at 0x115df3f28>"
      ]
     },
     "metadata": {},
     "output_type": "display_data"
    }
   ],
   "source": [
    "ly = _([0.886, 1.02, 1.08, 1.12])\n",
    "ty = _([.86, .98, .9, .8])\n",
    "fy = np.poly1d(np.polyfit(ly,ty,2)) * .95\n",
    "\n",
    "lj = _([1.106, 1.260, 1.340, 1.400]) \n",
    "tj = _([.9, .98, .9, .8])\n",
    "fj = np.poly1d(np.polyfit(lj,tj,2)) *.95\n",
    "\n",
    "lh = _([1.46, 1.6, 1.73, 1.8])\n",
    "th = _([.9, .98, .9, .8])\n",
    "fh = np.poly1d(np.polyfit(lh,th,2)) * .95\n",
    "\n",
    "lk = _([1.92, 2.1, 2.3, 2.4])\n",
    "tk = _([.9, .98, .9, .8]) \n",
    "fk = np.poly1d(np.polyfit(lk, tk, 2)) * .95\n",
    "\n",
    "#plot(ly,ty)\n",
    "plot(ly, fy(ly))\n",
    "plot(lj, fj(lj))\n",
    "plot(lh, fh(lh))\n",
    "plot(lk, fk(lk))\n",
    "\n",
    "ylim(0,1)\n",
    "show()"
   ]
  },
  {
   "cell_type": "markdown",
   "metadata": {},
   "source": [
    "# Atmosphere"
   ]
  },
  {
   "cell_type": "code",
   "execution_count": 15,
   "metadata": {},
   "outputs": [
    {
     "data": {
      "text/plain": [
       "1.4"
      ]
     },
     "execution_count": 15,
     "metadata": {},
     "output_type": "execute_result"
    }
   ],
   "source": [
    "latm1.min()"
   ]
  },
  {
   "cell_type": "code",
   "execution_count": 13,
   "metadata": {},
   "outputs": [
    {
     "data": {
      "image/png": "[encoded data removed]",
      "text/plain": [
       "<matplotlib.figure.Figure at 0x1151d7390>"
      ]
     },
     "metadata": {},
     "output_type": "display_data"
    }
   ],
   "source": [
    "try:\n",
    "    dat1\n",
    "except:\n",
    "    dat1 = np.loadtxt(\"atran.smo.12555.dat.txt\")\n",
    "    dat2 = np.loadtxt(\"atran.smo.12560.dat.txt\")\n",
    "    \n",
    "    \n",
    "x, latm1, tatm1 = dat1.T\n",
    "x, latm2, tatm2 = dat2.T\n",
    "\n",
    "latm = np.concatenate([latm2, latm1])\n",
    "tatm = np.concatenate([tatm2, tatm1])\n",
    "\n",
    "latm.shape\n",
    "\n",
    "box_kernel = Box1DKernel(355)\n",
    "plot(latm, convolve(tatm, box_kernel));"
   ]
  },
  {
   "cell_type": "code",
   "execution_count": 14,
   "metadata": {
    "collapsed": true
   },
   "outputs": [],
   "source": [
    "tpt_atm = II.interp1d(latm, convolve(tatm, box_kernel))"
   ]
  },
  {
   "cell_type": "code",
   "execution_count": null,
   "metadata": {
    "collapsed": true
   },
   "outputs": [],
   "source": [
    "font = {'family' : 'normal',\n",
    "        'weight' : 'normal',\n",
    "        'size'   : 22}\n",
    "\n",
    "matplotlib.rc(\"font\", **font)"
   ]
  },
  {
   "cell_type": "code",
   "execution_count": null,
   "metadata": {},
   "outputs": [],
   "source": [
    "f = figure(figsize=(10,5))\n",
    "\n",
    "plot(l,thpt_optdet(l), lw=3, color='blue')\n",
    "xlabel(r\"Wavelength [$\\mu m$]\")\n",
    "ylabel(\"Transmission\")\n",
    "\n",
    "ly = np.linspace(np.min(ly), np.max(ly), 150)\n",
    "lj = np.linspace(np.min(lj), np.max(lj), 150)\n",
    "lh = np.linspace(np.min(lh), np.max(lh), 150)\n",
    "lk = np.linspace(np.min(lk), np.max(lk), 150)\n",
    "\n",
    "\n",
    "for s in [\"y\", \"j\", \"h\", \"k\"]:\n",
    "    \n",
    "    band_thpt = eval(\"thpt_optdet(l%s) * tpt_atm(l%s) * f%s(l%s)\" % (s,s,s,s))\n",
    "    eval(\"plot(l%s, band_thpt, lw=6, color='black')\" % s)\n",
    "    eval(\"plot(l%s, f%s(l%s), lw=2, color='red')\" % (s,s,s))\n",
    "    #eval(\"plot(l, f%s(l), color='black', lw=.25)\" % s)\n",
    "    \n",
    "\n",
    "    \n",
    "\n",
    "l = np.linspace(np.min(ly), np.max(lk), 1000)\n",
    "plot(l, tpt_atm(l), color='black', lw=.5)\n",
    "\n",
    "text(2.1, 1.0, \"Atmosphere\")\n",
    "text(2.42, 0.77, \"Blaze\", color=\"red\")\n",
    "text(2.05, 0.55, \"Tel. * ADC * Inst.\", color='Blue')\n",
    "\n",
    "yp = .65\n",
    "text(1.00, yp, \"Y\", color='red')\n",
    "text(1.25, yp, \"J\", color='red')\n",
    "text(1.55, yp, \"H\", color='red')\n",
    "text(2.10, yp, \"K\", color='red')\n",
    "\n",
    "\n",
    "\n",
    "font = {'family' : 'normal',\n",
    "        'weight' : 'bold'}\n",
    "text(2.1, 0.1, \"Total\", color='black', fontdict=font)\n",
    "\n",
    "\n",
    "\n",
    "ylim(0,1.1)\n",
    "xlim(0.9,2.6)\n",
    "grid(True)\n",
    "\n",
    "tight_layout()\n",
    "\n",
    "\n",
    "f.savefig(\"MIRMOS-thpt.pdf\")"
   ]
  },
  {
   "cell_type": "code",
   "execution_count": null,
   "metadata": {
    "collapsed": true
   },
   "outputs": [],
   "source": [
    "?text"
   ]
  },
  {
   "cell_type": "code",
   "execution_count": null,
   "metadata": {
    "collapsed": true
   },
   "outputs": [],
   "source": []
  },
  {
   "cell_type": "code",
   "execution_count": null,
   "metadata": {
    "collapsed": true
   },
   "outputs": [],
   "source": []
  }
 ],
 "metadata": {
  "kernelspec": {
   "display_name": "Python 2",
   "language": "python",
   "name": "python2"
  },
  "language_info": {
   "codemirror_mode": {
    "name": "ipython",
    "version": 2
   },
   "file_extension": ".py",
   "mimetype": "text/x-python",
   "name": "python",
   "nbconvert_exporter": "python",
   "pygments_lexer": "ipython2",
   "version": "2.7.15"
  }
 },
 "nbformat": 4,
 "nbformat_minor": 2
}
