{
 "cells": [
  {
   "cell_type": "code",
   "execution_count": 1,
   "id": "c4c56636",
   "metadata": {},
   "outputs": [],
   "source": [
    "import numpy as np\n",
    "from pylab import *\n",
    "import astropy.units as uu\n",
    "import astropy.constants as cc\n",
    "import scipy.interpolate as II"
   ]
  },
  {
   "cell_type": "code",
   "execution_count": 2,
   "id": "956ab9ea",
   "metadata": {},
   "outputs": [
    {
     "data": {
      "image/png": "[encoded data removed]",
      "text/plain": [
       "<Figure size 432x288 with 1 Axes>"
      ]
     },
     "metadata": {
      "needs_background": "light"
     },
     "output_type": "display_data"
    }
   ],
   "source": [
    "\n",
    "throughput_string = \"\"\"300\t0.00\n",
    "320\t0.02\n",
    "340\t0.05\n",
    "360\t0.08\n",
    "380\t0.12\n",
    "400\t0.18\n",
    "420\t0.24\n",
    "440\t0.30\n",
    "460\t0.34\n",
    "480\t0.37\n",
    "500\t0.39\n",
    "520\t0.40\n",
    "540\t0.41\n",
    "560\t0.40\n",
    "580\t0.37\n",
    "600\t0.34\n",
    "620\t0.34\n",
    "640\t0.35\n",
    "660\t0.35\n",
    "680\t0.34\n",
    "700\t0.34\n",
    "720\t0.31\n",
    "740\t0.28\n",
    "760\t0.29\n",
    "780\t0.35\n",
    "800\t0.41\n",
    "820\t0.41\n",
    "840\t0.40\n",
    "860\t0.39\n",
    "880\t0.37\n",
    "900\t0.35\n",
    "920\t0.29\n",
    "940\t0.23\n",
    "960\t0.17\n",
    "980\t0.11\n",
    "1000\t0.06\"\"\" # From photon budget 0.9\n",
    "\n",
    "lam, thpts = np.fromstring(throughput_string, sep=\"\\t\").reshape((36,2)).T\n",
    "thpt_function_nm = II.interp1d(lam, thpts)\n",
    "\n",
    "x = np.linspace(300,1000,1000)\n",
    "\n",
    "plot(x, thpt_function_nm(x), '.')\n",
    "plot(lam, thpts, 'o')\n",
    "\n",
    "def A_tel():\n",
    "    return np.pi*(16.1/2*uu.cm)**2\n",
    "\n",
    "def f_lambda_to_DN(ll, f_lambda, dl, exptime):\n",
    "    \"\"\" Convert f_lambda [spectral density] to e-\n",
    "    Args:\n",
    "        ll[N]: Array of wavelengths\n",
    "        f_lambda[N]: Array of f_lambdas [spectral density]\n",
    "        dl[N]: Delta wavelength per (likely) pixel\n",
    "        exptime: exposure time\n",
    "    \"\"\"\n",
    "    \n",
    "    epp = cc.h*cc.c/ll\n",
    "    \n",
    "    return (f_lambda * exptime * A_tel() * dl * thpt_function_nm(ll.to(uu.nm).value) / epp).decompose()\n",
    "    "
   ]
  },
  {
   "cell_type": "code",
   "execution_count": 3,
   "id": "d54621cf",
   "metadata": {},
   "outputs": [],
   "source": [
    "fl = uu.erg/uu.s/uu.cm**2/uu.angstrom\n",
    "q = f_lambda_to_DN(500*uu.nm, 1*fl, 1*uu.angstrom, 900*uu.s)"
   ]
  },
  {
   "cell_type": "code",
   "execution_count": 4,
   "id": "e179e565",
   "metadata": {},
   "outputs": [
    {
     "data": {
      "text/latex": [
       "$1.7986308 \\times 10^{16} \\; \\mathrm{}$"
      ],
      "text/plain": [
       "<Quantity 1.79863078e+16>"
      ]
     },
     "execution_count": 4,
     "metadata": {},
     "output_type": "execute_result"
    }
   ],
   "source": [
    "q"
   ]
  },
  {
   "cell_type": "code",
   "execution_count": null,
   "id": "c22a1cfe",
   "metadata": {},
   "outputs": [],
   "source": []
  }
 ],
 "metadata": {
  "kernelspec": {
   "display_name": "Python 3 (ipykernel)",
   "language": "python",
   "name": "python3"
  },
  "language_info": {
   "codemirror_mode": {
    "name": "ipython",
    "version": 3
   },
   "file_extension": ".py",
   "mimetype": "text/x-python",
   "name": "python",
   "nbconvert_exporter": "python",
   "pygments_lexer": "ipython3",
   "version": "3.10.4"
  }
 },
 "nbformat": 4,
 "nbformat_minor": 5
}
