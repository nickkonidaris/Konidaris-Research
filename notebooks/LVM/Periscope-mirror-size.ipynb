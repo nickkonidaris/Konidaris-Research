{
 "cells": [
  {
   "cell_type": "code",
   "execution_count": 3,
   "metadata": {
    "collapsed": true
   },
   "outputs": [],
   "source": [
    "import numpy as np\n",
    "%matplotlib inline\n",
    "import astropy\n",
    "\n",
    "import astropy.units as uu\n",
    "\n",
    "from pylab import *"
   ]
  },
  {
   "cell_type": "code",
   "execution_count": 4,
   "metadata": {},
   "outputs": [
    {
     "data": {
      "text/latex": [
       "$\\mathrm{mm}$"
      ],
      "text/plain": [
       "Unit(\"mm\")"
      ]
     },
     "execution_count": 4,
     "metadata": {},
     "output_type": "execute_result"
    }
   ],
   "source": [
    "uu.mm"
   ]
  },
  {
   "cell_type": "code",
   "execution_count": 77,
   "metadata": {
    "collapsed": true
   },
   "outputs": [],
   "source": [
    "def field_size_to_fratio(G, field_size):\n",
    "    \"\"\" Converts grasp into a fnumber  \"\"\"\n",
    "    \n",
    "    angle = G/field_size\n",
    "    \n",
    "    fratio = 1/np.tan(angle)\n",
    "    \n",
    "    return fratio"
   ]
  },
  {
   "cell_type": "code",
   "execution_count": 83,
   "metadata": {},
   "outputs": [
    {
     "name": "stdout",
     "output_type": "stream",
     "text": [
      "Field is 17.31 mm in diameter\n",
      "\n",
      "I should recover focal ratio of (6.0) from conservation laws\n",
      " . . .     5.944335602341794\n",
      "For a field of 50.0 mm the focal ratio is 17.3\n",
      "At that focal ratio focal length is 865 mm\n"
     ]
    }
   ],
   "source": [
    "Dtel = 16*uu.cm\n",
    "fratio = 6.0\n",
    "rtoas = 206265*uu.arcsec\n",
    "scale = Dtel*fratio/rtoas\n",
    "ffov = 62*uu.arcmin\n",
    "\n",
    "# instead of area x solid angle I call grasp diameter x angular field of view\n",
    "G = Dtel * ffov\n",
    "gunit = uu.mm * uu.degree\n",
    "\n",
    "field_size = (ffov * scale).to(uu.mm)\n",
    "print(\"Field is {0:1.2f} in diameter\".format(field_size))\n",
    "print()\n",
    "\n",
    "print(\"I should recover focal ratio of (%s) from conservation laws\" % (fratio))\n",
    "print(\" . . .    \", 1/np.tan((G/field_size)))\n",
    "\n",
    "fs = 50 * uu.mm\n",
    "fr = field_size_to_fratio(G, fs)\n",
    "print(\"For a field of {0:1.1f} the focal ratio is {1:1.1f}\".format(fs, fr))\n",
    "print(\"At that focal ratio focal length is {0:1.0f}\".format(50*uu.mm*fr))\n",
    "\n"
   ]
  },
  {
   "cell_type": "code",
   "execution_count": null,
   "metadata": {
    "collapsed": true
   },
   "outputs": [],
   "source": []
  },
  {
   "cell_type": "code",
   "execution_count": 125,
   "metadata": {},
   "outputs": [
    {
     "data": {
      "image/png": "[encoded data removed]",
      "text/plain": [
       "<matplotlib.figure.Figure at 0x11393f748>"
      ]
     },
     "metadata": {},
     "output_type": "display_data"
    }
   ],
   "source": [
    "Dtel = 16*uu.cm\n",
    "fratio = 6.0\n",
    "rtoas = 206265*uu.arcsec\n",
    "scale = Dtel*fratio/rtoas\n",
    "ffov = np.linspace(62,180,10)*uu.arcmin\n",
    "\n",
    "# instead of area x solid angle I call grasp diameter x angular field of view\n",
    "G = Dtel * ffov\n",
    "gunit = uu.mm * uu.degree\n",
    "\n",
    "field_size = (ffov * scale).to(uu.mm)\n",
    "\n",
    "\n",
    "fs = 50 * uu.mm\n",
    "fr = field_size_to_fratio(G, fs)\n",
    "\n",
    "fig, ax_ang = subplots(figsize=(10,7))\n",
    "ax_diam = ax_ang.twiny()\n",
    "\n",
    "\n",
    "ax_ang.plot(ffov,fr)\n",
    "ax_ang.set_xlabel(\"Telescope full field of view [$'$]\")\n",
    "ylabel(\"Focal ratio\")\n",
    "ax_ang.tick_params(axis=\"x\")\n",
    "ax_ang.set_ylabel('f/#')\n",
    "\n",
    "#title(\"f/# given $D_{tel} \\cdot Field size$\")\n",
    "\n",
    "ax_diam.plot(field_size, fr)\n",
    "ax_diam.tick_params(axis=\"x\")\n",
    "ax_diam.set_xlabel(\"Beam diameter [mm]\")\n",
    "grid(True)\n"
   ]
  },
  {
   "cell_type": "code",
   "execution_count": null,
   "metadata": {
    "collapsed": true
   },
   "outputs": [],
   "source": []
  }
 ],
 "metadata": {
  "kernelspec": {
   "display_name": "Python 3",
   "language": "python",
   "name": "python3"
  },
  "language_info": {
   "codemirror_mode": {
    "name": "ipython",
    "version": 3
   },
   "file_extension": ".py",
   "mimetype": "text/x-python",
   "name": "python",
   "nbconvert_exporter": "python",
   "pygments_lexer": "ipython3",
   "version": "3.6.1"
  }
 },
 "nbformat": 4,
 "nbformat_minor": 2
}
