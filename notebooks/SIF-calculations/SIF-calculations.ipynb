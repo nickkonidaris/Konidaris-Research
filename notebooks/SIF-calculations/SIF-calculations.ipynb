{
 "cells": [
  {
   "cell_type": "code",
   "execution_count": 1,
   "metadata": {
    "collapsed": true
   },
   "outputs": [],
   "source": [
    "import numpy as np\n",
    "%matplotlib inline\n",
    "from pylab import *\n",
    "\n",
    "import scipy.integrate\n",
    "import scipy\n",
    "\n",
    "\n",
    "\n",
    "\n",
    "from collections import namedtuple\n",
    "\n",
    "import numpy as np\n",
    "%matplotlib inline\n",
    "from pylab import *\n",
    "\n",
    "import astropy\n",
    "from astropy import units as ur\n",
    "from astropy import constants as cc\n",
    "import astropy.modeling.blackbody\n",
    "\n"
   ]
  },
  {
   "cell_type": "markdown",
   "metadata": {},
   "source": [
    "## Infrastructure\n",
    "\n",
    "\n",
    "Some approximations\n",
    "$\\Omega \\approx \\pi \\sin^2 \\theta$ and this is equivalent to $\\Omega \\approx \\frac{\\pi}{(2\\cdot f/\\#)^2}$\n",
    "\n",
    "$G_{telescope} = \\Omega_{telescope} \\cdot A_{telescope} \\cdot \\epsilon_{telescope} $"
   ]
  },
  {
   "cell_type": "code",
   "execution_count": 2,
   "metadata": {
    "collapsed": true
   },
   "outputs": [],
   "source": [
    "def theta_to_omega(theta_rad):\n",
    "    \n",
    "    return np.pi * np.sin(theta_rad)**2 * ur.steradian\n",
    "\n",
    "def fnum_to_omega(fnum):\n",
    "    return np.pi /(2*fnum)**2 * ur.steradian"
   ]
  },
  {
   "cell_type": "code",
   "execution_count": 17,
   "metadata": {
    "collapsed": true
   },
   "outputs": [],
   "source": [
    "# Useful constants\n",
    "nm = ur.nm\n",
    "mm = ur.millimeter\n",
    "µm = ur.micrometer\n",
    "sr = ur.steradian\n",
    "hc = cc.h * cc.c\n",
    "\n",
    "\n",
    "\n",
    "# For the system dictionary\n",
    "leff = \"leff\" # Effective wavelength\n",
    "efficiency = \"efficiency\" # Total efficiency of spectrograph slit - to - detector\n",
    "bandwidth = \"bandwidth\" # Slit width of spectrrograph in linear units\n",
    "pixel_pitch = \"pixel_pitch\" # Distance of pixels in micron \n",
    "focal_ratio = \"focal_ratio\" # f/# of the spectrograph camera\n",
    "agl = \"agl\" # Airplane altitude\n",
    "ground_speed = \"ground_speed\" # ground speed\n",
    "objective_ø = \"objective_ø\" # Diameter of objective\n",
    "nsamp = \"nsamp\" # number of samples (GRDs) per resolution\n",
    "rulingdensity = \"rulingdensity\" # Grating ruling density\n",
    "lstart = \"lstart\" # Spectrum starting wavelength\n",
    "lend = \"lend\" # Spectrum ending wavelength"
   ]
  },
  {
   "cell_type": "code",
   "execution_count": 4,
   "metadata": {
    "collapsed": true
   },
   "outputs": [],
   "source": [
    "Reflectivity_Canopy = 0.3 # This is the light reflected back up\n",
    "\n",
    "Leff = 700 * nm\n",
    "EPP = (hc/Leff).to(ur.erg) # Energy per photon"
   ]
  },
  {
   "cell_type": "code",
   "execution_count": 26,
   "metadata": {
    "collapsed": true
   },
   "outputs": [],
   "source": [
    "def print_system(system):\n",
    "    \"\"\" pretty print the system \"\"\"\n",
    "    \n",
    "    print()\n",
    "    print(\"Aircraft\")\n",
    "    print(\"  Altitude: {0:5.0f}   Ground speed: {1:4.0f}\".format(system[agl], system[ground_speed]))\n",
    "    print(\"  *Exposure time: {0:+0.03f}\".format(system_to_et(system)))\n",
    "    \n",
    "    print(\"Front end\")\n",
    "    print(\"  Objective diameter: {0:2.1f}\".format(system[objective_ø]))\n",
    "    print(\"  *GSD: {0:2.1f}   *GRD: {1:2.1f}\".format(system_to_gsd(system), system_to_grd(system)))\n",
    "    \n",
    "    print(\"Spectrograph\")\n",
    "    print(\"  Effective wavelength %8s, thpt @ leff %5s\" % (system[leff], system[efficiency]))\n",
    "    print(\"  Bandwidth %8s\" % (system[bandwidth]))\n",
    "    print(\"  Focal ratio %3.1f\" % system[focal_ratio])\n",
    "\n",
    "    print(\"Detector\")\n",
    "    print(\"  Pixel pitch %8s   # samples %4.1f\" % (system[pixel_pitch], system[nsamp]))\n",
    "    print(\"  Spectrum is %4i pixels long in spectral direction (Prime has 1200 pix)\" % (system_to_spectral_length(system)))\n",
    "    \n",
    "    print()\n",
    "    print(\"* Derived\")\n",
    "    print(\"   GRASP: {0:4.1f}\".format(system_to_grasp(system)))\n",
    "    print(\"\")\n",
    "    "
   ]
  },
  {
   "cell_type": "code",
   "execution_count": 27,
   "metadata": {
    "collapsed": true
   },
   "outputs": [],
   "source": [
    "def system_to_grasp(system, loud=False):\n",
    "    \n",
    "    Omega = fnum_to_omega(system[focal_ratio])\n",
    "    grasp = (system[pixel_pitch]**2 * Omega).to(µm**2 * sr) * system[efficiency]\n",
    "    \n",
    "    if loud: print(\"System grasp is %s\" % grasp)\n",
    "        \n",
    "    return grasp\n",
    "\n",
    "def system_to_fl(system):\n",
    "    \"\"\" Focal length of system \"\"\"\n",
    "    \n",
    "    return system[objective_ø] * system[focal_ratio]\n",
    "\n",
    "def system_to_gsd(system):\n",
    "    \"\"\" Ground sampling distance of system\n",
    "    GSD is the pixel-to-pixel distance in meter\n",
    "    nb GSD is not the same as ground resolution which will be several GSDs\"\"\"\n",
    "    \n",
    "    fl = system_to_fl(system)\n",
    "    theta = system[pixel_pitch]/fl\n",
    "    return (system[agl] * theta).to(ur.meter)\n",
    "\n",
    "def system_to_grd(system):\n",
    "    \"\"\" Ground resolution distance \"\"\"\n",
    "    \n",
    "    return system_to_gsd(system)*system[nsamp]\n",
    "\n",
    "def system_to_et(system):\n",
    "    \"\"\" Time it takes airplane to move one slit distance\n",
    "    (exposure time)\"\"\"\n",
    "    \n",
    "    dist = system_to_grd(system)\n",
    "    speed = system[ground_speed]\n",
    "    \n",
    "    return (dist/speed).to(ur.second)\n",
    "\n",
    "def system_to_spectral_length(system):\n",
    "    ls, le = system[lstart], system[lend]\n",
    "    \n",
    "    dl = le-ls\n",
    "    nr = dl/system[bandwidth]\n",
    "    np = nr * system[nsamp]\n",
    "    \n",
    "    return np.cgs\n",
    "    \n",
    "\n",
    "def system_to_beam_size(system):\n",
    "    \n",
    "    def dtheta(system):\n",
    "        \"\"\" 1.4 is from sin(45 degree) x 2\"\"\"\n",
    "        density = system[rulingdensity]\n",
    "        m=1 ; pitch = 1/density\n",
    "        \n",
    "        return system[bandwidth] /(1.4 * pitch) \n",
    "    \n",
    "    dtheta = dtheta(system)\n",
    "    \n",
    "    focal_length = (system[pixel_pitch] * system[nsamp]) / dtheta\n",
    "    \n",
    "    return (focal_length/system[focal_ratio]).to(ur.mm)"
   ]
  },
  {
   "cell_type": "markdown",
   "metadata": {},
   "source": [
    "\n",
    "Basic idea is that earth emits light at $L_\\lambda$ that has units of $Power/Bandwidth/Etendue$.\n",
    "\n",
    "Based on spectrograph parameters I compute $Etenude$ (or grasp, because efficiency is factored in). \n",
    "\n",
    "I can convert the Power in energy units to a count rate of photon by knowing the energy per photon (aka $epp$).\n"
   ]
  },
  {
   "cell_type": "code",
   "execution_count": 51,
   "metadata": {},
   "outputs": [
    {
     "name": "stdout",
     "output_type": "stream",
     "text": [
      "\n",
      "Aircraft\n",
      "  Altitude:  1000 m   Ground speed:   60 m / s\n",
      "  *Exposure time: +0.198 s\n",
      "Front end\n",
      "  Objective diameter: 1.7 mm\n",
      "  *GSD: 3.3 m   *GRD: 11.9 m\n",
      "Spectrograph\n",
      "  Effective wavelength 720.0 nm, thpt @ leff   0.5\n",
      "  Bandwidth  0.18 nm\n",
      "  Focal ratio 2.0\n",
      "Detector\n",
      "  Pixel pitch  11.0 um   # samples  3.6\n",
      "  Spectrum is  800 pixels long in spectral direction (Prime has 1200 pix)\n",
      "\n",
      "* Derived\n",
      "   GRASP: 11.9 sr um2\n",
      "\n",
      "\n",
      "Swath width at 500 pix 1650.0000000000002 m\n",
      "Ground resolution distance 11.88 m and is traversed in 0.1980 s or 5.1 1 / s\n",
      "\n",
      "Number photons received per et 333374\n",
      "Corresponding SNR pixel limit  577:1 and slit limit 1096:1\n",
      "\n",
      "Beam Size\n",
      "   86 mm\n"
     ]
    }
   ],
   "source": [
    "\n",
    "\n",
    "system ={leff: 720*nm, efficiency: 0.5, bandwidth: 0.18*nm, pixel_pitch: 11 * µm,\n",
    "        focal_ratio: 2, agl: 1000*ur.meter, ground_speed: 60*ur.meter/ur.second,\n",
    "        objective_ø: 5/3.*ur.mm, nsamp: 3.6, rulingdensity: 1800/ur.mm,\n",
    "        lstart: 740*nm, lend: 780*nm}\n",
    "\n",
    "\n",
    "print_system(system)\n",
    "grasp = system_to_grasp(system)\n",
    "f_lambda = Reflectivity_Canopy * 1300*ur.Watt/ur.meter**2/ur.micron/(2*np.pi*ur.sr) # http://www.powerfromthesun.net/Book/chapter02/chapter02.html\n",
    "\n",
    "photon_per_second = (f_lambda / EPP * system[bandwidth] * grasp).cgs * system[nsamp]\n",
    "\n",
    "print()\n",
    "SW = (system_to_gsd(system) * 500).to(ur.meter)\n",
    "print(\"Swath width at 500 pix %s\" % (SW))\n",
    "print(\"Ground resolution distance {0:3.2f} and is traversed in {1:1.4f} or {2:3.1f}\".format(system_to_grd(system),\n",
    "                                                                system_to_et(system),\n",
    "                                                                     1/system_to_et(system)))\n",
    "\n",
    "print()\n",
    "NP = photon_per_second * system_to_et(system)\n",
    "print(\"Number photons received per et %4.0f\" % (NP))\n",
    "print(\"Corresponding SNR pixel limit %4.0f:1 and slit limit %4.0f:1\" % (np.sqrt(NP), \n",
    "                                                                    np.sqrt(NP)*np.sqrt(system[nsamp])))\n",
    "\n",
    "print()\n",
    "print(\"Beam Size\")\n",
    "print(\"  {0:3.0f}\".format(system_to_beam_size(system)))"
   ]
  },
  {
   "cell_type": "markdown",
   "metadata": {
    "collapsed": true
   },
   "source": [
    "# SEE NOTEBOOK Page 3 Aug 2 2018"
   ]
  },
  {
   "cell_type": "code",
   "execution_count": 53,
   "metadata": {},
   "outputs": [
    {
     "name": "stdout",
     "output_type": "stream",
     "text": [
      "\n",
      "Aircraft\n",
      "  Altitude:  1000 m   Ground speed:   60 m / s\n",
      "  *Exposure time: +0.198 s\n",
      "Front end\n",
      "  Objective diameter: 1.7 mm\n",
      "  *GSD: 3.3 m   *GRD: 11.9 m\n",
      "Spectrograph\n",
      "  Effective wavelength 720.0 nm, thpt @ leff   0.5\n",
      "  Bandwidth  0.18 nm\n",
      "  Focal ratio 2.0\n",
      "Detector\n",
      "  Pixel pitch  11.0 um   # samples  3.6\n",
      "  Spectrum is  800 pixels long in spectral direction (Prime has 1200 pix)\n",
      "\n",
      "* Derived\n",
      "   GRASP: 11.9 sr um2\n",
      "\n",
      "\n",
      "Swath width at 500 pix 1650.0000000000002 m\n",
      "Ground resolution distance 11.88 m and is traversed in 0.1980 s or 5.1 1 / s\n",
      "\n",
      "Number photons received per et 333374\n",
      "Corresponding SNR pixel limit  577:1 and slit limit 1096:1\n",
      "\n",
      "Beam Size\n",
      "   86 mm\n"
     ]
    }
   ],
   "source": [
    "\n",
    "\n",
    "system ={leff: 720*nm, efficiency: 0.5, bandwidth: 0.18*nm, pixel_pitch: 11 * µm,\n",
    "        focal_ratio: 2, agl: 1000*ur.meter, ground_speed: 60*ur.meter/ur.second,\n",
    "        objective_ø: 5/3.*ur.mm, nsamp: 3.6, rulingdensity: 1800/ur.mm,\n",
    "        lstart: 740*nm, lend: 780*nm}\n",
    "\n",
    "\n",
    "print_system(system)\n",
    "grasp = system_to_grasp(system)\n",
    "f_lambda = Reflectivity_Canopy * 1300*ur.Watt/ur.meter**2/ur.micron/(2*np.pi*ur.sr) # http://www.powerfromthesun.net/Book/chapter02/chapter02.html\n",
    "\n",
    "photon_per_second = (f_lambda / EPP * system[bandwidth] * grasp).cgs * system[nsamp]\n",
    "\n",
    "print()\n",
    "SW = (system_to_gsd(system) * 500).to(ur.meter)\n",
    "print(\"Swath width at 500 pix %s\" % (SW))\n",
    "print(\"Ground resolution distance {0:3.2f} and is traversed in {1:1.4f} or {2:3.1f}\".format(system_to_grd(system),\n",
    "                                                                system_to_et(system),\n",
    "                                                                     1/system_to_et(system)))\n",
    "\n",
    "print()\n",
    "NP = photon_per_second * system_to_et(system)\n",
    "print(\"Number photons received per et %4.0f\" % (NP))\n",
    "print(\"Corresponding SNR pixel limit %4.0f:1 and slit limit %4.0f:1\" % (np.sqrt(NP), \n",
    "                                                                    np.sqrt(NP)*np.sqrt(system[nsamp])))\n",
    "\n",
    "print()\n",
    "print(\"Beam Size\")\n",
    "print(\"  {0:3.0f}\".format(system_to_beam_size(system)))"
   ]
  },
  {
   "cell_type": "code",
   "execution_count": null,
   "metadata": {
    "collapsed": true
   },
   "outputs": [],
   "source": []
  }
 ],
 "metadata": {
  "kernelspec": {
   "display_name": "Python 3",
   "language": "python",
   "name": "python3"
  },
  "language_info": {
   "codemirror_mode": {
    "name": "ipython",
    "version": 3
   },
   "file_extension": ".py",
   "mimetype": "text/x-python",
   "name": "python",
   "nbconvert_exporter": "python",
   "pygments_lexer": "ipython3",
   "version": "3.6.1"
  }
 },
 "nbformat": 4,
 "nbformat_minor": 2
}
