{
 "cells": [
  {
   "cell_type": "code",
   "execution_count": 1,
   "metadata": {
    "collapsed": true
   },
   "outputs": [],
   "source": [
    "import numpy as np\n",
    "%matplotlib inline\n",
    "from pylab import *\n",
    "\n",
    "import scipy.integrate\n",
    "import scipy\n",
    "\n",
    "\n",
    "\n",
    "\n",
    "from collections import namedtuple\n",
    "\n",
    "import numpy as np\n",
    "%matplotlib inline\n",
    "from pylab import *\n",
    "\n",
    "import astropy\n",
    "from astropy import units as ur\n",
    "from astropy import constants as cc\n",
    "import astropy.modeling.blackbody\n",
    "\n"
   ]
  },
  {
   "cell_type": "markdown",
   "metadata": {},
   "source": [
    "## Introduction\n",
    "\n",
    "\n",
    "Here I tabulate the Étendue of various systems \n",
    "\n",
    "$\\Omega \\approx \\pi \\sin^2 \\theta$ and this is equivalent to $\\Omega \\approx \\frac{\\pi}{(2\\cdot f/\\#)^2}$\n",
    "\n",
    "$G_{telescope} = \\Omega_{telescope} \\cdot A_{telescope} \\cdot \\epsilon_{telescope} $"
   ]
  },
  {
   "cell_type": "code",
   "execution_count": 2,
   "metadata": {
    "collapsed": true
   },
   "outputs": [],
   "source": [
    "def theta_to_omega(theta_rad):\n",
    "    \n",
    "    return np.pi * np.sin(theta_rad)**2 * ur.steradian\n",
    "\n",
    "def fnum_to_omega(fnum):\n",
    "    return np.pi /(2*fnum)**2 * ur.steradian"
   ]
  },
  {
   "cell_type": "code",
   "execution_count": 72,
   "metadata": {
    "collapsed": true
   },
   "outputs": [],
   "source": [
    "# Useful constants\n",
    "nm = ur.nm\n",
    "µm = ur.micrometer\n",
    "sr = ur.steradian\n",
    "hc = cc.h * cc.c\n",
    "\n",
    "\n",
    "\n",
    "# For the system dictionary\n",
    "leff = \"leff\" # Effective wavelength\n",
    "efficiency = \"efficiency\" # Total efficiency of spectrograph slit - to - detector\n",
    "bandwidth = \"bandwidth\" # Slit width of spectrrograph in linear units\n",
    "pixel_pitch = \"pixel_pitch\" # Distance of pixels in micron \n",
    "focal_ratio = \"focal_ratio\" # f/# of the spectrograph camera\n",
    "agl = \"agl\" # Airplane altitude\n",
    "ground_speed = \"ground_speed\" # ground speed\n",
    "objective_ø = \"objective_ø\" # Diameter of objective"
   ]
  },
  {
   "cell_type": "code",
   "execution_count": 40,
   "metadata": {
    "collapsed": true
   },
   "outputs": [],
   "source": [
    "Reflectivity_Canopy = 0.5 # This is the light reflected back up\n",
    "\n",
    "Leff = 700 * nm\n",
    "EPP = (hc/Leff).to(ur.erg) # Energy per photon"
   ]
  },
  {
   "cell_type": "code",
   "execution_count": 41,
   "metadata": {},
   "outputs": [
    {
     "data": {
      "text/latex": [
       "$2.8377797 \\times 10^{-12} \\; \\mathrm{erg}$"
      ],
      "text/plain": [
       "<Quantity 2.83777975e-12 erg>"
      ]
     },
     "execution_count": 41,
     "metadata": {},
     "output_type": "execute_result"
    }
   ],
   "source": [
    "EPP"
   ]
  },
  {
   "cell_type": "code",
   "execution_count": 54,
   "metadata": {},
   "outputs": [],
   "source": [
    "def print_system(system):\n",
    "    \n",
    "    print(system)"
   ]
  },
  {
   "cell_type": "code",
   "execution_count": 95,
   "metadata": {},
   "outputs": [],
   "source": [
    "def system_to_grasp(system, loud=False):\n",
    "    \n",
    "    Omega = fnum_to_omega(system[focal_ratio])\n",
    "    grasp = (system[pixel_pitch]**2 * Omega).to(µm**2 * sr)\n",
    "    \n",
    "    if loud: print(\"System grasp is %s\" % grasp)\n",
    "        \n",
    "    return grasp\n",
    "\n",
    "def system_to_fl(system):\n",
    "    \"\"\" Focal length of system \"\"\"\n",
    "    \n",
    "    return system[objective_ø] * system[focal_ratio]\n",
    "\n",
    "def system_to_gsd(system):\n",
    "    \"\"\" Ground sampling distance of system\n",
    "    GSD is the pixel-to-pixel distance in meter\n",
    "    nb GSD is not the same as ground resolution which will be several GSDs\"\"\"\n",
    "    \n",
    "    fl = system_to_fl(system)\n",
    "    theta = system[pixel_pitch]/fl\n",
    "    return (system[agl] * theta).to(ur.meter)\n",
    "\n",
    "def system_to_grd(system):\n",
    "    \"\"\" Ground resolution distance \"\"\"\n",
    "    \n",
    "    return system_to_gsd(system)*3\n",
    "\n",
    "def system_to_et(system):\n",
    "    \"\"\" Time it takes airplane to move one slit distance\n",
    "    (exposure time)\"\"\"\n",
    "    \n",
    "    dist = system_to_grd(system)\n",
    "    speed = system[ground_speed]\n",
    "    \n",
    "    return (dist/speed).to(ur.second)"
   ]
  },
  {
   "cell_type": "code",
   "execution_count": 96,
   "metadata": {},
   "outputs": [
    {
     "data": {
      "text/latex": [
       "$0.1875 \\; \\mathrm{s}$"
      ],
      "text/plain": [
       "<Quantity 0.1875 s>"
      ]
     },
     "execution_count": 96,
     "metadata": {},
     "output_type": "execute_result"
    }
   ],
   "source": [
    "system_to_et(system)"
   ]
  },
  {
   "cell_type": "code",
   "execution_count": 123,
   "metadata": {},
   "outputs": [
    {
     "name": "stdout",
     "output_type": "stream",
     "text": [
      "{'leff': <Quantity 700. nm>, 'efficiency': 0.5, 'bandwidth': <Quantity 0.05 nm>, 'pixel_pitch': <Quantity 15. um>, 'focal_ratio': 2.0, 'agl': <Quantity 1000. m>, 'ground_speed': <Quantity 60. m / s>, 'objective_ø': <Quantity 2. mm>}\n",
      "44.178646691106465 sr um2\n",
      "\n",
      "Swath width at 500 pix 1875.0 m\n",
      "\n",
      "Number photons received per et 301973\n"
     ]
    }
   ],
   "source": [
    "\n",
    "\n",
    "system ={leff: 700*nm, efficiency: 0.5, bandwidth: 0.05*nm, pixel_pitch: 15 * µm,\n",
    "        focal_ratio: 2.0, agl: 1000*ur.meter, ground_speed: 60*ur.meter/ur.second,\n",
    "        objective_ø: 2*ur.mm}\n",
    "\n",
    "\n",
    "print_system(system)\n",
    "grasp = system_to_grasp(system)\n",
    "print(grasp)\n",
    "f_lambda = 1300*ur.Watt/ur.meter**2/ur.micron/(2*np.pi*ur.sr) # http://www.powerfromthesun.net/Book/chapter02/chapter02.html\n",
    "\n",
    "photon_per_second = (f_lambda / EPP * system[bandwidth] * grasp).cgs\n",
    "\n",
    "print()\n",
    "SW = (system_to_gsd(system) * 500).to(ur.meter)\n",
    "print(\"Swath width at 500 pix %s\" % (SW))\n",
    "\n",
    "print()\n",
    "\n",
    "print(\"Number photons received per et %4.0f\" % (photon_per_second * system_to_et(system)))\n",
    "print(\"Corresponding SNR limit %4.\")"
   ]
  },
  {
   "cell_type": "code",
   "execution_count": null,
   "metadata": {
    "collapsed": true
   },
   "outputs": [],
   "source": []
  }
 ],
 "metadata": {
  "kernelspec": {
   "display_name": "Python 3",
   "language": "python",
   "name": "python3"
  },
  "language_info": {
   "codemirror_mode": {
    "name": "ipython",
    "version": 3
   },
   "file_extension": ".py",
   "mimetype": "text/x-python",
   "name": "python",
   "nbconvert_exporter": "python",
   "pygments_lexer": "ipython3",
   "version": "3.6.1"
  }
 },
 "nbformat": 4,
 "nbformat_minor": 2
}
