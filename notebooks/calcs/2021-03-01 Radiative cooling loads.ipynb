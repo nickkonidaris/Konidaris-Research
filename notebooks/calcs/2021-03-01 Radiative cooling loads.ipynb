{
 "cells": [
  {
   "cell_type": "code",
   "execution_count": 1,
   "metadata": {},
   "outputs": [],
   "source": [
    "import numpy as np\n",
    "import astropy\n",
    "from astropy import units as u\n",
    "from astropy import constants as k\n",
    "\n",
    "from pylab import *"
   ]
  },
  {
   "cell_type": "code",
   "execution_count": 34,
   "metadata": {},
   "outputs": [],
   "source": [
    "mm = u.mm\n",
    "cm = u.cm\n",
    "inch = 25.4 * mm\n",
    "μw = 1e-6*u.watt\n",
    "c = k.c\n",
    "h = k.h\n",
    "K = u.Kelvin\n",
    "J = u.Joule\n",
    "σ = k.sigma_sb\n",
    "\n",
    "hc = h*c\n",
    "\n",
    "π = np.pi"
   ]
  },
  {
   "cell_type": "code",
   "execution_count": null,
   "metadata": {},
   "outputs": [],
   "source": []
  },
  {
   "cell_type": "code",
   "execution_count": null,
   "metadata": {},
   "outputs": [],
   "source": []
  },
  {
   "cell_type": "code",
   "execution_count": 3,
   "metadata": {},
   "outputs": [],
   "source": [
    "def exchange(ϵ1, A1, T1, ϵ2, A2, T2):\n",
    "    denom = 1/ϵ1 + A1/A2 * (1/ϵ2 - 1)\n",
    "    return (σ*A1 * (T2**4-T1**4) / denom).to(u.Watt)"
   ]
  },
  {
   "cell_type": "code",
   "execution_count": 4,
   "metadata": {},
   "outputs": [
    {
     "name": "stdout",
     "output_type": "stream",
     "text": [
      "6.88 W should be 6.8 W\n"
     ]
    }
   ],
   "source": [
    "ϵ1 = 0.08\n",
    "A1 = 7854*cm**2\n",
    "T1 = 50*K\n",
    "\n",
    "ϵ2 = 0.03\n",
    "A2 = 6361.7*cm**2\n",
    "T2 = 300*K\n",
    "e = exchange(ϵ1, A1, T1, ϵ2, A2, T2)\n",
    "\n",
    "print(f\"{e.value:1.2f} {e.unit:s} should be 6.8 W\")"
   ]
  },
  {
   "cell_type": "code",
   "execution_count": 5,
   "metadata": {},
   "outputs": [
    {
     "data": {
      "text/latex": [
       "$5.0383438 \\; \\mathrm{W}$"
      ],
      "text/plain": [
       "<Quantity 5.03834383 W>"
      ]
     },
     "execution_count": 5,
     "metadata": {},
     "output_type": "execute_result"
    }
   ],
   "source": [
    "# Radiation shield dimensions - Test Dewar\n",
    "\n",
    "def exchange(ϵ1, A1, T1, ϵ2, A2, T2):\n",
    "    denom = 1/ϵ1 + A1/A2 * (1/ϵ2 - 1)\n",
    "    return (σ*A1 * (T2**4-T1**4) / denom).to(u.Watt)\n",
    "\n",
    "R_shield = 6*inch\n",
    "plus = 25*mm\n",
    "L_shield = 16*inch\n",
    "\n",
    "A_shield = π*R_shield*L_shield\n",
    "A_dewar = π*(R_shield+plus)*(L_shield+plus)\n",
    "R_window = 30*mm\n",
    "\n",
    "T_shield = 120*K\n",
    "T_dewar = 300*K\n",
    "\n",
    "ϵ=0.1\n",
    "exchange(ϵ, A_shield, T_shield, ϵ, A_dewar, T_dewar)"
   ]
  },
  {
   "cell_type": "code",
   "execution_count": 6,
   "metadata": {},
   "outputs": [
    {
     "data": {
      "text/latex": [
       "$-0.58145664 \\; \\mathrm{W}$"
      ],
      "text/plain": [
       "<Quantity -0.58145664 W>"
      ]
     },
     "execution_count": 6,
     "metadata": {},
     "output_type": "execute_result"
    }
   ],
   "source": [
    "# Window dimensions\n",
    "\n",
    "D_window = 50*mm\n",
    "\n",
    "\n",
    "A_dewar = π*(R_shield)**2\n",
    "A_window = π*(D_window/2)**2\n",
    "ϵ_dewar = 0.05\n",
    "ϵ_window = 1\n",
    "\n",
    "exchange(ϵ_window, A_window, 300*K, ϵ_dewar, A_dewar, T_shield)\n"
   ]
  },
  {
   "cell_type": "code",
   "execution_count": null,
   "metadata": {},
   "outputs": [],
   "source": []
  },
  {
   "cell_type": "code",
   "execution_count": 29,
   "metadata": {},
   "outputs": [
    {
     "data": {
      "text/latex": [
       "$60.820473 \\; \\mathrm{W}$"
      ],
      "text/plain": [
       "<Quantity 60.82047275 W>"
      ]
     },
     "execution_count": 29,
     "metadata": {},
     "output_type": "execute_result"
    }
   ],
   "source": [
    "# Radiation shield dimensions - MIRMOSa\n",
    "\n",
    "R_shield = 780*mm \n",
    "plus = 25*mm\n",
    "L_shield = 3500*mm\n",
    "\n",
    "A_shield = π*R_shield*L_shield\n",
    "A_dewar = π*(R_shield+plus)*(L_shield+plus)\n",
    "R_window = 30*mm\n",
    "\n",
    "T_shield = 80*K\n",
    "T_dewar = 300*K\n",
    "\n",
    "ϵ=0.03\n",
    "exchange(ϵ, A_shield, T_shield, ϵ, A_dewar, T_dewar)"
   ]
  },
  {
   "cell_type": "code",
   "execution_count": 33,
   "metadata": {},
   "outputs": [
    {
     "data": {
      "text/latex": [
       "$8.5765479 \\; \\mathrm{m^{2}}$"
      ],
      "text/plain": [
       "<Quantity 8.57654794 m2>"
      ]
     },
     "execution_count": 33,
     "metadata": {},
     "output_type": "execute_result"
    }
   ],
   "source": [
    "A_shield.to(u.m**2)"
   ]
  },
  {
   "cell_type": "markdown",
   "metadata": {},
   "source": [
    "# MIRMOS Window"
   ]
  },
  {
   "cell_type": "code",
   "execution_count": 28,
   "metadata": {},
   "outputs": [
    {
     "data": {
      "text/latex": [
       "$10.834167 \\; \\mathrm{W}$"
      ],
      "text/plain": [
       "<Quantity 10.83416678 W>"
      ]
     },
     "execution_count": 28,
     "metadata": {},
     "output_type": "execute_result"
    }
   ],
   "source": [
    "slitlength = 13 * 60 * .35  * mm\n",
    "slitheight = 3 * 60 * .35 * mm\n",
    "\n",
    "windowA = slitlength * slitheight\n",
    "\n",
    "Q_window = σ * windowA * (273*K)**4 * 2\n",
    "Q_window.to(u.W)"
   ]
  },
  {
   "cell_type": "code",
   "execution_count": 27,
   "metadata": {},
   "outputs": [
    {
     "data": {
      "text/latex": [
       "$71.441308 \\; \\mathrm{W}$"
      ],
      "text/plain": [
       "<Quantity 71.44130763 W>"
      ]
     },
     "execution_count": 27,
     "metadata": {},
     "output_type": "execute_result"
    }
   ],
   "source": [
    "slitlength = 7 * 60 * .75  * mm\n",
    "slitheight = 7 * 60 * .75 * mm\n",
    "\n",
    "windowA = π * (380/2*mm)**2\n",
    "\n",
    "Q_window = σ * windowA * (273*K)**4 * 2\n",
    "Q_window.to(u.W)"
   ]
  },
  {
   "cell_type": "code",
   "execution_count": 35,
   "metadata": {},
   "outputs": [],
   "source": [
    "C = 100e6 * J\n",
    "C + 70*W*t - 240*W*t"
   ]
  },
  {
   "cell_type": "code",
   "execution_count": null,
   "metadata": {},
   "outputs": [],
   "source": []
  }
 ],
 "metadata": {
  "kernelspec": {
   "display_name": "Python 3",
   "language": "python",
   "name": "python3"
  },
  "language_info": {
   "codemirror_mode": {
    "name": "ipython",
    "version": 3
   },
   "file_extension": ".py",
   "mimetype": "text/x-python",
   "name": "python",
   "nbconvert_exporter": "python",
   "pygments_lexer": "ipython3",
   "version": "3.7.7"
  }
 },
 "nbformat": 4,
 "nbformat_minor": 4
}
