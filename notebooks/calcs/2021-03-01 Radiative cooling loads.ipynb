{
 "cells": [
  {
   "cell_type": "code",
   "execution_count": 48,
   "metadata": {},
   "outputs": [],
   "source": [
    "import numpy as np\n",
    "import astropy\n",
    "from astropy import units as u\n",
    "from astropy import constants as k\n",
    "\n",
    "from pylab import *"
   ]
  },
  {
   "cell_type": "code",
   "execution_count": 49,
   "metadata": {},
   "outputs": [],
   "source": [
    "mm = u.mm\n",
    "cm = u.cm\n",
    "inch = 25.4 * mm\n",
    "μw = 1e-6*u.watt\n",
    "c = k.c\n",
    "h = k.h\n",
    "K = u.Kelvin\n",
    "σ = k.sigma_sb\n",
    "\n",
    "hc = h*c\n",
    "\n",
    "π = np.pi"
   ]
  },
  {
   "cell_type": "code",
   "execution_count": null,
   "metadata": {},
   "outputs": [],
   "source": []
  },
  {
   "cell_type": "code",
   "execution_count": null,
   "metadata": {},
   "outputs": [],
   "source": []
  },
  {
   "cell_type": "code",
   "execution_count": 50,
   "metadata": {},
   "outputs": [
    {
     "data": {
      "text/latex": [
       "$402516.56 \\; \\mathrm{mm^{2}}$"
      ],
      "text/plain": [
       "<Quantity 402516.55874119 mm2>"
      ]
     },
     "execution_count": 50,
     "metadata": {},
     "output_type": "execute_result"
    }
   ],
   "source": [
    "A_dewar"
   ]
  },
  {
   "cell_type": "code",
   "execution_count": 51,
   "metadata": {},
   "outputs": [],
   "source": [
    "def exchange(ϵ1, A1, T1, ϵ2, A2, T2):\n",
    "    denom = 1/ϵ1 + A1/A2 * (1/ϵ2 - 1)\n",
    "    return (σ*A1 * (T2**4-T1**4) / denom).to(u.Watt)"
   ]
  },
  {
   "cell_type": "code",
   "execution_count": 52,
   "metadata": {},
   "outputs": [
    {
     "name": "stdout",
     "output_type": "stream",
     "text": [
      "6.88 W should be 6.8 W\n"
     ]
    }
   ],
   "source": [
    "ϵ1 = 0.08\n",
    "A1 = 7854*cm**2\n",
    "T1 = 50*K\n",
    "\n",
    "ϵ2 = 0.03\n",
    "A2 = 6361.7*cm**2\n",
    "T2 = 300*K\n",
    "e = exchange(ϵ1, A1, T1, ϵ2, A2, T2)\n",
    "\n",
    "print(f\"{e.value:1.2f} {e.unit:s} should be 6.8 W\")"
   ]
  },
  {
   "cell_type": "code",
   "execution_count": 53,
   "metadata": {},
   "outputs": [
    {
     "data": {
      "text/latex": [
       "$5.1445669 \\; \\mathrm{W}$"
      ],
      "text/plain": [
       "<Quantity 5.1445669 W>"
      ]
     },
     "execution_count": 53,
     "metadata": {},
     "output_type": "execute_result"
    }
   ],
   "source": [
    "# Radiation shield dimensions - Test Dewar\n",
    "\n",
    "def exchange(ϵ1, A1, T1, ϵ2, A2, T2):\n",
    "    denom = 1/ϵ1 + A1/A2 * (1/ϵ2 - 1)\n",
    "    return (σ*A1 * (T2**4-T1**4) / denom).to(u.Watt)\n",
    "\n",
    "R_shield = 6*inch\n",
    "plus = 25*mm\n",
    "L_shield = 16*inch\n",
    "\n",
    "A_shield = π*R_shield*L_shield\n",
    "A_dewar = π*(R_shield+plus)*(L_shield+plus)\n",
    "R_window = 30*mm\n",
    "\n",
    "T_shield = 80*K\n",
    "T_dewar = 300*K\n",
    "\n",
    "ϵ=0.1\n",
    "exchange(ϵ, A_shield, T_shield, ϵ, A_dewar, T_dewar)"
   ]
  },
  {
   "cell_type": "code",
   "execution_count": 61,
   "metadata": {},
   "outputs": [
    {
     "data": {
      "text/latex": [
       "$1.4878078 \\; \\mathrm{W}$"
      ],
      "text/plain": [
       "<Quantity 1.4878078 W>"
      ]
     },
     "execution_count": 61,
     "metadata": {},
     "output_type": "execute_result"
    }
   ],
   "source": [
    "# Radiation shield dimensions - Henrietta\n",
    "\n",
    "def exchange(ϵ1, A1, T1, ϵ2, A2, T2):\n",
    "    denom = 1/ϵ1 + A1/A2 * (1/ϵ2 - 1)\n",
    "    return (σ*A1 * (T2**4-T1**4) / denom).to(u.Watt)\n",
    "\n",
    "R_shield = 150*mm \n",
    "plus = 25*mm\n",
    "L_shield = 800*mm\n",
    "\n",
    "A_shield = π*R_shield*L_shield\n",
    "A_dewar = π*(R_shield+plus)*(L_shield+plus)\n",
    "R_window = 30*mm\n",
    "\n",
    "T_shield = 80*K\n",
    "T_dewar = 300*K\n",
    "\n",
    "ϵdewar = 0.05\n",
    "ϵshield = 0.01\n",
    "\n",
    "exchange(ϵshield, A_shield, T_shield, ϵdewar, A_dewar, T_dewar)"
   ]
  },
  {
   "cell_type": "code",
   "execution_count": 39,
   "metadata": {},
   "outputs": [
    {
     "data": {
      "text/latex": [
       "$-0.65661587 \\; \\mathrm{W}$"
      ],
      "text/plain": [
       "<Quantity -0.65661587 W>"
      ]
     },
     "execution_count": 39,
     "metadata": {},
     "output_type": "execute_result"
    }
   ],
   "source": [
    "# Window dimensions\n",
    "\n",
    "D_window = 50*mm\n",
    "\n",
    "\n",
    "A_dewar = π*(R_shield)**2\n",
    "A_window = π*(D_window/2)**2\n",
    "ϵ_dewar = 0.05\n",
    "ϵ_window = 1\n",
    "\n",
    "exchange(ϵ_window, A_window, 300*K, ϵ_dewar, A_dewar, T_shield)\n"
   ]
  },
  {
   "cell_type": "code",
   "execution_count": null,
   "metadata": {},
   "outputs": [],
   "source": []
  },
  {
   "cell_type": "code",
   "execution_count": 36,
   "metadata": {},
   "outputs": [
    {
     "data": {
      "text/latex": [
       "$102.38652 \\; \\mathrm{W}$"
      ],
      "text/plain": [
       "<Quantity 102.38651841 W>"
      ]
     },
     "execution_count": 36,
     "metadata": {},
     "output_type": "execute_result"
    }
   ],
   "source": [
    "# Radiation shield dimensions - MIRMOSa\n",
    "\n",
    "R_shield = 780*mm \n",
    "plus = 25*mm\n",
    "L_shield = 3500*mm\n",
    "\n",
    "A_shield = π*R_shield*L_shield\n",
    "A_dewar = π*(R_shield+plus)*(L_shield+plus)\n",
    "R_window = 30*mm\n",
    "\n",
    "T_shield = 80*K\n",
    "T_dewar = 300*K\n",
    "\n",
    "ϵ=0.05\n",
    "exchange(ϵ, A_shield, T_shield, ϵ, A_dewar, T_dewar)"
   ]
  },
  {
   "cell_type": "code",
   "execution_count": null,
   "metadata": {},
   "outputs": [],
   "source": []
  }
 ],
 "metadata": {
  "kernelspec": {
   "display_name": "Python 3",
   "language": "python",
   "name": "python3"
  },
  "language_info": {
   "codemirror_mode": {
    "name": "ipython",
    "version": 3
   },
   "file_extension": ".py",
   "mimetype": "text/x-python",
   "name": "python",
   "nbconvert_exporter": "python",
   "pygments_lexer": "ipython3",
   "version": "3.8.5"
  }
 },
 "nbformat": 4,
 "nbformat_minor": 4
}
