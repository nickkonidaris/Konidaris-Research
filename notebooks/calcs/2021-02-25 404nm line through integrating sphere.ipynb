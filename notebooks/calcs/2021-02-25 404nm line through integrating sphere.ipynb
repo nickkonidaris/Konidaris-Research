{
 "cells": [
  {
   "cell_type": "markdown",
   "metadata": {},
   "source": [
    "# LVM Spectrograph Lab photon rate\n",
    "\n",
    "Nick Konidaris, 25-2-2021\n",
    "\n",
    "We sent a Hg lamp through a fiber system and detected it with a calibrated photodiode. Here I compute the predicted detected signal on the back end of the LVM spectrograph and compare it to the desired signal level.\n"
   ]
  },
  {
   "cell_type": "code",
   "execution_count": 1,
   "metadata": {},
   "outputs": [],
   "source": [
    "import numpy as np\n",
    "import astropy\n",
    "from astropy import units as u\n",
    "from astropy import constants as k\n",
    "\n",
    "from pylab import *"
   ]
  },
  {
   "cell_type": "code",
   "execution_count": 2,
   "metadata": {},
   "outputs": [],
   "source": [
    "mm = u.mm\n",
    "μw = 1e-6*u.watt\n",
    "c = k.c\n",
    "h = k.h\n",
    "\n",
    "hc = h*c\n",
    "\n",
    "π = np.pi"
   ]
  },
  {
   "cell_type": "markdown",
   "metadata": {},
   "source": [
    "Pavan measured the output of the Thorlabs 2\" integrating sphere. He concluded that it has a 40x attenuation at the 404 nm line of mercury.\n",
    "\n",
    "The photodiode output indicated a signal of (0.1163-0.0115) micro Watts with a PD, after QE correciton, with a photodiode that is 8.72 mm in diameter. This comes from the LVM-I Illumination system google sheet."
   ]
  },
  {
   "cell_type": "code",
   "execution_count": 3,
   "metadata": {},
   "outputs": [],
   "source": [
    "D_diode = 8.72*mm\n",
    "\n",
    "# The radiant flux of the 404 line is measured directly by the PD\n",
    "radiant_flux = (0.1163 - 0.115)*μw\n",
    "\n",
    "# The radiance incident on the photodiode has a solid angle of 2π (it's inside an integrating sphere) and an area set by the PD\n",
    "L_eΩ = radiant_flux / (2*π*u.sr) / (π * (D_diode/2)**2)\n",
    "\n",
    "epp = hc/(404 * u.nanometer)"
   ]
  },
  {
   "cell_type": "code",
   "execution_count": 4,
   "metadata": {},
   "outputs": [],
   "source": [
    "\n",
    "# Radiance in photon units\n",
    "L_γΩ = (L_eΩ/epp).to(u.Hz/u.sr/u.cm**2)"
   ]
  },
  {
   "cell_type": "code",
   "execution_count": 5,
   "metadata": {},
   "outputs": [
    {
     "name": "stdout",
     "output_type": "stream",
     "text": [
      "Photon radiance is: 704604261.4487697 Hz / (cm2 sr)\n"
     ]
    }
   ],
   "source": [
    "print(\"Photon radiance is: %s\" % L_γΩ)"
   ]
  },
  {
   "cell_type": "markdown",
   "metadata": {},
   "source": [
    "## 4-f system accounting\n",
    "\n",
    "Now we have to account for the 4-f system. Let's say it has a throughput of 50%."
   ]
  },
  {
   "cell_type": "code",
   "execution_count": 6,
   "metadata": {},
   "outputs": [],
   "source": [
    "def fno_to_solid_angle(fno):\n",
    "    \"\"\" Compute the solid angle given a focal ratio \"\"\"\n",
    "    return π/(2*fno)**2 * u.sr"
   ]
  },
  {
   "cell_type": "code",
   "execution_count": 7,
   "metadata": {},
   "outputs": [],
   "source": [
    "d_fiber = 107 * u.micron"
   ]
  },
  {
   "cell_type": "code",
   "execution_count": 8,
   "metadata": {},
   "outputs": [],
   "source": [
    "η_4f = 0.5\n",
    "\n",
    "A_fiber = π*(d_fiber/2)**2\n",
    "grasp_4f = fno_to_solid_angle(3.5) * A_fiber * η_4f"
   ]
  },
  {
   "cell_type": "code",
   "execution_count": 9,
   "metadata": {},
   "outputs": [
    {
     "data": {
      "text/latex": [
       "$288.25791 \\; \\mathrm{\\mu m^{2}\\,sr}$"
      ],
      "text/plain": [
       "<Quantity 288.25791017 micron2 sr>"
      ]
     },
     "execution_count": 9,
     "metadata": {},
     "output_type": "execute_result"
    }
   ],
   "source": [
    "grasp_4f"
   ]
  },
  {
   "cell_type": "code",
   "execution_count": 10,
   "metadata": {},
   "outputs": [
    {
     "name": "stdout",
     "output_type": "stream",
     "text": [
      "Photon rate on fiber tip: 2031.0775190467273 Hz\n"
     ]
    }
   ],
   "source": [
    "L_γΩ_out_4f = (L_γΩ * grasp_4f).to(u.Hz)\n",
    "print(\"Photon rate on fiber tip: %s\" % L_γΩ_out_4f)"
   ]
  },
  {
   "cell_type": "markdown",
   "metadata": {},
   "source": [
    "## Spectrogaph System accounting"
   ]
  },
  {
   "cell_type": "code",
   "execution_count": 11,
   "metadata": {},
   "outputs": [
    {
     "name": "stdout",
     "output_type": "stream",
     "text": [
      "Photon rate detected at 404 line: 2031.0775190467273 Hz\n"
     ]
    }
   ],
   "source": [
    "η_spectrograph = 0.3 \n",
    "L_γΩ_det = L_γΩ_out_4f * η_spectrograph\n",
    "\n",
    "print(\"Photon rate detected at 404 line: %s\" % L_γΩ_out_4f)"
   ]
  },
  {
   "cell_type": "code",
   "execution_count": 12,
   "metadata": {},
   "outputs": [
    {
     "name": "stdout",
     "output_type": "stream",
     "text": [
      "An exposure time for a robust signal is 8.205824992090433 min\n"
     ]
    }
   ],
   "source": [
    "GOAL = 300000 # We need 100,000 photons in a line for a super robust detection\n",
    "\n",
    "etime = (GOAL/L_γΩ_det).to(u.min)\n",
    "\n",
    "print(\"An exposure time for a robust signal is %s\" % (etime))"
   ]
  },
  {
   "cell_type": "code",
   "execution_count": null,
   "metadata": {},
   "outputs": [],
   "source": []
  }
 ],
 "metadata": {
  "kernelspec": {
   "display_name": "Python 3",
   "language": "python",
   "name": "python3"
  },
  "language_info": {
   "codemirror_mode": {
    "name": "ipython",
    "version": 3
   },
   "file_extension": ".py",
   "mimetype": "text/x-python",
   "name": "python",
   "nbconvert_exporter": "python",
   "pygments_lexer": "ipython3",
   "version": "3.8.5"
  }
 },
 "nbformat": 4,
 "nbformat_minor": 4
}
