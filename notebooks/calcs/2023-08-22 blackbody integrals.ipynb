{
 "cells": [
  {
   "cell_type": "code",
   "execution_count": 1,
   "id": "eebb2fd6",
   "metadata": {},
   "outputs": [],
   "source": [
    "import numpy as np\n",
    "from scipy import integrate\n",
    "from astropy.modeling.models import BlackBody\n",
    "from astropy import units as u, constants as c\n",
    "import matplotlib.pyplot as plt\n",
    "\n",
    "%matplotlib inline"
   ]
  },
  {
   "cell_type": "code",
   "execution_count": 43,
   "id": "9b97dd0a",
   "metadata": {},
   "outputs": [
    {
     "data": {
      "image/png": "[encoded data removed]",
      "text/plain": [
       "<Figure size 432x288 with 1 Axes>"
      ]
     },
     "metadata": {
      "needs_background": "light"
     },
     "output_type": "display_data"
    },
    {
     "data": {
      "text/latex": [
       "$1374968.1 \\; \\mathrm{\\frac{1}{s\\,sr\\,m^{2}}}$"
      ],
      "text/plain": [
       "<Quantity 1374968.13929694 1 / (m2 s sr)>"
      ]
     },
     "execution_count": 43,
     "metadata": {},
     "output_type": "execute_result"
    }
   ],
   "source": [
    "bb = BlackBody(140. * u.Kelvin)\n",
    "\n",
    "\n",
    "lam = np.linspace(1000, 2500, 2000) * u.nm\n",
    "epp = (c.h*c.c/lam).to(u.erg)\n",
    "conv = c.c/lam**2\n",
    "\n",
    "bbl = (bb(lam)*conv/epp).to(1/u.sr/u.m**2/u.micron/u.s)\n",
    "\n",
    "plt.plot(lam, bbl)\n",
    "plt.show()\n",
    "\n",
    "np.trapz(x=lam, y=bbl).to(1/u.s/u.m**2/u.sr)"
   ]
  },
  {
   "cell_type": "code",
   "execution_count": null,
   "id": "a73f49c6",
   "metadata": {},
   "outputs": [],
   "source": []
  }
 ],
 "metadata": {
  "kernelspec": {
   "display_name": "Python 3 (ipykernel)",
   "language": "python",
   "name": "python3"
  },
  "language_info": {
   "codemirror_mode": {
    "name": "ipython",
    "version": 3
   },
   "file_extension": ".py",
   "mimetype": "text/x-python",
   "name": "python",
   "nbconvert_exporter": "python",
   "pygments_lexer": "ipython3",
   "version": "3.10.4"
  }
 },
 "nbformat": 4,
 "nbformat_minor": 5
}
