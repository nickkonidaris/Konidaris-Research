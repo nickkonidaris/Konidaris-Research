{
 "cells": [
  {
   "cell_type": "code",
   "execution_count": 116,
   "id": "13a76a18",
   "metadata": {},
   "outputs": [],
   "source": [
    "import numpy as np\n",
    "from pylab import *"
   ]
  },
  {
   "cell_type": "code",
   "execution_count": 141,
   "id": "5783d01a",
   "metadata": {},
   "outputs": [
    {
     "name": "stdout",
     "output_type": "stream",
     "text": [
      "0.31079999999999997\n"
     ]
    },
    {
     "data": {
      "text/plain": [
       "<matplotlib.image.AxesImage at 0x140154a90>"
      ]
     },
     "execution_count": 141,
     "metadata": {},
     "output_type": "execute_result"
    },
    {
     "data": {
      "image/png": "[encoded data removed]",
      "text/plain": [
       "<Figure size 432x288 with 2 Axes>"
      ]
     },
     "metadata": {
      "needs_background": "light"
     },
     "output_type": "display_data"
    },
    {
     "data": {
      "image/png": "[encoded data removed]",
      "text/plain": [
       "<Figure size 432x288 with 1 Axes>"
      ]
     },
     "metadata": {
      "needs_background": "light"
     },
     "output_type": "display_data"
    },
    {
     "data": {
      "image/png": "[encoded data removed]",
      "text/plain": [
       "<Figure size 432x288 with 2 Axes>"
      ]
     },
     "metadata": {
      "needs_background": "light"
     },
     "output_type": "display_data"
    }
   ],
   "source": [
    "def make_grid(pix_as=0.01, width_as=0.85, height_as=6.01):\n",
    "    \"\"\" Create a grid of width, height, and sampling as specified \"\"\"\n",
    "    \n",
    "    Nx = int(width_as//pix_as)\n",
    "    Ny = int(height_as//pix_as)\n",
    "    \n",
    "    g = np.zeros((Nx, Ny))\n",
    "\n",
    "    return g\n",
    "\n",
    "def make_meshgrid(G, pix_as):\n",
    "    Nx,Ny = G.shape\n",
    "    xx,yy = np.meshgrid(np.arange(Ny) * pix_as, np.arange(Nx) * pix_as)\n",
    "    \n",
    "    xx -= np.mean(xx)\n",
    "    yy -= np.mean(yy)\n",
    "\n",
    "    return xx,yy\n",
    "\n",
    "def make_circ_star(G, FWHM=0.5, pix_as=0.01):\n",
    "    \n",
    "    xx,yy = make_meshgrid(G, pix_as)\n",
    "        \n",
    "    ROI = np.sqrt(xx**2 + yy**2) < FWHM/2\n",
    "    star = np.zeros_like(G)\n",
    "    star[ROI] = 1\n",
    "    \n",
    "    return star\n",
    "\n",
    "\n",
    "\n",
    "def make_shadow_eff(G, frac=.74, pix_as=0.01):\n",
    "    \n",
    "    xx,yy = make_meshgrid(G, pix_as)\n",
    "    \n",
    "    imshow(np.abs(yy))\n",
    "    colorbar()\n",
    "    \n",
    "    eff = np.ones_like(G)\n",
    "    \n",
    "    rolloff_end = G.shape[0]/2 * pix_as\n",
    "    rolloff_start = rolloff_end * frac\n",
    "    \n",
    "    print(rolloff_start)\n",
    "    \n",
    "    \n",
    "    figure()\n",
    "    eff=shadow_curve(np.abs(yy), rolloff_start, rolloff_end)\n",
    "    plot(yy[:,200], eff[:,200])\n",
    "    axvline(rolloff_start)\n",
    "    axvline(rolloff_end)\n",
    "    return eff\n",
    "\n",
    "def shadow_curve(x, rolloff_start, rolloff_end):\n",
    "    \"\"\" The shadow of the slit curve \"\"\"\n",
    "    \n",
    "    m = 0.5/(rolloff_end-rolloff_start)\n",
    "    \n",
    "    y = -m*x + (1+m*rolloff_start)\n",
    "    y[x <= rolloff_start] = 1\n",
    "    \n",
    "    return y\n",
    "\n",
    "    \n",
    "G = make_grid()\n",
    "eff = make_shadow_eff(G)\n",
    "\n",
    "figure()\n",
    "S = make_circ_star(G, FWHM=.85)\n",
    "\n",
    "\n",
    "subplot(2,1,1) \n",
    "title(\"Raw\")\n",
    "imshow(S)\n",
    "subplot(2,1,2)\n",
    "title(\"Raw x efficiency\")\n",
    "imshow(S*eff)"
   ]
  },
  {
   "cell_type": "code",
   "execution_count": 136,
   "id": "a0876592",
   "metadata": {},
   "outputs": [],
   "source": [
    "T = S*eff"
   ]
  },
  {
   "cell_type": "code",
   "execution_count": 128,
   "id": "d3c08ac5",
   "metadata": {},
   "outputs": [
    {
     "data": {
      "text/plain": [
       "(84, 600)"
      ]
     },
     "execution_count": 128,
     "metadata": {},
     "output_type": "execute_result"
    }
   ],
   "source": [
    "T.shape"
   ]
  },
  {
   "cell_type": "code",
   "execution_count": 134,
   "id": "3c58119d",
   "metadata": {},
   "outputs": [
    {
     "data": {
      "text/plain": [
       "<matplotlib.image.AxesImage at 0x137f68250>"
      ]
     },
     "execution_count": 134,
     "metadata": {},
     "output_type": "execute_result"
    },
    {
     "data": {
      "image/png": "[encoded data removed]",
      "text/plain": [
       "<Figure size 432x288 with 1 Axes>"
      ]
     },
     "metadata": {
      "needs_background": "light"
     },
     "output_type": "display_data"
    }
   ],
   "source": [
    "imshow(T.reshape(2,15,1680).mean(-1))"
   ]
  },
  {
   "cell_type": "code",
   "execution_count": 138,
   "id": "a3858fec",
   "metadata": {},
   "outputs": [
    {
     "data": {
      "text/plain": [
       "146.99999999999997"
      ]
     },
     "execution_count": 138,
     "metadata": {},
     "output_type": "execute_result"
    }
   ],
   "source": [
    ".35 * 7 * 60"
   ]
  },
  {
   "cell_type": "code",
   "execution_count": 139,
   "id": "32932abe",
   "metadata": {},
   "outputs": [
    {
     "data": {
      "text/plain": [
       "0.006636363636363636"
      ]
     },
     "execution_count": 139,
     "metadata": {},
     "output_type": "execute_result"
    }
   ],
   "source": [
    "146/22000"
   ]
  },
  {
   "cell_type": "markdown",
   "id": "cecac8fb",
   "metadata": {},
   "source": [
    "- Fractional light through from drew\n",
    "- Zemax sims of night sky lines\n"
   ]
  }
 ],
 "metadata": {
  "kernelspec": {
   "display_name": "Python 3 (ipykernel)",
   "language": "python",
   "name": "python3"
  },
  "language_info": {
   "codemirror_mode": {
    "name": "ipython",
    "version": 3
   },
   "file_extension": ".py",
   "mimetype": "text/x-python",
   "name": "python",
   "nbconvert_exporter": "python",
   "pygments_lexer": "ipython3",
   "version": "3.10.4"
  }
 },
 "nbformat": 4,
 "nbformat_minor": 5
}
