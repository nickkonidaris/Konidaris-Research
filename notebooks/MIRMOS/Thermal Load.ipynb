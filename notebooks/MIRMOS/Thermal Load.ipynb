{
 "cells": [
  {
   "cell_type": "markdown",
   "metadata": {},
   "source": [
    "# MIRMOS Thermal Load Calcs\n",
    "\n",
    "For MSIP"
   ]
  },
  {
   "cell_type": "code",
   "execution_count": 1,
   "metadata": {},
   "outputs": [],
   "source": [
    "import numpy as np\n",
    "import scipy as sp\n",
    "import scipy.integrate\n",
    "\n",
    "import astropy\n",
    "\n",
    "from astropy import units as ur\n",
    "from astropy import constants as cc\n",
    "\n",
    "from pylab import *\n",
    "ion()"
   ]
  },
  {
   "cell_type": "code",
   "execution_count": 2,
   "metadata": {
    "collapsed": true
   },
   "outputs": [],
   "source": [
    "\n",
    "\n",
    "def eq(T, coeffs):\n",
    "    lT = np.log10(T)\n",
    "    \n",
    "    log_k = 0\n",
    "    for ix, c in enumerate(coeffs):\n",
    "        log_k += c*lT**ix\n",
    "    \n",
    "    return 10**log_k\n",
    "        "
   ]
  },
  {
   "cell_type": "markdown",
   "metadata": {},
   "source": [
    "# FROM NIST\n",
    "https://trc.nist.gov/cryogenics/materials/6061%20Aluminum/6061_T6Aluminum_rev.htm\n",
    "\n",
    "## Al 6061\n",
    "Thermal Conductivity\n",
    "Specific Heat\n",
    "UNITS\tW/(m-K)\tJ/(kg-K)\n",
    "a\t0.07918\t46.6467\n",
    "b\t1.0957\t-314.292\n",
    "c\t-0.07277\t866.662\n",
    "d\t0.08084\t-1298.3\n",
    "e\t0.02803\t1162.27\n",
    "f\t-0.09464\t-637.795\n",
    "g\t0.04179\t210.351\n",
    "h\t-0.00571\t-38.3094\n",
    "i\t0\t2.96344\n",
    "data range\n",
    "4-300\t4-300\n",
    "equation range\n",
    "1-300\t4-300\n",
    "curve fit % error relative to data\n",
    "0.5\t5"
   ]
  },
  {
   "cell_type": "markdown",
   "metadata": {},
   "source": [
    "\n",
    "## G-10\n",
    "Thermal Conductivity\n",
    "(Normal Direction)\n",
    "\n",
    "Thermal Conductivity\n",
    "(Warp Direction)\n",
    "Specific Heat\n",
    "\n",
    "UNITS\tW/(m-K)\tW/(m-K)\tJ/(kg•K)\n",
    "a\t-4.1236\t-2.64827\t-2.4083\n",
    "b\t13.788\t8.80228\t7.6006\n",
    "c\t-26.068\t-24.8998\t-8.2982\n",
    "d\t26.272\t41.1625\t7.3301\n",
    "e\t-14.663\t-39.8754\t-4.2386\n",
    "f\t4.4954\t23.1778\t1.4294\n",
    "g\t-0.6905\t-7.95635\t-0.24396\n",
    "h\t0.0397\t1.48806\t0.015236\n",
    "i\t0\t-0.11701\t0\n",
    "data range\n",
    "4-300\t4-300\t4-300\n",
    "equation range\n",
    "10-300\t12-300\t4-300\n",
    "curve fit % error relative to data\n",
    "5\t5\t2\n"
   ]
  },
  {
   "cell_type": "code",
   "execution_count": 3,
   "metadata": {
    "collapsed": true
   },
   "outputs": [],
   "source": [
    "\n",
    "# k is conductivty (W/(m K)), and h is speicfic heat (J/(kg K))\n",
    "#\n",
    "k_al6061 = [0.07918, 1.09570, -0.07277, 0.08084, 0.02803, -0.09464, 0.04179, -0.00571, 0]\n",
    "h_al6061 = [46.6467, -314.292, 866.662, -1298.3, 1162.27, -637.795, 210.351, -38.3094, 2.96344]\n",
    "k_g10 = [-4.1236, 13.788, -26.068, 26.272, -14.663, 4.4954, -0.6905, 0.0397]\n",
    "h_g10 = [-2.4083, 7.6006, -8.2982, 7.3301, -4.2386, 1.4294, -0.24396, 0.015236]"
   ]
  },
  {
   "cell_type": "code",
   "execution_count": 4,
   "metadata": {},
   "outputs": [
    {
     "data": {
      "text/plain": [
       "0.30959932133090096"
      ]
     },
     "execution_count": 4,
     "metadata": {},
     "output_type": "execute_result"
    }
   ],
   "source": [
    "eq(100, k_g10)"
   ]
  },
  {
   "cell_type": "code",
   "execution_count": 5,
   "metadata": {
    "collapsed": true
   },
   "outputs": [],
   "source": [
    "def Heat(A, L, k, T1, T2):\n",
    "    \"\"\" Return the conducitve load in Watts for element with area A (m^2), length L (m), conductivty coefficients K, from T1 to T2\"\"\"\n",
    "    \n",
    "    \n",
    "    f = lambda x: eq(x, k)\n",
    "    \n",
    "    return A/L * sp.integrate.quad(f, T1, T2)[0] # In watt"
   ]
  },
  {
   "cell_type": "code",
   "execution_count": 6,
   "metadata": {},
   "outputs": [
    {
     "data": {
      "text/plain": [
       "32177.0"
      ]
     },
     "execution_count": 6,
     "metadata": {},
     "output_type": "execute_result"
    }
   ],
   "source": [
    "np.round(sp.integrate.quad(lambda x: eq(x, k_al6061), 15, 300)[0])"
   ]
  },
  {
   "cell_type": "code",
   "execution_count": 7,
   "metadata": {},
   "outputs": [
    {
     "data": {
      "text/plain": [
       "726.7144319344933"
      ]
     },
     "execution_count": 7,
     "metadata": {},
     "output_type": "execute_result"
    }
   ],
   "source": [
    "7.1e5/9.77e2"
   ]
  },
  {
   "cell_type": "code",
   "execution_count": 8,
   "metadata": {},
   "outputs": [
    {
     "data": {
      "text/plain": [
       "289.8828828828829"
      ]
     },
     "execution_count": 8,
     "metadata": {},
     "output_type": "execute_result"
    }
   ],
   "source": [
    "32177.0/111"
   ]
  },
  {
   "cell_type": "code",
   "execution_count": 9,
   "metadata": {},
   "outputs": [
    {
     "data": {
      "text/plain": [
       "0.44471158743377776"
      ]
     },
     "execution_count": 9,
     "metadata": {},
     "output_type": "execute_result"
    }
   ],
   "source": [
    "eq(200, k_g10)"
   ]
  },
  {
   "cell_type": "code",
   "execution_count": 10,
   "metadata": {},
   "outputs": [
    {
     "data": {
      "text/plain": [
       "0.83482613673497"
      ]
     },
     "execution_count": 10,
     "metadata": {},
     "output_type": "execute_result"
    }
   ],
   "source": [
    "0.01/1 * Heat(1, 1, k_g10, 120, 300)"
   ]
  },
  {
   "cell_type": "code",
   "execution_count": null,
   "metadata": {
    "collapsed": true
   },
   "outputs": [],
   "source": []
  },
  {
   "cell_type": "markdown",
   "metadata": {},
   "source": [
    "# Conductive"
   ]
  },
  {
   "cell_type": "code",
   "execution_count": 12,
   "metadata": {},
   "outputs": [],
   "source": [
    "A = np.pi*(25 *ur.mm)**2 * 10;\n",
    "L = 0.2 * ur.meter;\n",
    "\n",
    "a = A.to(ur.meter**2).value\n",
    "l = L.to(ur.meter).value\n",
    "\n",
    "cond = Heat(a, l, k_g10, 120, 300) * ur.Watt "
   ]
  },
  {
   "cell_type": "markdown",
   "metadata": {},
   "source": [
    "# Radiative\n",
    "\n"
   ]
  },
  {
   "cell_type": "code",
   "execution_count": 13,
   "metadata": {},
   "outputs": [],
   "source": [
    "Ain = 20*ur.meter**2\n",
    "Aout = 30*ur.meter**2\n",
    "\n",
    "Tin = 120*ur.Kelvin\n",
    "Tout = 300*ur.Kelvin\n",
    "\n",
    "ein = 0.05\n",
    "eout = 0.05\n",
    "\n",
    "s = cc.sigma_sb\n",
    "\n",
    "MLI_layers = 20\n",
    "\n",
    "\n",
    "Awindow = (np.pi * (150*ur.mm)**2).to(ur.meter**2)\n",
    "Aworld = Awindow # 10000 * ur.meter**2\n",
    "N_window = 3"
   ]
  },
  {
   "cell_type": "code",
   "execution_count": 14,
   "metadata": {},
   "outputs": [],
   "source": [
    "denom = 1/ein + Ain/Aout * (1/eout - 1)\n",
    "Q = s*Ain*(Tout**4 - Tin**4) / denom / MLI_layers"
   ]
  },
  {
   "cell_type": "code",
   "execution_count": 15,
   "metadata": {},
   "outputs": [],
   "source": [
    "rad_dewar = Q.to(ur.W)"
   ]
  },
  {
   "cell_type": "code",
   "execution_count": 21,
   "metadata": {
    "collapsed": true
   },
   "outputs": [],
   "source": [
    "denomwindow = 1/ein + Awindow/Aworld * (1/eout - 1)\n",
    "rad_window = s*Ain*(Tout**4 - Tin**4) / denomwindow / N_window"
   ]
  },
  {
   "cell_type": "code",
   "execution_count": 22,
   "metadata": {},
   "outputs": [
    {
     "data": {
      "text/latex": [
       "$98.398988 \\; \\mathrm{W}$"
      ],
      "text/plain": [
       "<Quantity 98.39898798 W>"
      ]
     },
     "execution_count": 22,
     "metadata": {},
     "output_type": "execute_result"
    }
   ],
   "source": [
    "rad_dewar+cond+rad_window"
   ]
  },
  {
   "cell_type": "code",
   "execution_count": null,
   "metadata": {
    "collapsed": true
   },
   "outputs": [],
   "source": []
  },
  {
   "cell_type": "code",
   "execution_count": null,
   "metadata": {
    "collapsed": true
   },
   "outputs": [],
   "source": []
  }
 ],
 "metadata": {
  "kernelspec": {
   "display_name": "Python 3",
   "language": "python",
   "name": "python3"
  },
  "language_info": {
   "codemirror_mode": {
    "name": "ipython",
    "version": 3
   },
   "file_extension": ".py",
   "mimetype": "text/x-python",
   "name": "python",
   "nbconvert_exporter": "python",
   "pygments_lexer": "ipython3",
   "version": "3.6.1"
  }
 },
 "nbformat": 4,
 "nbformat_minor": 2
}
