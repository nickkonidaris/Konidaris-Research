{
 "cells": [
  {
   "cell_type": "markdown",
   "metadata": {},
   "source": [
    "Created for mirmos proposal"
   ]
  },
  {
   "cell_type": "code",
   "execution_count": 1,
   "metadata": {
    "collapsed": true
   },
   "outputs": [],
   "source": [
    "import numpy as np\n",
    "import matplotlib.pyplot as plt\n",
    "import scipy.interpolate\n",
    "import corner\n",
    "\n",
    "from platon.fit_info import FitInfo\n",
    "from platon.retriever import Retriever\n",
    "from platon.constants import R_sun, R_jup, M_jup\n",
    "\n",
    "from platon.transit_depth_calculator import TransitDepthCalculator\n",
    "from platon.constants import M_jup, R_sun, R_jup\n",
    "from platon.abundance_getter import AbundanceGetter\n",
    "\n",
    "\n",
    "# All quantities in SI\n",
    "Rs = 1.16 * R_sun     #Radius of star\n",
    "Mp = 1.00 * M_jup     #Mass of planet\n",
    "Rp = 1.00 * R_jup      #Radius of planet\n",
    "T = 1200.              #Temperature of isothermal part of the atmosphere\n",
    "\n",
    "\n",
    "from pylab import *"
   ]
  },
  {
   "cell_type": "code",
   "execution_count": 9,
   "metadata": {
    "collapsed": true
   },
   "outputs": [],
   "source": [
    "SPECTRAL_RES = 300"
   ]
  },
  {
   "cell_type": "code",
   "execution_count": 10,
   "metadata": {
    "collapsed": true
   },
   "outputs": [],
   "source": [
    "bins = []\n",
    "l = 0.95\n",
    "waves = [0.7]\n",
    "bins = [[0.65, 0.75]]\n",
    "\n",
    "while l < 2.45:\n",
    "    dl = l/SPECTRAL_RES\n",
    "    bins.append([l, l+dl])\n",
    "    waves.append(l)\n",
    "    l += dl\n",
    "    \n",
    "    \n",
    "bins2 = []\n",
    "l = 0.65\n",
    "waves2 = [0.7]\n",
    "bins2 = [[0.65, 0.75]]\n",
    "\n",
    "while l < 2.45:\n",
    "    dl = l/(SPECTRAL_RES*2)\n",
    "    bins2.append([l, l+dl])\n",
    "    waves2.append(l)\n",
    "    l += dl\n",
    "    \n",
    "bins,bins2 = map(lambda x: np.array(x)/1e6, [bins, bins2])"
   ]
  },
  {
   "cell_type": "markdown",
   "metadata": {},
   "source": [
    "Wavelengths that define out of band regions"
   ]
  },
  {
   "cell_type": "code",
   "execution_count": 11,
   "metadata": {
    "collapsed": true
   },
   "outputs": [],
   "source": [
    "oobs = [[0.8, 0.972], [1.124, 1.153], [1.352, 1.466], [1.807, 1.921]]"
   ]
  },
  {
   "cell_type": "code",
   "execution_count": 12,
   "metadata": {
    "collapsed": true
   },
   "outputs": [],
   "source": [
    "dat1 = np.loadtxt(\"atran.smo.12555.dat.txt\")\n",
    "dat2 = np.loadtxt(\"atran.smo.12560.dat.txt\")\n",
    "_, latm1, tatm1 = dat1.T\n",
    "_, latm2, tatm2 = dat2.T\n",
    "\n",
    "latm = np.concatenate([latm2, latm1])/1e6\n",
    "tatm = np.concatenate([tatm2, tatm1])\n"
   ]
  },
  {
   "cell_type": "code",
   "execution_count": 13,
   "metadata": {
    "collapsed": true
   },
   "outputs": [],
   "source": [
    "l = np.array(waves)\n",
    "in_band = ((l>0.6) & (l<.8)) | \\\n",
    "            ((l>0.972) & (l < 1.124)) | \\\n",
    "            ((l > 1.153) & (l < 1.352)) |\\\n",
    "            ((l>1.466) & (l<1.807)) |\\\n",
    "            ((l>1.921) & (l<2.404))\n",
    "oob = l>0\n",
    "\n",
    "depth_calculator = TransitDepthCalculator()\n",
    "depth_calculator.change_wavelength_bins(bins)\n",
    "wavelengths, transit_depths = depth_calculator.compute_depths(\n",
    "    Rs, Mp, Rp, T, CO_ratio=0.2, cloudtop_pressure=1e6, add_scattering=True,\n",
    "    scattering_slope=4, scattering_factor=10)\n",
    "\n",
    "model_calc = TransitDepthCalculator()\n",
    "model_calc.change_wavelength_bins(bins2)\n",
    "mw, md = model_calc.compute_depths(\n",
    "    Rs, Mp, Rp, T, CO_ratio=0.2, cloudtop_pressure=1e6, add_scattering=True,\n",
    "    scattering_slope=4, scattering_factor=10)\n",
    "\n",
    "\n",
    "errors = np.zeros_like(transit_depths)\n",
    "errors[:] = 30e-6"
   ]
  },
  {
   "cell_type": "code",
   "execution_count": 14,
   "metadata": {},
   "outputs": [
    {
     "name": "stderr",
     "output_type": "stream",
     "text": [
      "/Users/npk/Dropbox/virtualenv/astropy/lib/python3.6/site-packages/numpy/core/fromnumeric.py:2957: RuntimeWarning: Mean of empty slice.\n",
      "  out=out, **kwargs)\n",
      "/Users/npk/Dropbox/virtualenv/astropy/lib/python3.6/site-packages/numpy/core/_methods.py:80: RuntimeWarning: invalid value encountered in double_scalars\n",
      "  ret = ret.dtype.type(ret / rcount)\n"
     ]
    }
   ],
   "source": [
    "for ix,dl in enumerate(bins):\n",
    "    roi = (latm>dl[0]) & (latm<=dl[1])\n",
    "    trans = np.median(tatm[roi])\n",
    "    snr_max = 1/20e-6\n",
    "    N_obs = snr_max**2 * trans\n",
    "\n",
    "    errors[ix] = 1/np.sqrt(N_obs)\n",
    "\n",
    "errors[0] = 20e-6\n",
    "\n",
    "\n",
    "for oob in oobs:\n",
    "    roi = (wavelengths*1e6>oob[0]) & (wavelengths*1e6<=oob[1])\n",
    "    errors[roi] = 0"
   ]
  },
  {
   "cell_type": "code",
   "execution_count": 17,
   "metadata": {},
   "outputs": [
    {
     "data": {
      "image/png": "[encoded data removed]",
      "text/plain": [
       "<matplotlib.figure.Figure at 0x11776a080>"
      ]
     },
     "metadata": {},
     "output_type": "display_data"
    }
   ],
   "source": [
    "\n",
    "font = {'family' : 'serif',\n",
    "      'weight' : 'normal',\n",
    "      'size'   : 13}\n",
    "\n",
    "    \n",
    "#rc('font', font=font)\n",
    "#rc('xtick', labelsize='large')\n",
    "#rc('ytick', labelsize='large')\n",
    "\n",
    "figure(figsize=(7, 3.2))\n",
    "#title(\" Spectrum of a Hot Jupiter Transit Observed with MIRMOS\")\n",
    "\n",
    "mus = transit_depths*1e6\n",
    "sigs = errors*1e6\n",
    "vals = np.random.randn(len(mus))*sigs + mus\n",
    "\n",
    "if False:\n",
    "    plot(l, vals, 'ko')\n",
    "    errorbar(l, vals, errors*1e6, fmt='k,')\n",
    "else:\n",
    "    plot(mw*1e6,md*1e6, color='red', alpha=0.8, lw=1)\n",
    "    plot(l,transit_depths*1e6, 'ok',)\n",
    "    errorbar(l, transit_depths*1e6, errors*1e6, fmt='k,')\n",
    "    errorbar(l[0], transit_depths[0]*1e6, yerr=errors[0]*1e6, xerr=0.1, fmt='k,')\n",
    "    \n",
    "for oob in oobs:\n",
    "    fill_betweenx([0,10000], [oob[0], oob[0]], [oob[1], oob[1]], color='grey')\n",
    "    roi = (wavelengths*1e6>oob[0]) & (wavelengths*1e6<=oob[1])\n",
    "    plot(l[roi], transit_depths[roi]*1e6, 'o', color='darkgrey')\n",
    "\n",
    "\n",
    "xlim(0.6,2.45)\n",
    "v = 8175\n",
    "text(0.61, v-25, \"Alignment\\ncamera\")\n",
    "text(oobs[0][1]*1.06, v, \"Y\")\n",
    "text(oobs[1][1]*1.08, v, \"J\")\n",
    "text(oobs[2][1]*1.11, v, \"H\")\n",
    "text(oobs[3][1]*1.13, 8100, \"K\")\n",
    "    \n",
    "ylim(7920, 8200)\n",
    "\n",
    "ax = gca()\n",
    "ax.set_xlabel('Wavelength [$\\mu m$]', fontdict=font)\n",
    "ax.set_ylabel('Transit depth [ppm]', fontdict=font)\n",
    "legend([\"model\", \"MIRMOS\"])\n",
    "\n",
    "\n",
    "show()"
   ]
  },
  {
   "cell_type": "markdown",
   "metadata": {},
   "source": [
    "# Dump to file"
   ]
  },
  {
   "cell_type": "code",
   "execution_count": 18,
   "metadata": {},
   "outputs": [
    {
     "name": "stderr",
     "output_type": "stream",
     "text": [
      "/Users/npk/Dropbox/virtualenv/astropy/lib/python3.6/site-packages/numpy/core/fromnumeric.py:2957: RuntimeWarning: Mean of empty slice.\n",
      "  out=out, **kwargs)\n",
      "/Users/npk/Dropbox/virtualenv/astropy/lib/python3.6/site-packages/numpy/core/_methods.py:80: RuntimeWarning: invalid value encountered in double_scalars\n",
      "  ret = ret.dtype.type(ret / rcount)\n"
     ]
    }
   ],
   "source": [
    "for ix,dl in enumerate(bins):\n",
    "    roi = (latm>dl[0]) & (latm<=dl[1])\n",
    "    trans = np.median(tatm[roi])\n",
    "    snr_max = 1/20e-6\n",
    "    N_obs = snr_max**2 * trans\n",
    "\n",
    "    errors[ix] = 1/np.sqrt(N_obs)\n",
    "\n",
    "errors[0] = 20e-6\n",
    "\n",
    "\n",
    "for oob in oobs:\n",
    "    roi = (wavelengths*1e6>oob[0]) & (wavelengths*1e6<=oob[1])\n",
    "    errors[roi] = 1"
   ]
  },
  {
   "cell_type": "code",
   "execution_count": 22,
   "metadata": {},
   "outputs": [
    {
     "data": {
      "image/png": "[encoded data removed]",
      "text/plain": [
       "<matplotlib.figure.Figure at 0x10f4b4d68>"
      ]
     },
     "metadata": {},
     "output_type": "display_data"
    }
   ],
   "source": [
    "plot(l, errors, '.')\n",
    "ylim(0,100e-6)\n",
    "show()"
   ]
  },
  {
   "cell_type": "code",
   "execution_count": 56,
   "metadata": {},
   "outputs": [],
   "source": [
    "outs = [\"Start\\t\\tStop\\t\\tUncertainty\\t\\tExample\"]\n",
    "outs.append(\"µm\\t\\tµm\\t\\t\\t\\t\\tdepth\")\n",
    "\n",
    "for ix, b in enumerate(bins):\n",
    "    outs.append(\"%e\\t %e\\t %e \\t\\t%e\" % (b[0], b[1], errors[ix], transit_depths[ix]))\n",
    "    \n",
    "f = open(\"for_mmin_21-jan-2020.txt\", \"w\")\n",
    "f.write(\"\\n\".join(outs))\n",
    "f.close()"
   ]
  },
  {
   "cell_type": "code",
   "execution_count": 55,
   "metadata": {},
   "outputs": [
    {
     "data": {
      "text/plain": [
       "'/Users/npk/Dropbox/REPOS/Konidaris-Research/notebooks/MIRMOS'"
      ]
     },
     "execution_count": 55,
     "metadata": {},
     "output_type": "execute_result"
    }
   ],
   "source": [
    "%pwd"
   ]
  },
  {
   "cell_type": "markdown",
   "metadata": {},
   "source": [
    "# Take hd209548b spectra from Deming+ 2013"
   ]
  },
  {
   "cell_type": "markdown",
   "metadata": {},
   "source": [
    "1.119 14512.7 50.6 1.121 17545.5 100.4\n",
    "1.138 14546.5 35.5 1.139 17697.6 97.6\n",
    "1.157 14566.3 35.2 1.158 17582.1 96.7\n",
    "1.175 14523.1 34.6 1.177 17772.4 94.8\n",
    "1.194 14528.7 34.1 1.196 17685.8 93.4\n",
    "1.213 14549.9 33.7 1.215 17427.6 92.3\n",
    "1.232 14571.8 33.5 1.234 17386.4 91.6\n",
    "1.251 14538.6 33.6 1.252 17552.8 91.6\n",
    "1.270 14522.2 33.8 1.271 17538.6 92.0\n",
    "1.288 14538.4 33.7 1.290 17435.2 91.5\n",
    "1.307 14535.9 33.4 1.309 17323.6 90.8\n",
    "1.326 14604.5 33.4 1.328 17525.0 90.7\n",
    "1.345 14685.0 33.5 1.347 17696.1 90.7\n",
    "1.364 14779.0 33.9 1.365 17832.1 91.4\n",
    "1.383 14752.1 34.4 1.384 17674.6 92.6\n",
    "1.401 14788.8 34.5 1.403 17569.4 93.0\n",
    "1.420 14705.2 34.7 1.422 17609.2 93.2\n",
    "1.439 14701.7 35.0 1.441 17660.1 93.8\n",
    "1.458 14677.7 35.4 1.460 17923.9 94.7\n",
    "1.477 14695.1 35.9 1.479 17799.7 96.1\n",
    "1.496 14722.3 36.4 1.497 17794.9 97.3\n",
    "1.515 14641.4 36.6 1.516 17771.4 97.9\n",
    "1.533 14676.8 37.1 1.535 17753.9 98.7\n",
    "1.552 14666.2 37.8 1.554 17799.1 100.4\n",
    "1.571 14642.5 38.6 1.573 17590.7 102.4\n",
    "1.590 14594.1 39.2 1.592 17560.9 104.0\n",
    "1.609 14530.1 39.9 1.610 17719.4 105.5\n",
    "1.628 14642.1 40.8 1.629 17650.2 107.7\n",
    "1.648 17595.9 110.6"
   ]
  },
  {
   "cell_type": "code",
   "execution_count": 149,
   "metadata": {
    "collapsed": true
   },
   "outputs": [],
   "source": [
    "lobs = np.array([1.119, 1.138, 1.157, 1.175, 1.194, 1.213, 1.232, 1.251, 1.270, 1.288, 1.307, 1.326, 1.345, 1.364, 1.383, 1.401, 1.420, 1.439, 1.458, 1.477, 1.496, 1.515, 1.533, 1.552, 1.571, 1.590, 1.609, 1.628])\n",
    "\n",
    "sobs = np.array([14512.7, \n",
    "                 14546.5, \n",
    "                 14566.3, \n",
    "                 14523.1, \n",
    "                 14528.7, \n",
    "                 14549.9, \n",
    "                 14571.8, \n",
    "                 14538.6, \n",
    "                 14522.2, \n",
    "                 14538.4, \n",
    "                 14535.9, \n",
    "                 14604.5, \n",
    "                 14685.0, \n",
    "                 14779.0, \n",
    "                 14752.1, \n",
    "                 14788.8, \n",
    "                 14705.2, \n",
    "                 14701.7, \n",
    "                 14677.7, \n",
    "                 14695.1, \n",
    "                 14722.3, \n",
    "                 14641.4, \n",
    "                 14676.8, \n",
    "                 14666.2, \n",
    "                 14642.5, \n",
    "                 14594.1, \n",
    "                 14530.1, \n",
    "                 14642.1])"
   ]
  },
  {
   "cell_type": "code",
   "execution_count": 150,
   "metadata": {
    "collapsed": true
   },
   "outputs": [],
   "source": [
    "Rs = 1.185 * R_sun     #Radius of star\n",
    "Mp = 0.71 * M_jup     #Mass of planet\n",
    "Rp = 1.35 * R_jup      #Radius of planet\n",
    "T = 1500.              #Temperature of isothermal part of the atmosphere\n",
    "\n"
   ]
  },
  {
   "cell_type": "code",
   "execution_count": 160,
   "metadata": {
    "collapsed": true
   },
   "outputs": [],
   "source": [
    "SPECTRAL_RES = 100\n",
    "\n",
    "bins = []\n",
    "l = 0.95\n",
    "waves = [0.7]\n",
    "bins = [[0.65, 0.75]]\n",
    "\n",
    "while l < 2.45:\n",
    "    dl = l/SPECTRAL_RES\n",
    "    bins.append([l, l+dl])\n",
    "    waves.append(l)\n",
    "    l += dl\n",
    "    \n",
    "    \n",
    "bins2 = []\n",
    "l = 0.65\n",
    "waves2 = [0.7]\n",
    "bins2 = [[0.65, 0.75]]\n",
    "\n",
    "while l < 2.45:\n",
    "    dl = l/(50)\n",
    "    bins2.append([l, l+dl])\n",
    "    waves2.append(l)\n",
    "    l += dl\n",
    "    \n",
    "bins,bins2 = map(lambda x: np.array(x)/1e6, [bins, bins2])"
   ]
  },
  {
   "cell_type": "code",
   "execution_count": 161,
   "metadata": {},
   "outputs": [
    {
     "data": {
      "image/png": "[encoded data removed]",
      "text/plain": [
       "<matplotlib.figure.Figure at 0x12593d470>"
      ]
     },
     "metadata": {},
     "output_type": "display_data"
    }
   ],
   "source": [
    "\n",
    "CO = 0.2\n",
    "PRES=0.8e3\n",
    "logz=-0.8\n",
    "\n",
    "depth_calculator = TransitDepthCalculator()\n",
    "depth_calculator.change_wavelength_bins(bins)\n",
    "wavelengths, transit_depths = depth_calculator.compute_depths(\n",
    "    Rs, Mp, Rp, T, CO_ratio=CO, logZ=logz, cloudtop_pressure=PRES, add_scattering=True,\n",
    "    scattering_slope=4, scattering_factor=10)\n",
    "\n",
    "\n",
    "\n",
    "model_calc = TransitDepthCalculator()\n",
    "model_calc.change_wavelength_bins(bins2)\n",
    "mw, md = model_calc.compute_depths(\n",
    "    Rs, Mp, Rp, T, logZ=-0.8, CO_ratio=0.2, cloudtop_pressure=PRES, add_scattering=True,\n",
    "    scattering_slope=4, scattering_factor=10)\n",
    "\n",
    "plot(wavelengths*1e6, transit_depths*1e6, 'ko')\n",
    "plot(lobs,sobs,'ro')\n",
    "step(mw*1e6,md*1e6, where='mid')\n",
    "\n",
    "    \n",
    "for oob in oobs:\n",
    "    \n",
    "    fill_betweenx([0,20000], [oob[0], oob[0]], [oob[1], oob[1]], color='grey')\n",
    "\n",
    "ylim(14400, 15200)\n",
    "xlabel(\"Wavelength [µm]\")\n",
    "ylabel(\"Absorption depth ppm []\")\n",
    "\n",
    "legend([\"MIRMOS\", \"WFC/3 hd209548b\", \"Model\"])\n",
    "show()"
   ]
  },
  {
   "cell_type": "code",
   "execution_count": null,
   "metadata": {
    "collapsed": true
   },
   "outputs": [],
   "source": []
  },
  {
   "cell_type": "code",
   "execution_count": null,
   "metadata": {
    "collapsed": true
   },
   "outputs": [],
   "source": []
  },
  {
   "cell_type": "code",
   "execution_count": 153,
   "metadata": {
    "collapsed": true
   },
   "outputs": [],
   "source": [
    "?model_calc.compute_depths"
   ]
  },
  {
   "cell_type": "code",
   "execution_count": 77,
   "metadata": {
    "collapsed": true
   },
   "outputs": [],
   "source": [
    "?step"
   ]
  },
  {
   "cell_type": "code",
   "execution_count": null,
   "metadata": {
    "collapsed": true
   },
   "outputs": [],
   "source": []
  }
 ],
 "metadata": {
  "kernelspec": {
   "display_name": "Python 3",
   "language": "python",
   "name": "python3"
  },
  "language_info": {
   "codemirror_mode": {
    "name": "ipython",
    "version": 3
   },
   "file_extension": ".py",
   "mimetype": "text/x-python",
   "name": "python",
   "nbconvert_exporter": "python",
   "pygments_lexer": "ipython3",
   "version": "3.7.7"
  }
 },
 "nbformat": 4,
 "nbformat_minor": 2
}
