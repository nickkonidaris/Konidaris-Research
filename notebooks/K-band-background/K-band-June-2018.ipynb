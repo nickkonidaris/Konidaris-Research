{
 "cells": [
  {
   "cell_type": "markdown",
   "metadata": {},
   "source": [
    "Q: What is the estimate kband background?"
   ]
  },
  {
   "cell_type": "code",
   "execution_count": 1,
   "metadata": {
    "collapsed": true
   },
   "outputs": [],
   "source": [
    "import numpy as np\n",
    "%matplotlib inline\n",
    "from pylab import *\n",
    "\n",
    "import scipy.integrate\n",
    "\n",
    "from collections import namedtuple\n",
    "\n",
    "import numpy as np\n",
    "%matplotlib inline\n",
    "from pylab import *\n",
    "\n",
    "from astropy import units as ur\n",
    "from astropy import constants as cc\n",
    "import astropy.modeling.blackbody\n",
    "\n"
   ]
  },
  {
   "cell_type": "code",
   "execution_count": 2,
   "metadata": {
    "collapsed": true
   },
   "outputs": [],
   "source": [
    "hc = cc.h * cc.c\n",
    "micron = ur.meter * 1e-6\n",
    "K = ur.Kelvin\n",
    "\n"
   ]
  },
  {
   "cell_type": "code",
   "execution_count": 3,
   "metadata": {},
   "outputs": [],
   "source": [
    "\n",
    "\n",
    "lam = np.arange(2000, 2500) * ur.nanometer\n",
    "epp = hc/lam\n",
    "Temp = 299 * K\n",
    "L_e_Omega_lam = astropy.modeling.blackbody.blackbody_lambda(lam, Temp)\n",
    "\n",
    "number_mirrors = 3\n",
    "\n",
    "emissivity = 1 - 0.97**(2)"
   ]
  },
  {
   "cell_type": "code",
   "execution_count": 4,
   "metadata": {},
   "outputs": [
    {
     "data": {
      "text/latex": [
       "$[1.323517 \\times 10^{-5},~1.3361831 \\times 10^{-5},~1.3489559 \\times 10^{-5},~\\dots,~0.00052426787,~0.00052727135,~0.00053028919] \\; \\mathrm{\\frac{erg}{\\mathring{A}\\,s\\,sr\\,cm^{2}}}$"
      ],
      "text/plain": [
       "<Quantity [1.32351701e-05, 1.33618311e-05, 1.34895589e-05, 1.36183614e-05,\n",
       "           1.37482463e-05, 1.38792212e-05, 1.40112940e-05, 1.41444726e-05,\n",
       "           1.42787647e-05, 1.44141784e-05, 1.45507216e-05, 1.46884024e-05,\n",
       "           1.48272288e-05, 1.49672090e-05, 1.51083510e-05, 1.52506632e-05,\n",
       "           1.53941537e-05, 1.55388309e-05, 1.56847032e-05, 1.58317789e-05,\n",
       "           1.59800664e-05, 1.61295743e-05, 1.62803111e-05, 1.64322854e-05,\n",
       "           1.65855058e-05, 1.67399810e-05, 1.68957197e-05, 1.70527308e-05,\n",
       "           1.72110231e-05, 1.73706054e-05, 1.75314866e-05, 1.76936758e-05,\n",
       "           1.78571820e-05, 1.80220142e-05, 1.81881816e-05, 1.83556933e-05,\n",
       "           1.85245587e-05, 1.86947869e-05, 1.88663873e-05, 1.90393693e-05,\n",
       "           1.92137423e-05, 1.93895158e-05, 1.95666994e-05, 1.97453025e-05,\n",
       "           1.99253349e-05, 2.01068063e-05, 2.02897264e-05, 2.04741050e-05,\n",
       "           2.06599519e-05, 2.08472770e-05, 2.10360904e-05, 2.12264020e-05,\n",
       "           2.14182218e-05, 2.16115601e-05, 2.18064269e-05, 2.20028325e-05,\n",
       "           2.22007871e-05, 2.24003012e-05, 2.26013851e-05, 2.28040491e-05,\n",
       "           2.30083040e-05, 2.32141601e-05, 2.34216281e-05, 2.36307186e-05,\n",
       "           2.38414425e-05, 2.40538104e-05, 2.42678331e-05, 2.44835217e-05,\n",
       "           2.47008870e-05, 2.49199401e-05, 2.51406919e-05, 2.53631536e-05,\n",
       "           2.55873365e-05, 2.58132516e-05, 2.60409104e-05, 2.62703242e-05,\n",
       "           2.65015043e-05, 2.67344623e-05, 2.69692096e-05, 2.72057579e-05,\n",
       "           2.74441188e-05, 2.76843039e-05, 2.79263252e-05, 2.81701943e-05,\n",
       "           2.84159232e-05, 2.86635238e-05, 2.89130082e-05, 2.91643883e-05,\n",
       "           2.94176763e-05, 2.96728844e-05, 2.99300248e-05, 3.01891099e-05,\n",
       "           3.04501520e-05, 3.07131636e-05, 3.09781571e-05, 3.12451451e-05,\n",
       "           3.15141402e-05, 3.17851551e-05, 3.20582025e-05, 3.23332953e-05,\n",
       "           3.26104463e-05, 3.28896685e-05, 3.31709749e-05, 3.34543784e-05,\n",
       "           3.37398923e-05, 3.40275297e-05, 3.43173039e-05, 3.46092282e-05,\n",
       "           3.49033160e-05, 3.51995808e-05, 3.54980360e-05, 3.57986952e-05,\n",
       "           3.61015721e-05, 3.64066804e-05, 3.67140339e-05, 3.70236464e-05,\n",
       "           3.73355318e-05, 3.76497042e-05, 3.79661774e-05, 3.82849658e-05,\n",
       "           3.86060834e-05, 3.89295445e-05, 3.92553634e-05, 3.95835544e-05,\n",
       "           3.99141322e-05, 4.02471111e-05, 4.05825057e-05, 4.09203307e-05,\n",
       "           4.12606009e-05, 4.16033310e-05, 4.19485360e-05, 4.22962306e-05,\n",
       "           4.26464300e-05, 4.29991492e-05, 4.33544034e-05, 4.37122077e-05,\n",
       "           4.40725775e-05, 4.44355282e-05, 4.48010751e-05, 4.51692337e-05,\n",
       "           4.55400197e-05, 4.59134486e-05, 4.62895362e-05, 4.66682983e-05,\n",
       "           4.70497508e-05, 4.74339095e-05, 4.78207905e-05, 4.82104098e-05,\n",
       "           4.86027837e-05, 4.89979283e-05, 4.93958599e-05, 4.97965949e-05,\n",
       "           5.02001498e-05, 5.06065411e-05, 5.10157854e-05, 5.14278993e-05,\n",
       "           5.18428996e-05, 5.22608031e-05, 5.26816268e-05, 5.31053875e-05,\n",
       "           5.35321024e-05, 5.39617886e-05, 5.43944632e-05, 5.48301436e-05,\n",
       "           5.52688470e-05, 5.57105910e-05, 5.61553931e-05, 5.66032707e-05,\n",
       "           5.70542417e-05, 5.75083236e-05, 5.79655345e-05, 5.84258920e-05,\n",
       "           5.88894143e-05, 5.93561194e-05, 5.98260254e-05, 6.02991504e-05,\n",
       "           6.07755129e-05, 6.12551312e-05, 6.17380237e-05, 6.22242090e-05,\n",
       "           6.27137056e-05, 6.32065323e-05, 6.37027078e-05, 6.42022510e-05,\n",
       "           6.47051807e-05, 6.52115162e-05, 6.57212763e-05, 6.62344803e-05,\n",
       "           6.67511475e-05, 6.72712971e-05, 6.77949487e-05, 6.83221216e-05,\n",
       "           6.88528356e-05, 6.93871102e-05, 6.99249652e-05, 7.04664205e-05,\n",
       "           7.10114960e-05, 7.15602116e-05, 7.21125875e-05, 7.26686438e-05,\n",
       "           7.32284007e-05, 7.37918787e-05, 7.43590981e-05, 7.49300795e-05,\n",
       "           7.55048434e-05, 7.60834105e-05, 7.66658016e-05, 7.72520375e-05,\n",
       "           7.78421392e-05, 7.84361276e-05, 7.90340239e-05, 7.96358493e-05,\n",
       "           8.02416251e-05, 8.08513725e-05, 8.14651132e-05, 8.20828685e-05,\n",
       "           8.27046602e-05, 8.33305100e-05, 8.39604396e-05, 8.45944710e-05,\n",
       "           8.52326260e-05, 8.58749269e-05, 8.65213958e-05, 8.71720548e-05,\n",
       "           8.78269264e-05, 8.84860330e-05, 8.91493970e-05, 8.98170411e-05,\n",
       "           9.04889879e-05, 9.11652603e-05, 9.18458812e-05, 9.25308734e-05,\n",
       "           9.32202601e-05, 9.39140643e-05, 9.46123094e-05, 9.53150186e-05,\n",
       "           9.60222154e-05, 9.67339233e-05, 9.74501659e-05, 9.81709669e-05,\n",
       "           9.88963500e-05, 9.96263392e-05, 1.00360958e-04, 1.01100232e-04,\n",
       "           1.01844183e-04, 1.02592837e-04, 1.03346218e-04, 1.04104350e-04,\n",
       "           1.04867258e-04, 1.05634967e-04, 1.06407500e-04, 1.07184884e-04,\n",
       "           1.07967142e-04, 1.08754300e-04, 1.09546384e-04, 1.10343417e-04,\n",
       "           1.11145426e-04, 1.11952436e-04, 1.12764472e-04, 1.13581560e-04,\n",
       "           1.14403726e-04, 1.15230995e-04, 1.16063393e-04, 1.16900947e-04,\n",
       "           1.17743681e-04, 1.18591624e-04, 1.19444799e-04, 1.20303235e-04,\n",
       "           1.21166958e-04, 1.22035993e-04, 1.22910368e-04, 1.23790110e-04,\n",
       "           1.24675244e-04, 1.25565799e-04, 1.26461801e-04, 1.27363278e-04,\n",
       "           1.28270256e-04, 1.29182763e-04, 1.30100827e-04, 1.31024474e-04,\n",
       "           1.31953733e-04, 1.32888632e-04, 1.33829197e-04, 1.34775458e-04,\n",
       "           1.35727442e-04, 1.36685177e-04, 1.37648692e-04, 1.38618014e-04,\n",
       "           1.39593173e-04, 1.40574197e-04, 1.41561114e-04, 1.42553953e-04,\n",
       "           1.43552744e-04, 1.44557514e-04, 1.45568294e-04, 1.46585112e-04,\n",
       "           1.47607998e-04, 1.48636980e-04, 1.49672089e-04, 1.50713354e-04,\n",
       "           1.51760805e-04, 1.52814470e-04, 1.53874382e-04, 1.54940568e-04,\n",
       "           1.56013060e-04, 1.57091888e-04, 1.58177081e-04, 1.59268671e-04,\n",
       "           1.60366687e-04, 1.61471161e-04, 1.62582123e-04, 1.63699604e-04,\n",
       "           1.64823635e-04, 1.65954247e-04, 1.67091471e-04, 1.68235339e-04,\n",
       "           1.69385881e-04, 1.70543129e-04, 1.71707115e-04, 1.72877871e-04,\n",
       "           1.74055428e-04, 1.75239818e-04, 1.76431073e-04, 1.77629225e-04,\n",
       "           1.78834307e-04, 1.80046350e-04, 1.81265388e-04, 1.82491452e-04,\n",
       "           1.83724576e-04, 1.84964792e-04, 1.86212133e-04, 1.87466633e-04,\n",
       "           1.88728323e-04, 1.89997237e-04, 1.91273409e-04, 1.92556872e-04,\n",
       "           1.93847660e-04, 1.95145806e-04, 1.96451344e-04, 1.97764307e-04,\n",
       "           1.99084730e-04, 2.00412648e-04, 2.01748093e-04, 2.03091100e-04,\n",
       "           2.04441704e-04, 2.05799939e-04, 2.07165841e-04, 2.08539442e-04,\n",
       "           2.09920780e-04, 2.11309887e-04, 2.12706800e-04, 2.14111554e-04,\n",
       "           2.15524184e-04, 2.16944725e-04, 2.18373214e-04, 2.19809684e-04,\n",
       "           2.21254173e-04, 2.22706717e-04, 2.24167350e-04, 2.25636110e-04,\n",
       "           2.27113032e-04, 2.28598153e-04, 2.30091510e-04, 2.31593138e-04,\n",
       "           2.33103074e-04, 2.34621356e-04, 2.36148020e-04, 2.37683103e-04,\n",
       "           2.39226642e-04, 2.40778675e-04, 2.42339238e-04, 2.43908370e-04,\n",
       "           2.45486108e-04, 2.47072489e-04, 2.48667552e-04, 2.50271334e-04,\n",
       "           2.51883873e-04, 2.53505208e-04, 2.55135377e-04, 2.56774418e-04,\n",
       "           2.58422369e-04, 2.60079270e-04, 2.61745159e-04, 2.63420075e-04,\n",
       "           2.65104056e-04, 2.66797143e-04, 2.68499374e-04, 2.70210788e-04,\n",
       "           2.71931425e-04, 2.73661325e-04, 2.75400527e-04, 2.77149071e-04,\n",
       "           2.78906997e-04, 2.80674345e-04, 2.82451155e-04, 2.84237467e-04,\n",
       "           2.86033322e-04, 2.87838761e-04, 2.89653823e-04, 2.91478550e-04,\n",
       "           2.93312982e-04, 2.95157161e-04, 2.97011127e-04, 2.98874922e-04,\n",
       "           3.00748587e-04, 3.02632164e-04, 3.04525694e-04, 3.06429219e-04,\n",
       "           3.08342781e-04, 3.10266421e-04, 3.12200182e-04, 3.14144106e-04,\n",
       "           3.16098235e-04, 3.18062611e-04, 3.20037278e-04, 3.22022277e-04,\n",
       "           3.24017653e-04, 3.26023446e-04, 3.28039701e-04, 3.30066461e-04,\n",
       "           3.32103768e-04, 3.34151667e-04, 3.36210201e-04, 3.38279413e-04,\n",
       "           3.40359348e-04, 3.42450048e-04, 3.44551559e-04, 3.46663924e-04,\n",
       "           3.48787187e-04, 3.50921393e-04, 3.53066586e-04, 3.55222812e-04,\n",
       "           3.57390114e-04, 3.59568537e-04, 3.61758127e-04, 3.63958928e-04,\n",
       "           3.66170987e-04, 3.68394347e-04, 3.70629055e-04, 3.72875156e-04,\n",
       "           3.75132696e-04, 3.77401721e-04, 3.79682277e-04, 3.81974409e-04,\n",
       "           3.84278164e-04, 3.86593589e-04, 3.88920730e-04, 3.91259632e-04,\n",
       "           3.93610344e-04, 3.95972912e-04, 3.98347383e-04, 4.00733804e-04,\n",
       "           4.03132222e-04, 4.05542685e-04, 4.07965239e-04, 4.10399933e-04,\n",
       "           4.12846814e-04, 4.15305930e-04, 4.17777329e-04, 4.20261060e-04,\n",
       "           4.22757169e-04, 4.25265706e-04, 4.27786720e-04, 4.30320258e-04,\n",
       "           4.32866369e-04, 4.35425102e-04, 4.37996507e-04, 4.40580631e-04,\n",
       "           4.43177526e-04, 4.45787239e-04, 4.48409820e-04, 4.51045319e-04,\n",
       "           4.53693785e-04, 4.56355269e-04, 4.59029820e-04, 4.61717488e-04,\n",
       "           4.64418324e-04, 4.67132378e-04, 4.69859700e-04, 4.72600342e-04,\n",
       "           4.75354353e-04, 4.78121784e-04, 4.80902688e-04, 4.83697113e-04,\n",
       "           4.86505113e-04, 4.89326738e-04, 4.92162039e-04, 4.95011069e-04,\n",
       "           4.97873879e-04, 5.00750521e-04, 5.03641047e-04, 5.06545508e-04,\n",
       "           5.09463958e-04, 5.12396449e-04, 5.15343033e-04, 5.18303762e-04,\n",
       "           5.21278690e-04, 5.24267870e-04, 5.27271353e-04, 5.30289195e-04] erg / (Angstrom cm2 s sr)>"
      ]
     },
     "execution_count": 4,
     "metadata": {},
     "output_type": "execute_result"
    }
   ],
   "source": [
    "L_e_Omega_lam"
   ]
  },
  {
   "cell_type": "code",
   "execution_count": 5,
   "metadata": {
    "collapsed": true
   },
   "outputs": [],
   "source": [
    "Amirror = 30 * ur.meter**2 \n",
    "Omega_1as2 = 1/4.25e10 * ur.steradian\n",
    "\n",
    "Phi_lam = L_e_Omega_lam * Amirror * Omega_1as2 * emissivity"
   ]
  },
  {
   "cell_type": "code",
   "execution_count": 6,
   "metadata": {},
   "outputs": [],
   "source": [
    "Phi_lam.to(ur.Watt/ur.angstrom)\n",
    "N_lam = Phi_lam/epp"
   ]
  },
  {
   "cell_type": "code",
   "execution_count": 7,
   "metadata": {
    "collapsed": true
   },
   "outputs": [],
   "source": [
    "def angle_to_omega(rad):\n",
    "    \n",
    "    return np.pi*np.sin(rad)**2"
   ]
  },
  {
   "cell_type": "code",
   "execution_count": 8,
   "metadata": {
    "collapsed": true
   },
   "outputs": [],
   "source": [
    "def fnum_to_Omega(fnum):\n",
    "    \" See eq. 24 https://www.labsphere.com/site/assets/files/2551/integrating_sphere_theory_apps_tech_guide.pdf\"\n",
    "    \n",
    "    return np.pi/(4*fnum*fnum) * ur.steradian"
   ]
  },
  {
   "cell_type": "code",
   "execution_count": 9,
   "metadata": {},
   "outputs": [
    {
     "data": {
      "text/latex": [
       "$0.34906585 \\; \\mathrm{sr}$"
      ],
      "text/plain": [
       "<Quantity 0.34906585 sr>"
      ]
     },
     "execution_count": 9,
     "metadata": {},
     "output_type": "execute_result"
    }
   ],
   "source": [
    "fnum_to_Omega(1.5)"
   ]
  },
  {
   "cell_type": "code",
   "execution_count": 10,
   "metadata": {},
   "outputs": [
    {
     "data": {
      "text/plain": [
       "'3.0.3'"
      ]
     },
     "execution_count": 10,
     "metadata": {},
     "output_type": "execute_result"
    }
   ],
   "source": [
    "astropy.version.version"
   ]
  },
  {
   "cell_type": "code",
   "execution_count": null,
   "metadata": {
    "collapsed": true
   },
   "outputs": [],
   "source": [
    "astropy.modeling.blackbody.blackbody_lambda"
   ]
  },
  {
   "cell_type": "code",
   "execution_count": 11,
   "metadata": {
    "collapsed": true
   },
   "outputs": [],
   "source": [
    "def model(lam, number_mirrors=3, temp=299*K, D_tel=10*ur.meter, fnum=2, reflectivity=0.96,\n",
    "         efficiency = .35):\n",
    "    \"\"\" Return BB curve for the reflective component of a telescope system\n",
    "    \n",
    "    Args:\n",
    "        lam[] -- Wavelengths [L] to consider\n",
    "        number_mirrors -- Number of warm reflections in the system\n",
    "        temp -- The warm temperature [Temp]\n",
    "        D_tel -- Telescope diaemter [L]\n",
    "        fnum -- The focal ratio of the camera\n",
    "        reflectivity -- Reflectivity of the bounce\n",
    "        efficiency -- System efficiency\n",
    "        \n",
    "    Returns:\n",
    "        Spectrum in units of 1/(s Angstrom) with same dimensionality as lam\n",
    "     \"\"\"\n",
    "    epp = hc/lam\n",
    "\n",
    "    # Specific spectral radiance in photon / sr/ m2 / bw\n",
    "    L_e_Omega_lam = astropy.modeling.blackbody.blackbody_lambda(lam, temp)\n",
    "    emissivity = 1 - reflectivity**(number_mirrors)\n",
    "    print(\"Emissivity of system is: %3.2f \" % emissivity)\n",
    "        \n",
    "    Omega = fnum_to_Omega(fnum)\n",
    "    A_pixel = (18*ur.micron)**2   \n",
    "    A_1as = (D_tel*fnum/206265)**2\n",
    "    \n",
    "    AREA = A_1as\n",
    "\n",
    "    Phi_lam = L_e_Omega_lam * Omega * AREA * emissivity # Phi_lam is [Power]/[Bandwidth]\n",
    "    N_lam = Phi_lam/epp # N_lam is [Hz]/[Bandwidth]\n",
    "    \n",
    "    nlam = N_lam.to(ur.Hertz/ur.angstrom) / (ur.Hertz/ur.angstrom) * efficiency\n",
    "    flam = L_e_Omega_lam * Omega * emissivity * efficiency\n",
    "\n",
    "    return nlam, flam"
   ]
  },
  {
   "cell_type": "code",
   "execution_count": 12,
   "metadata": {},
   "outputs": [
    {
     "name": "stdout",
     "output_type": "stream",
     "text": [
      "Emissivity of system is: 0.12 \n",
      "Emissivity of system is: 0.08 \n",
      "Emissivity of system is: 0.12 \n",
      "Emissivity of system is: 0.12 \n"
     ]
    },
    {
     "data": {
      "text/plain": [
       "<matplotlib.lines.Line2D at 0x109151710>"
      ]
     },
     "execution_count": 12,
     "metadata": {},
     "output_type": "execute_result"
    },
    {
     "data": {
      "image/png": "[encoded data removed]",
      "text/plain": [
       "<matplotlib.figure.Figure at 0x109098940>"
      ]
     },
     "metadata": {},
     "output_type": "display_data"
    }
   ],
   "source": [
    "\n",
    "m = ur.meter\n",
    "lam = np.arange(2000, 2500) * ur.nm\n",
    "\n",
    "figure(figsize=(10,7))\n",
    "semilogy(lam, model(lam, number_mirrors=3, fnum=3.54, D_tel=6.5*m, temp=299*K)[0])\n",
    "semilogy(lam, model(lam, number_mirrors=2, fnum=1.8, D_tel=10*m, temp=277*K)[0])\n",
    "\n",
    "semilogy(lam, model(lam, number_mirrors=3, fnum=1.6, D_tel=6.5*m, temp=299*K)[0])\n",
    "semilogy(lam, model(lam, number_mirrors=3, fnum=1.6, D_tel=6.5*m, temp=277*K)[0])\n",
    "\n",
    "\n",
    "legend([\"Fire 299K\", \"MOSFIRE277K\", \"FIRMOS 299K\", \"FIRMOS 277K\"])\n",
    "xlabel(\"Wavelength [nm]\")\n",
    "ylabel(\"Signal [Photon / s / Angstrom / pixel]\")\n",
    "title(\"Telescope background Keck/Magellan assuming 4% emissivity per bounce in 1 pixel\")\n",
    "grid(True)\n",
    "\n",
    "\n",
    "# The crosshair comes from GWEN, see info at end of this file\n",
    "axhline(3.8, color='black')\n",
    "axvline(2385, color='black')"
   ]
  },
  {
   "cell_type": "code",
   "execution_count": 13,
   "metadata": {},
   "outputs": [
    {
     "name": "stdout",
     "output_type": "stream",
     "text": [
      "Emissivity of system is: 0.12 \n"
     ]
    },
    {
     "data": {
      "text/latex": [
       "$[446492.23,~451216.05,~455984.71,~\\dots,~27568600,~27748750,~27929919] \\; \\mathrm{Jy}$"
      ],
      "text/plain": [
       "<Quantity [  446492.22942807,   451216.04973827,   455984.71173449,\n",
       "             460798.58928753,   465658.05891681,   470563.49980541,\n",
       "             475515.29381515,   480513.82550173,   485559.48212996,\n",
       "             490652.65368901,   495793.73290775,   500983.11527011,\n",
       "             506221.19903057,   511508.38522965,   516845.07770947,\n",
       "             522231.6831294 ,   527668.61098172,   533156.27360742,\n",
       "             538695.08621194,   544285.46688111,   549927.83659707,\n",
       "             555622.6192542 ,   561370.24167527,   567171.13362749,\n",
       "             573025.7278387 ,   578934.46001364,   584897.7688502 ,\n",
       "             590916.09605582,   596989.88636389,   603119.58755024,\n",
       "             609305.65044968,   615548.52897265,   621848.6801218 ,\n",
       "             628206.56400881,   634622.64387113,   641097.38608885,\n",
       "             647631.26020162,   654224.73892562,   660878.2981706 ,\n",
       "             667592.417057  ,   674367.5779331 ,   681204.26639223,\n",
       "             688102.9712901 ,   695064.18476212,   702088.40224084,\n",
       "             709176.12247339,   716327.84753907,   723544.08286689,\n",
       "             730825.33725332,   738172.12287992,   745584.95533122,\n",
       "             753064.35361249,   760610.84016776,   768224.94089768,\n",
       "             775907.18517768,   783658.10587598,   791478.23937181,\n",
       "             799368.12557366,   807328.30793752,   815359.33348527,\n",
       "             823461.75282312,   831636.12016008,   839882.99332648,\n",
       "             848202.93379264,   856596.50668751,   865064.28081742,\n",
       "             873606.8286849 ,   882224.7265075 ,   890918.5542368 ,\n",
       "             899688.89557731,   908536.33800562,   917461.47278949,\n",
       "             926464.89500699,   935547.20356585,   944709.00122267,\n",
       "             953950.89460237,   963273.49421764,   972677.41448839,\n",
       "             982163.27376138,   991731.69432978,  1001383.302453  ,\n",
       "            1011118.72837631,  1020938.6063508 ,  1030843.57465314,\n",
       "            1040834.27560568,  1050911.35559635,  1061075.46509883,\n",
       "            1071327.25869265,  1081667.39508345,  1092096.53712324,\n",
       "            1102615.35183071,  1113224.51041169,  1123924.68827964,\n",
       "            1134716.56507612,  1145600.82469144,  1156578.15528532,\n",
       "            1167649.24930762,  1178814.80351916,  1190075.51901254,\n",
       "            1201432.1012331 ,  1212885.2599999 ,  1224435.70952678,\n",
       "            1236084.16844351,  1247831.35981689,  1259678.0111721 ,\n",
       "            1271624.85451398,  1283672.6263484 ,  1295822.0677037 ,\n",
       "            1308073.92415222,  1320428.94583188,  1332887.8874678 ,\n",
       "            1345451.50839403,  1358120.57257529,  1370895.84862884,\n",
       "            1383778.10984635,  1396768.13421588,  1409866.7044439 ,\n",
       "            1423074.60797741,  1436392.63702609,  1449821.58858449,\n",
       "            1463362.26445436,  1477015.47126701,  1490782.02050569,\n",
       "            1504662.72852811,  1518658.41658897,  1532769.9108626 ,\n",
       "            1546998.04246559,  1561343.6474796 ,  1575807.56697412,\n",
       "            1590390.64702935,  1605093.73875916,  1619917.69833408,\n",
       "            1634863.38700436,  1649931.67112314,  1665123.4221696 ,\n",
       "            1680439.51677224,  1695880.83673226,  1711448.26904684,\n",
       "            1727142.7059327 ,  1742965.04484961,  1758916.1885239 ,\n",
       "            1774997.04497221,  1791208.52752514,  1807551.55485105,\n",
       "            1824027.05097991,  1840635.94532724,  1857379.17271799,\n",
       "            1874257.67341071,  1891272.39312154,  1908424.28304843,\n",
       "            1925714.29989538,  1943143.40589675,  1960712.56884154,\n",
       "            1978422.76209791,  1996274.96463764,  2014270.16106065,\n",
       "            2032409.34161965,  2050693.50224487,  2069123.64456869,\n",
       "            2087700.77595056,  2106425.90950181,  2125300.06411066,\n",
       "            2144324.26446716,  2163499.54108823,  2182826.9303429 ,\n",
       "            2202307.47447742,  2221942.22164055,  2241732.2259089 ,\n",
       "            2261678.54731224,  2281782.25185908,  2302044.41156204,\n",
       "            2322466.10446353,  2343048.41466141,  2363792.43233458,\n",
       "            2384699.25376885,  2405769.98138272,  2427005.72375334,\n",
       "            2448407.59564235,  2469976.71802206,  2491714.2181014 ,\n",
       "            2513621.22935214,  2535698.89153509,  2557948.35072636,\n",
       "            2580370.75934366,  2602967.27617287,  2625739.06639427,\n",
       "            2648687.30160922,  2671813.15986672,  2695117.82569   ,\n",
       "            2718602.49010335,  2742268.35065879,  2766116.61146297,\n",
       "            2790148.48320404,  2814365.18317862,  2838767.93531884,\n",
       "            2863357.97021945,  2888136.52516491,  2913104.84415662,\n",
       "            2938264.17794027,  2963615.78403306,  2989160.92675119,\n",
       "            3014900.87723726,  3040836.91348784,  3066970.32038102,\n",
       "            3093302.38970407,  3119834.42018111,  3146567.71750096,\n",
       "            3173503.59434487,  3200643.37041451,  3227988.37245981,\n",
       "            3255539.93430707,  3283299.39688698,  3311268.10826275,\n",
       "            3339447.42365837,  3367838.70548675,  3396443.32337814,\n",
       "            3425262.65420846,  3454298.08212773,  3483550.99858858,\n",
       "            3513022.80237485,  3542714.8996301 ,  3572628.70388638,\n",
       "            3602765.6360929 ,  3633127.12464492,  3663714.60541247,\n",
       "            3694529.52176944,  3725573.32462233,  3756847.47243954,\n",
       "            3788353.4312802 ,  3820092.67482358,  3852066.68439809,\n",
       "            3884276.94901066,  3916724.96537606,  3949412.23794626,\n",
       "            3982340.27893988,  4015510.60837172,  4048924.75408231,\n",
       "            4082584.2517675 ,  4116490.64500823,  4150645.48530006,\n",
       "            4185050.33208333,  4219706.75277259,  4254616.32278682,\n",
       "            4289780.62557928,  4325201.25266754,  4360879.80366352,\n",
       "            4396817.88630378,  4433017.11647955,  4469479.11826708,\n",
       "            4506205.52395787,  4543197.97408914,  4580458.11747424,\n",
       "            4617987.61123301,  4655788.12082247,  4693861.32006729,\n",
       "            4732208.89119056,  4770832.52484434,  4809733.9201406 ,\n",
       "            4848914.78468189,  4888376.8345923 ,  4928121.79454835,\n",
       "            4968151.39780993,  5008467.38625145,  5049071.51039284,\n",
       "            5089965.52943071,  5131151.21126961,  5172630.33255319,\n",
       "            5214404.67869555,  5256476.04391272,  5298846.23125389,\n",
       "            5341517.05263302,  5384490.32886026,  5427767.88967361,\n",
       "            5471351.57377055,  5515243.22883973,  5559444.71159265,\n",
       "            5603957.88779548,  5648784.63230101,  5693926.82908031,\n",
       "            5739386.37125496,  5785165.16112893,  5831265.11022053,\n",
       "            5877688.13929471,  5924436.17839509,  5971511.1668762 ,\n",
       "            6018915.05343584,  6066649.79614724,  6114717.3624915 ,\n",
       "            6163119.72939007,  6211858.88323713,  6260936.81993208,\n",
       "            6310355.54491229,  6360117.07318551,  6410223.42936267,\n",
       "            6460676.64769055,  6511478.77208456,  6562631.85616162,\n",
       "            6614137.96327296,  6665999.16653699,  6718217.54887251,\n",
       "            6770795.20303134,  6823734.23163177,  6877036.74719148,\n",
       "            6930704.8721608 ,  6984740.7389557 ,  7039146.4899914 ,\n",
       "            7093924.27771541,  7149076.26464098,  7204604.62338058,\n",
       "            7260511.53667921,  7316799.19744802,  7373469.80879775,\n",
       "            7430525.58407247,  7487968.74688304,  7545801.53114105,\n",
       "            7604026.18109221,  7662644.95135052,  7721660.10693179,\n",
       "            7781073.92328761,  7840888.68633943,  7901106.69251228,\n",
       "            7961730.24876883,  8022761.67264365,  8084203.29227707,\n",
       "            8146057.44644941,  8208326.48461526,  8271012.76693754,\n",
       "            8334118.66432192,  8397646.5584511 ,  8461598.84181917,\n",
       "            8525977.91776598,  8590786.2005117 ,  8656026.11519121,\n",
       "            8721700.09788873,  8787810.59567227,  8854360.06662844,\n",
       "            8921350.97989691,  8988785.81570536,  9056667.06540396,\n",
       "            9124997.23150036,  9193778.82769456,  9263014.37891354,\n",
       "            9332706.42134642,  9402857.50247932,  9473470.18113038,\n",
       "            9544547.02748475,  9616090.6231297 ,  9688103.56108984,\n",
       "            9760588.44586214,  9833547.89345112,  9906984.53140423,\n",
       "            9980900.99884706, 10055299.94651853, 10130184.03680646,\n",
       "           10205555.94378293, 10281418.35323946, 10357773.9627228 ,\n",
       "           10434625.48157034, 10511975.6309455 , 10589827.14387363,\n",
       "           10668182.76527728, 10747045.25201204, 10826417.37290234,\n",
       "           10906301.90877689, 10986701.65250488, 11067619.4090312 ,\n",
       "           11149057.99541284, 11231020.24085448, 11313508.98674447,\n",
       "           11396527.08669066, 11480077.40655668, 11564162.82449758,\n",
       "           11648786.23099614, 11733950.52889892, 11819658.63345228,\n",
       "           11905913.47233863, 11992717.98571262, 12080075.12623721,\n",
       "           12167987.85912018, 12256459.16215021, 12345492.0257333 ,\n",
       "           12435089.45292896, 12525254.45948698, 12615990.07388337,\n",
       "           12707299.33735712, 12799185.30394657, 12891651.04052595,\n",
       "           12984699.62684194, 13078334.15555019, 13172557.73225201,\n",
       "           13267373.47553074, 13362784.51698897, 13458794.0012845 ,\n",
       "           13555405.08616781, 13652620.94251821, 13750444.75438085,\n",
       "           13848879.71900374, 13947929.04687418, 14047595.96175601,\n",
       "           14147883.70072625, 14248795.51421204, 14350334.66602785,\n",
       "           14452504.43341208, 14555308.10706426, 14658748.99118225,\n",
       "           14762830.40349907, 14867555.67531993, 14972928.15155944,\n",
       "           15078951.19077896, 15185628.16522329, 15292962.46085848,\n",
       "           15400957.47740832, 15509616.62839223, 15618943.34116216,\n",
       "           15728941.05693972, 15839613.23085423, 15950963.33197908,\n",
       "           16062994.84336983, 16175711.2621013 , 16289116.09930494,\n",
       "           16403212.88020628, 16518005.1441626 , 16633496.44469994,\n",
       "           16749690.34955109, 16866590.44069291, 16984200.31438363,\n",
       "           17102523.58120077, 17221563.86607873, 17341324.80834587,\n",
       "           17461810.06176284, 17583023.29455954, 17704968.18947339,\n",
       "           17827648.44378665, 17951067.76936416, 18075229.89269105,\n",
       "           18200138.55491068, 18325797.51186215, 18452210.53411813,\n",
       "           18579381.40702266, 18707313.93072914, 18836011.9202379 ,\n",
       "           18965479.20543408, 19095719.63112557, 19226737.057081  ,\n",
       "           19358535.35806749, 19491118.42388834, 19624490.15942143,\n",
       "           19758654.48465676, 19893615.33473467, 20029376.65998369,\n",
       "           20165942.42595848, 20303316.61347798, 20441503.21866322,\n",
       "           20580506.25297539, 20720329.74325426, 20860977.73175564,\n",
       "           21002454.27618985, 21144763.44975964, 21287909.34119836,\n",
       "           21431896.05480798, 21576727.71049724, 21722408.44381993,\n",
       "           21868942.40601276, 22016333.76403366, 22164586.70059999,\n",
       "           22313705.41422644, 22463694.11926388, 22614557.04593644,\n",
       "           22766298.44038101, 22918922.56468436, 23072433.69692188,\n",
       "           23226836.13119578, 23382134.17767347, 23538332.16262522,\n",
       "           23695434.42846325, 23853445.33377901, 24012369.2533824 ,\n",
       "           24172210.57833958, 24332973.71601121, 24494663.09009071,\n",
       "           24657283.14064299, 24820838.32414211, 24985333.11351001,\n",
       "           25150771.99815495, 25317159.48400929, 25484500.09356818,\n",
       "           25652798.36592803, 25822058.85682428, 25992286.13867027,\n",
       "           26163484.80059557, 26335659.44848389, 26508814.70501182,\n",
       "           26682955.20968691, 26858085.61888609, 27034210.60589426,\n",
       "           27211334.86094253, 27389463.09124617, 27568600.02104353,\n",
       "           27748750.39163401, 27929918.96141658] Jy>"
      ]
     },
     "execution_count": 13,
     "metadata": {},
     "output_type": "execute_result"
    }
   ],
   "source": [
    "_,flam = model(lam, number_mirrors=3, fnum=3.54, D_tel=6.5*m, temp=299*K)\n",
    "\n",
    "\n",
    "(flam*lam**2/cc.c).to(ur.Jansky)"
   ]
  },
  {
   "cell_type": "code",
   "execution_count": 14,
   "metadata": {},
   "outputs": [
    {
     "name": "stdout",
     "output_type": "stream",
     "text": [
      "Emissivity of system is: 0.12 \n"
     ]
    },
    {
     "data": {
      "text/plain": [
       "<matplotlib.text.Text at 0x109cb1128>"
      ]
     },
     "execution_count": 14,
     "metadata": {},
     "output_type": "execute_result"
    },
    {
     "data": {
      "image/png": "[encoded data removed]",
      "text/plain": [
       "<matplotlib.figure.Figure at 0x10938d7f0>"
      ]
     },
     "metadata": {},
     "output_type": "display_data"
    }
   ],
   "source": [
    "lam = np.arange(2000, 2500) * ur.nm\n",
    "_, flam = model(lam, number_mirrors=3, fnum=3.54, D_tel=6.5*m, temp=299*K)\n",
    "\n",
    "fjy = (flam * lam**2/cc.c)\n",
    "\n",
    "mag = -2.5 * np.log10(fjy/(3631 * ur.Jansky))\n",
    "\n",
    "\n",
    "plot(lam, mag)\n",
    "#ylim(30,10)\n",
    "xlabel(\"Wavelength [nm]\")\n",
    "ylabel(\"AB Mag/$as^2$\")"
   ]
  },
  {
   "cell_type": "markdown",
   "metadata": {},
   "source": [
    "From GWEN Mosfire background in K\n",
    "23847.099  3.01282e-17 ergs/s/cm^2/A\n",
    "\n",
    "8.34641103 × 10-13 erg"
   ]
  },
  {
   "cell_type": "code",
   "execution_count": 15,
   "metadata": {},
   "outputs": [
    {
     "data": {
      "text/latex": [
       "$8.3299611 \\times 10^{-13} \\; \\mathrm{erg}$"
      ],
      "text/plain": [
       "<Quantity 8.3299611e-13 erg>"
      ]
     },
     "execution_count": 15,
     "metadata": {},
     "output_type": "execute_result"
    }
   ],
   "source": [
    "epp=hc/(23847*ur.Angstrom)\n",
    "epp.to(ur.erg)"
   ]
  },
  {
   "cell_type": "code",
   "execution_count": 16,
   "metadata": {},
   "outputs": [
    {
     "data": {
      "text/plain": [
       "3.7671035492386253"
      ]
     },
     "execution_count": 16,
     "metadata": {},
     "output_type": "execute_result"
    }
   ],
   "source": [
    "\n",
    "Sig = 3.01e-17\n",
    "\n",
    "epp = 8.33e-13 # erg\n",
    "Atel = 760000 # cm2\n",
    "\n",
    "pixels = 2.7\n",
    "\n",
    "Sig/epp*Atel/pixels**2 # Photon/s/Angstrom"
   ]
  },
  {
   "cell_type": "code",
   "execution_count": null,
   "metadata": {
    "collapsed": true
   },
   "outputs": [],
   "source": []
  }
 ],
 "metadata": {
  "kernelspec": {
   "display_name": "Python 3",
   "language": "python",
   "name": "python3"
  },
  "language_info": {
   "codemirror_mode": {
    "name": "ipython",
    "version": 3
   },
   "file_extension": ".py",
   "mimetype": "text/x-python",
   "name": "python",
   "nbconvert_exporter": "python",
   "pygments_lexer": "ipython3",
   "version": "3.6.1"
  }
 },
 "nbformat": 4,
 "nbformat_minor": 2
}
