{
 "cells": [
  {
   "cell_type": "markdown",
   "metadata": {},
   "source": [
    "Q: What is the estimate kband background?"
   ]
  },
  {
   "cell_type": "code",
   "execution_count": 4,
   "metadata": {},
   "outputs": [],
   "source": [
    "import numpy as np\n",
    "%matplotlib inline\n",
    "from pylab import *\n",
    "\n",
    "import scipy.integrate\n",
    "import scipy\n",
    "\n",
    "\n",
    "\n",
    "\n",
    "from collections import namedtuple\n",
    "\n",
    "import numpy as np\n",
    "%matplotlib inline\n",
    "from pylab import *\n",
    "\n",
    "import astropy\n",
    "from astropy import units as ur\n",
    "from astropy import constants as cc\n",
    "import astropy.modeling.blackbody\n",
    "\n"
   ]
  },
  {
   "cell_type": "code",
   "execution_count": 5,
   "metadata": {
    "collapsed": true
   },
   "outputs": [],
   "source": [
    "hc = cc.h * cc.c\n",
    "micron = ur.meter * 1e-6\n",
    "K = ur.Kelvin\n",
    "\n"
   ]
  },
  {
   "cell_type": "code",
   "execution_count": 6,
   "metadata": {
    "collapsed": true
   },
   "outputs": [],
   "source": [
    "\n",
    "\n",
    "lam = np.arange(2000, 2500) * ur.nanometer\n",
    "epp = hc/lam\n",
    "Temp = 299 * K\n",
    "L_e_Omega_lam = astropy.modeling.blackbody.blackbody_lambda(lam, Temp)\n",
    "\n",
    "number_mirrors = 3\n",
    "\n",
    "emissivity = 1 - 0.97**(2)"
   ]
  },
  {
   "cell_type": "code",
   "execution_count": 10,
   "metadata": {},
   "outputs": [
    {
     "data": {
      "text/latex": [
       "$2.5208715 \\; \\mathrm{}$"
      ],
      "text/plain": [
       "<Quantity 2.52087153>"
      ]
     },
     "execution_count": 10,
     "metadata": {},
     "output_type": "execute_result"
    }
   ],
   "source": [
    "astropy.modeling.blackbody.blackbody_lambda(24000*ur.angstrom, 285*ur.K)/astropy.modeling.blackbody.blackbody_lambda(24000*ur.angstrom, 273*ur.K)"
   ]
  },
  {
   "cell_type": "code",
   "execution_count": null,
   "metadata": {
    "collapsed": true
   },
   "outputs": [],
   "source": [
    "Amirror = 30 * ur.meter**2 \n",
    "Omega_1as2 = 1/4.25e10 * ur.steradian\n",
    "\n",
    "Phi_lam = L_e_Omega_lam * Amirror * Omega_1as2 * emissivity"
   ]
  },
  {
   "cell_type": "code",
   "execution_count": null,
   "metadata": {
    "collapsed": true
   },
   "outputs": [],
   "source": [
    "Phi_lam.to(ur.Watt/ur.angstrom)\n",
    "N_lam = Phi_lam/epp"
   ]
  },
  {
   "cell_type": "code",
   "execution_count": null,
   "metadata": {
    "collapsed": true
   },
   "outputs": [],
   "source": [
    "def angle_to_omega(rad):\n",
    "    \n",
    "    return np.pi*np.sin(rad)**2"
   ]
  },
  {
   "cell_type": "code",
   "execution_count": null,
   "metadata": {
    "collapsed": true
   },
   "outputs": [],
   "source": [
    "def fnum_to_Omega(fnum):\n",
    "    \" See eq. 24 https://www.labsphere.com/site/assets/files/2551/integrating_sphere_theory_apps_tech_guide.pdf\"\n",
    "    \n",
    "    return np.pi/(4*fnum*fnum) * ur.steradian"
   ]
  },
  {
   "cell_type": "code",
   "execution_count": null,
   "metadata": {},
   "outputs": [],
   "source": [
    "def model(lam, number_mirrors=3, temp=299*K, D_tel=10*ur.meter, fnum=2, reflectivity=0.96,\n",
    "         efficiency = .3):\n",
    "    \"\"\" Return BB curve for the reflective component of a telescope system\n",
    "    \n",
    "    Args:\n",
    "        lam[] -- Wavelengths [L] to consider\n",
    "        number_mirrors -- Number of warm reflections in the system\n",
    "        temp -- The warm temperature [Temp]\n",
    "        D_tel -- Telescope diaemter [L]\n",
    "        fnum -- The focal ratio of the camera\n",
    "        reflectivity -- Reflectivity of the bounce\n",
    "        efficiency -- System efficiency\n",
    "        \n",
    "    Returns:\n",
    "        Spectrum in units of 1/(s Angstrom) with same dimensionality as lam\n",
    "     \"\"\"\n",
    "    epp = hc/lam\n",
    "\n",
    "    # Specific spectral radiance in photon / sr/ m2 / bw\n",
    "    L_e_Omega_lam = astropy.modeling.blackbody.blackbody_lambda(lam, temp)\n",
    "    emissivity = 1 - reflectivity**(number_mirrors)\n",
    "    print(\"Emissivity of system is: %3.2f \" % emissivity)\n",
    "        \n",
    "    Omega = fnum_to_Omega(fnum)\n",
    "    # DOESNT WORK BECAUSE OF flam BELOW A_pixel = (18*ur.micron)**2   \n",
    "    A_1as = (D_tel*fnum/206265)**2\n",
    "    \n",
    "    AREA = A_1as\n",
    "\n",
    "    Phi_lam = L_e_Omega_lam * Omega * AREA * emissivity # Phi_lam is [Power]/[Bandwidth]\n",
    "    N_lam = Phi_lam/epp # N_lam is [Hz]/[Bandwidth]\n",
    "    \n",
    "    nlam = N_lam.to(ur.Hertz/ur.angstrom) / (ur.Hertz/ur.angstrom) * efficiency\n",
    "    flam = L_e_Omega_lam * (1*ur.arcsecond)**2 * emissivity * efficiency\n",
    "\n",
    "    return nlam, flam.to(ur.erg/ur.second/ur.Angstrom/ur.cm**2)"
   ]
  },
  {
   "cell_type": "markdown",
   "metadata": {},
   "source": [
    "## Sanity checks"
   ]
  },
  {
   "cell_type": "code",
   "execution_count": null,
   "metadata": {},
   "outputs": [],
   "source": [
    "print(\"This is a radiometry sanity check, both values should be the same\")\n",
    "\n",
    "\n",
    "\n",
    "Dtel = 6.5*ur.meter\n",
    "fnum = 2\n",
    "eps = .12 * .3\n",
    "\n",
    "\n",
    "# Detector based\n",
    "Omega_fnum = fnum_to_Omega(fnum)\n",
    "A_1as = (Dtel*fnum/206265)**2\n",
    "\n",
    "\n",
    "# Telescope based\n",
    "Omega_1as = (ur.arcsecond)**2\n",
    "Atel = np.pi*(Dtel/2)**2\n",
    "\n",
    "v = astropy.modeling.blackbody.blackbody_lambda(24000, 300) * \\\n",
    "    Omega_fnum * eps * A_1as\n",
    "\n",
    "print(\"Detector based: \", v.to(ur.erg/ur.s/ur.Angstrom))\n",
    "\n",
    "v = astropy.modeling.blackbody.blackbody_lambda(24000, 300) * \\\n",
    "     Omega_1as * eps * Atel\n",
    "\n",
    "print(\"Telescope based: \", v.to(ur.erg/ur.s/ur.Angstrom))\n",
    "\n",
    "\n"
   ]
  },
  {
   "cell_type": "markdown",
   "metadata": {},
   "source": [
    "Compare to SpectralCalc.com\n",
    "\n",
    " Spectral Radiance: \t0.0031363 W/m2/sr/µm\n",
    "  @ 2.4 µm and 300 K with emissivity of 1"
   ]
  },
  {
   "cell_type": "code",
   "execution_count": null,
   "metadata": {},
   "outputs": [],
   "source": [
    "astropy.modeling.blackbody.blackbody_lambda(24000, 300).to(ur.Watt/ur.meter**2/ur.steradian/ur.micron)"
   ]
  },
  {
   "cell_type": "markdown",
   "metadata": {},
   "source": [
    "## Calculations"
   ]
  },
  {
   "cell_type": "code",
   "execution_count": null,
   "metadata": {},
   "outputs": [],
   "source": [
    "\n",
    "m = ur.meter\n",
    "lam = np.arange(2000, 2500) * ur.nm\n",
    "\n",
    "figure(figsize=(10,7))\n",
    "semilogy(lam, model(lam, number_mirrors=3, fnum=3.54, D_tel=6.5*m, temp=299*K)[0])\n",
    "semilogy(lam, model(lam, number_mirrors=2, fnum=1.8, D_tel=10*m, temp=277*K)[0])\n",
    "\n",
    "semilogy(lam, model(lam, number_mirrors=3, fnum=1.6, D_tel=6.5*m, temp=299*K)[0])\n",
    "semilogy(lam, model(lam, number_mirrors=3, fnum=1.6, D_tel=6.5*m, temp=277*K)[0])\n",
    "\n",
    "\n",
    "legend([\"Fire 299K\", \"MOSFIRE277K\", \"FIRMOS 299K\", \"FIRMOS 277K\"])\n",
    "xlabel(\"Wavelength [nm]\")\n",
    "ylabel(\"Signal [Photon / s / Angstrom / pixel]\")\n",
    "title(\"Telescope background Keck/Magellan assuming 4% emissivity per bounce in 1 pixel\")\n",
    "grid(True)\n",
    "\n",
    "\n",
    "# The crosshair comes from GWEN, see info at end of this file\n",
    "axhline(3.8, color='black')\n",
    "axvline(2385, color='black')"
   ]
  },
  {
   "cell_type": "code",
   "execution_count": null,
   "metadata": {},
   "outputs": [],
   "source": [
    "_,flam = model(lam, number_mirrors=3, fnum=3.54, D_tel=6.5*m, temp=299*K)\n",
    "\n",
    "\n",
    "(flam*lam**2/cc.c).to(ur.Jansky)"
   ]
  },
  {
   "cell_type": "markdown",
   "metadata": {},
   "source": [
    "### MOSFIRE Comparison"
   ]
  },
  {
   "cell_type": "markdown",
   "metadata": {},
   "source": [
    "To compare to MOSFIRE I took the data from the Keck Webpage (1) below and Gwen sent me Chuck's raw background measurements (2)."
   ]
  },
  {
   "cell_type": "markdown",
   "metadata": {},
   "source": [
    "## From Keck web page"
   ]
  },
  {
   "cell_type": "code",
   "execution_count": null,
   "metadata": {},
   "outputs": [],
   "source": [
    "#https://www2.keck.hawaii.edu/inst/mosfire/sky_lines.html\n",
    "mosfire = astropy.io.fits.open(\"Ksky_abmag.fits\")\n",
    "\n",
    "l0 = mosfire[0].header[\"CRVAL1\"]\n",
    "dl = mosfire[0].header[\"CDELT1\"]\n",
    "\n",
    "webms = mosfire[0].data\n",
    "webll = np.arange(len(webms))\n",
    "webll = webll*dl + l0\n",
    "\n",
    "plot(webll,webms)\n",
    "ylim(19,13)"
   ]
  },
  {
   "cell_type": "markdown",
   "metadata": {},
   "source": [
    "## Data from Chuck\n",
    "\n",
    "MosfireSkySpec_for_nick.tar (email from Gwen who got it from Chuck)"
   ]
  },
  {
   "cell_type": "code",
   "execution_count": null,
   "metadata": {},
   "outputs": [],
   "source": [
    "chuckmos = astropy.io.fits.open(\"MosfireSkySpec/Ksky_cal_pA.fits\")\n",
    "\n",
    "l0 = chuckmos[0].header[\"CRVAL1\"]\n",
    "dl = chuckmos[0].header[\"CDELT1\"]\n",
    "\n",
    "ms = chuckmos[0].data\n",
    "ll = np.arange(len(ms))\n",
    "ll = ll*dl + l0\n",
    "\n",
    "mosll = ll * ur.Angstrom\n",
    "\n",
    "# for a single spatial row for the 0.7\" entrance slit. -- I.e. 0.7\" x 0.18\"\n",
    "ms = ms * ur.erg/ur.second/ur.cm**2/ur.Angstrom/(0.7 * ur.arcsecond * 0.18 * ur.arcsecond) * ur.arcsecond**2\n",
    "mjy = (ms * mosll**2/cc.c).to(ur.Jansky)\n",
    "\n",
    "\n",
    "zpt = 3631*ur.Jansky\n",
    "mosmag = -2.5 * np.log10(mjy/zpt)\n",
    "\n",
    "plot(mosll, mosmag)\n",
    "plot(webll,webms)\n",
    "\n",
    "\n",
    "legend([\"Chuck\", \"web\"])\n",
    "grid(True)\n",
    "ylim(19,13)"
   ]
  },
  {
   "cell_type": "markdown",
   "metadata": {},
   "source": [
    "### Data from Gemini"
   ]
  },
  {
   "cell_type": "code",
   "execution_count": null,
   "metadata": {
    "collapsed": true
   },
   "outputs": [],
   "source": [
    "\n",
    "gdat = np.loadtxt(\"Gemini/mk_skybg_zm_16_10_ph.dat\").T\n",
    "\n",
    "gl = gdat[0] * ur.nm\n",
    "gs = gdat[1] / ur.second / ur.nm / ur.meter**2"
   ]
  },
  {
   "cell_type": "code",
   "execution_count": null,
   "metadata": {
    "collapsed": true
   },
   "outputs": [],
   "source": [
    "gepp = hc/gl\n",
    "gfl = (gepp * gs).to(ur.erg/ur.second/ur.Angstrom/ur.cm**2)\n",
    "\n",
    "gjy = (gfl * gl**2/cc.c).to(ur.Jansky)\n",
    "\n",
    "\n",
    "zpt = 3631*ur.Jansky\n",
    "gemmag = -2.5 * np.log10(gjy/zpt)\n"
   ]
  },
  {
   "cell_type": "code",
   "execution_count": null,
   "metadata": {},
   "outputs": [],
   "source": []
  },
  {
   "cell_type": "markdown",
   "metadata": {},
   "source": [
    "## Transmissivity from SpectralCalc"
   ]
  },
  {
   "cell_type": "code",
   "execution_count": null,
   "metadata": {
    "collapsed": true
   },
   "outputs": [],
   "source": [
    "from astropy.convolution import convolve, Box1DKernel"
   ]
  },
  {
   "cell_type": "code",
   "execution_count": null,
   "metadata": {
    "collapsed": true
   },
   "outputs": [],
   "source": [
    "mkspecc = np.loadtxt(\"spectralcal/nickkonidaris779541946_microns.txt\")\n",
    "lcospec = np.loadtxt(\"spectralcal/nickkonidaris177673445_microns.txt\")\n",
    "mkspecc = mkspecc[::10]\n",
    "lcospec = lcospec[::10]"
   ]
  },
  {
   "cell_type": "code",
   "execution_count": null,
   "metadata": {
    "collapsed": true
   },
   "outputs": [],
   "source": [
    "\n",
    "def get_spec(specc, temp=288):\n",
    "    scl, sct = specc.T\n",
    "\n",
    "    scl = scl * ur.micron\n",
    "\n",
    "    scbb = astropy.modeling.blackbody.blackbody_lambda(scl, temp) * ur.arcsecond**2\n",
    "\n",
    "    scflam = (1-sct) * scbb \n",
    "    scfnu = (scflam*scl**2/cc.c).to(ur.Jansky)\n",
    "    zpt = 3631*ur.Jansky\n",
    "\n",
    "    scfnuprime = convolve(scfnu, Box1DKernel(11000))\n",
    "    scmag = -2.5 * np.log10(scfnuprime/3631)\n",
    "    \n",
    "    return scl, scmag\n",
    "\n",
    "\n",
    "mklam, mkmag = get_spec(mkspecc)\n",
    "lcolam, lcomag = get_spec(lcospec)\n"
   ]
  },
  {
   "cell_type": "markdown",
   "metadata": {},
   "source": [
    "# Now compute and Plot things up"
   ]
  },
  {
   "cell_type": "code",
   "execution_count": null,
   "metadata": {
    "scrolled": false
   },
   "outputs": [],
   "source": [
    "def plot_telescope(num_mirror=3, fnum=3.6, dtel=6.5*m, temp=300*K, reflectivity=0.9, atm_spec=None):\n",
    "    lam = np.arange(2000, 2500) * ur.nm\n",
    "\n",
    "    _, flam = model(lam, number_mirrors=num_mirror, fnum=fnum, D_tel=dtel, temp=temp, reflectivity=reflectivity)\n",
    "    flam = flam \n",
    "    fjy = (flam * lam**2/cc.c)\n",
    "\n",
    "    zpt = 3631*ur.Jansky\n",
    "    mag = -2.5 * np.log10(fjy/zpt)\n",
    "    ff = np.poly1d(np.polyfit(lam, mag, 1))\n",
    "    print(ff)\n",
    "\n",
    "    if atm_spec is not None:\n",
    "        sl, sm = atm_spec\n",
    "\n",
    "        sf = 10**(-sm/2.5)\n",
    "        \n",
    "        fun = scipy.interpolate.interp1d(sl.to(ur.nm), sf, bounds_error=False)\n",
    "        atm = fun(lam.to(ur.nm))\n",
    "\n",
    "        mag = -2.5*np.log10(atm + fjy/zpt)\n",
    "\n",
    "\n",
    "    title(\"TBGD for f/%2.1f with ø%s telescope @ %s and $\\epsilon=%s^{%s}$\\n%s\" % (fnum, dtel, temp, \n",
    "                                                                               reflectivity, num_mirror,ff))\n",
    "    plot(lam, mag, 'ro')\n",
    "\n",
    "\n",
    "    xlabel(\"Wavelength [nm]\")\n",
    "    ylabel(\"AB Mag/$as^2$\")\n",
    "\n",
    "    gwens_data = (2380.1, 2.745e-17 * ur.erg/ur.s/ur.cm**2/ur.angstrom * (2380.1*ur.nm)**2/cc.c)\n",
    "    h = -2.5 * np.log10(gwens_data[1]/zpt/(0.7*0.18))\n",
    "\n",
    "    axvline(gwens_data[0], color='red')\n",
    "        \n",
    "\n",
    "    plot(mosll/10, mosmag, 'k')\n",
    "    ylim(19,13)\n",
    "    xlim(1900, 2500)\n",
    "    \n",
    "    if atm_spec is None:\n",
    "        legend([\"Tel + atm\", 'mosfire (gwen)', 'chuck'])\n",
    "    else:\n",
    "        sl, sm = atm_spec\n",
    "        plot(sl.to(ur.nm), sm)\n",
    "        \n",
    "        print(sl[10], sm[10])\n",
    "        legend([\"Tel + atm\", 'mosfire (gwen)', 'chuck', \"atm\"])\n",
    "        \n",
    "    axhline(h, color='red')\n",
    "\n",
    "    grid(True)\n",
    "\n",
    "\n",
    "\n",
    "em = .85\n",
    "figure(figsize=(10,5))\n",
    "plot_telescope(3, 3.6, 6.5*m, 284*K, em, atm_spec=(lcolam, lcomag))\n",
    "\n",
    "figure(figsize=(10,5))\n",
    "plot_telescope(3, 3.6, 6.5*m, 288*K, em, atm_spec=(lcolam, lcomag))\n",
    "\n",
    "figure(figsize=(10,5))\n",
    "plot_telescope(2, 1.8, 10*m, 273*K, em, atm_spec=(mklam, mkmag))\n"
   ]
  },
  {
   "cell_type": "markdown",
   "metadata": {},
   "source": [
    "From GWEN Mosfire background in K\n",
    "23847.099  3.01282e-17 ergs/s/cm^2/A with a 0.7\" slit\n",
    "\n",
    "8.34641103 × 10-13 erg"
   ]
  },
  {
   "cell_type": "code",
   "execution_count": null,
   "metadata": {
    "collapsed": true
   },
   "outputs": [],
   "source": [
    "epp=hc/(23847*ur.Angstrom)\n",
    "epp.to(ur.erg)"
   ]
  },
  {
   "cell_type": "code",
   "execution_count": null,
   "metadata": {
    "collapsed": true
   },
   "outputs": [],
   "source": [
    "\n",
    "Sig = 3.01e-17\n",
    "\n",
    "epp = 8.33e-13 # erg\n",
    "Atel = 760000 # cm2\n",
    "\n",
    "pixels = 2.7\n",
    "\n",
    "Sig/epp*Atel/pixels**2 # Photon/s/Angstrom"
   ]
  },
  {
   "cell_type": "code",
   "execution_count": null,
   "metadata": {
    "collapsed": true
   },
   "outputs": [],
   "source": []
  }
 ],
 "metadata": {
  "kernelspec": {
   "display_name": "Python 3",
   "language": "python",
   "name": "python3"
  },
  "language_info": {
   "codemirror_mode": {
    "name": "ipython",
    "version": 3
   },
   "file_extension": ".py",
   "mimetype": "text/x-python",
   "name": "python",
   "nbconvert_exporter": "python",
   "pygments_lexer": "ipython3",
   "version": "3.6.1"
  }
 },
 "nbformat": 4,
 "nbformat_minor": 2
}
