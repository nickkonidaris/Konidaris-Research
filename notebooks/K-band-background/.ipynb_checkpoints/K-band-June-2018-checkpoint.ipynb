{
 "cells": [
  {
   "cell_type": "markdown",
   "metadata": {},
   "source": [
    "Q: What is the estimate kband background?"
   ]
  },
  {
   "cell_type": "code",
   "execution_count": 18,
   "metadata": {
    "collapsed": true
   },
   "outputs": [],
   "source": [
    "import numpy as np\n",
    "%matplotlib inline\n",
    "from pylab import *\n",
    "\n",
    "import scipy.integrate\n",
    "\n",
    "from collections import namedtuple\n",
    "\n",
    "import numpy as np\n",
    "%matplotlib inline\n",
    "from pylab import *\n",
    "\n",
    "from astropy import units as ur\n",
    "from astropy import constants as cc\n",
    "import astropy.modeling.blackbody\n",
    "\n"
   ]
  },
  {
   "cell_type": "code",
   "execution_count": 19,
   "metadata": {
    "collapsed": true
   },
   "outputs": [],
   "source": [
    "hc = cc.h * cc.c\n",
    "micron = ur.meter * 1e-6\n",
    "K = ur.Kelvin\n",
    "\n"
   ]
  },
  {
   "cell_type": "code",
   "execution_count": 50,
   "metadata": {},
   "outputs": [],
   "source": [
    "\n",
    "\n",
    "lam = np.arange(2000, 2500) * ur.nanometer\n",
    "epp = hc/lam\n",
    "Temp = 299 * K\n",
    "L_e_Omega_lam = astropy.modeling.blackbody.blackbody_lambda(lam, Temp)\n",
    "\n",
    "number_mirrors = 3\n",
    "\n",
    "emissivity = 1 - 0.97**(2)"
   ]
  },
  {
   "cell_type": "code",
   "execution_count": 51,
   "metadata": {},
   "outputs": [
    {
     "data": {
      "text/plain": [
       "0.05910000000000004"
      ]
     },
     "execution_count": 51,
     "metadata": {},
     "output_type": "execute_result"
    }
   ],
   "source": [
    "emissivity"
   ]
  },
  {
   "cell_type": "code",
   "execution_count": 52,
   "metadata": {
    "collapsed": true
   },
   "outputs": [],
   "source": [
    "Amirror = 30 * ur.meter**2 \n",
    "Omega_1as2 = 1/4.25e10 * ur.steradian\n",
    "\n",
    "Phi_lam = L_e_Omega_lam * Amirror * Omega_1as2 * emissivity"
   ]
  },
  {
   "cell_type": "code",
   "execution_count": 53,
   "metadata": {},
   "outputs": [],
   "source": [
    "Phi_lam.to(ur.Watt/ur.angstrom)\n",
    "N_lam = Phi_lam/epp"
   ]
  },
  {
   "cell_type": "code",
   "execution_count": 91,
   "metadata": {
    "collapsed": true
   },
   "outputs": [],
   "source": [
    "def fnum_to_Omega(fnum):\n",
    "    \" See eq. 24 https://www.labsphere.com/site/assets/files/2551/integrating_sphere_theory_apps_tech_guide.pdf\"\n",
    "    \n",
    "    \n",
    "    return np.pi/(2*fnum)**2 * ur.steradian"
   ]
  },
  {
   "cell_type": "code",
   "execution_count": 152,
   "metadata": {
    "collapsed": true
   },
   "outputs": [],
   "source": [
    "def model(lam, number_mirrors=3, temp=299*K, D_tel=10*ur.meter, fnum=2):\n",
    "    lam = np.arange(2000, 2500) * ur.nanometer\n",
    "    epp = hc/lam\n",
    "\n",
    "    # Specific spectral radiance in photon / sr/ m2 / bw\n",
    "    L_e_Omega_lam = astropy.modeling.blackbody.blackbody_lambda(lam, temp)\n",
    "\n",
    "    emissivity = 1 - 0.96**(number_mirrors)\n",
    "    print(\"Emissivity: %3.2f\" % emissivity)\n",
    "        \n",
    "    Omega = fnum_to_Omega(fnum)\n",
    "    A_pixel = (0.018*ur.mm)**2 # (D_tel*fnum/206265)**2 #\n",
    "\n",
    "    Phi_lam = L_e_Omega_lam * Omega * A_pixel * emissivity\n",
    "    \n",
    "    Phi_lam.to(ur.Watt/ur.angstrom)\n",
    "    N_lam = Phi_lam/epp\n",
    "    \n",
    "    \n",
    "    efficiency =.35\n",
    "    spec = N_lam.to(ur.Hertz/ur.angstrom) / (ur.Hertz/ur.angstrom) * efficiency\n",
    "\n",
    "    return spec"
   ]
  },
  {
   "cell_type": "code",
   "execution_count": 153,
   "metadata": {},
   "outputs": [
    {
     "name": "stdout",
     "output_type": "stream",
     "text": [
      "Emissivity: 0.12\n"
     ]
    },
    {
     "data": {
      "text/latex": [
       "$[0.34199474,~0.34544028,~0.34891668,~\\dots, 16.91343,~17.017138,~17.121387] \\; \\mathrm{}$"
      ],
      "text/plain": [
       "<Quantity [  0.34199474,  0.34544028,  0.34891668,  0.35242419,\n",
       "             0.35596306,  0.35953352,  0.36313581,  0.36677019,\n",
       "             0.37043691,  0.3741362 ,  0.37786833,  0.38163354,\n",
       "             0.38543209,  0.38926424,  0.39313023,  0.39703033,\n",
       "             0.4009648 ,  0.40493391,  0.40893791,  0.41297707,\n",
       "             0.41705166,  0.42116195,  0.4253082 ,  0.42949069,\n",
       "             0.4337097 ,  0.43796549,  0.44225835,  0.44658856,\n",
       "             0.45095639,  0.45536213,  0.45980606,  0.46428847,\n",
       "             0.46880964,  0.47336987,  0.47796945,  0.48260866,\n",
       "             0.48728781,  0.4920072 ,  0.49676711,  0.50156785,\n",
       "             0.50640972,  0.51129303,  0.51621809,  0.52118519,\n",
       "             0.52619465,  0.53124678,  0.5363419 ,  0.54148032,\n",
       "             0.54666235,  0.55188832,  0.55715855,  0.56247335,\n",
       "             0.56783306,  0.573238  ,  0.5786885 ,  0.5841849 ,\n",
       "             0.58972751,  0.59531669,  0.60095276,  0.60663606,\n",
       "             0.61236693,  0.61814573,  0.62397278,  0.62984845,\n",
       "             0.63577307,  0.641747  ,  0.64777059,  0.65384419,\n",
       "             0.65996817,  0.66614288,  0.67236868,  0.67864594,\n",
       "             0.68497503,  0.6913563 ,  0.69779013,  0.70427689,\n",
       "             0.71081696,  0.71741071,  0.72405852,  0.73076077,\n",
       "             0.73751784,  0.74433012,  0.751198  ,  0.75812186,\n",
       "             0.7651021 ,  0.7721391 ,  0.77923327,  0.78638501,\n",
       "             0.79359471,  0.80086278,  0.80818962,  0.81557564,\n",
       "             0.82302126,  0.83052687,  0.8380929 ,  0.84571976,\n",
       "             0.85340788,  0.86115766,  0.86896955,  0.87684396,\n",
       "             0.88478132,  0.89278206,  0.90084662,  0.90897543,\n",
       "             0.91716893,  0.92542756,  0.93375176,  0.94214198,\n",
       "             0.95059867,  0.95912227,  0.96771325,  0.97637205,\n",
       "             0.98509913,  0.99389495,  1.00275998,  1.01169468,\n",
       "             1.02069952,  1.02977497,  1.0389215 ,  1.04813959,\n",
       "             1.05742972,  1.06679236,  1.076228  ,  1.08573713,\n",
       "             1.09532023,  1.1049778 ,  1.11471033,  1.12451831,\n",
       "             1.13440225,  1.14436264,  1.1544    ,  1.16451482,\n",
       "             1.17470763,  1.18497892,  1.19532922,  1.20575904,\n",
       "             1.21626891,  1.22685934,  1.23753087,  1.24828403,\n",
       "             1.25911934,  1.27003733,  1.28103856,  1.29212355,\n",
       "             1.30329286,  1.31454701,  1.32588658,  1.3373121 ,\n",
       "             1.34882413,  1.36042323,  1.37210996,  1.38388488,\n",
       "             1.39574855,  1.40770156,  1.41974446,  1.43187783,\n",
       "             1.44410226,  1.45641831,  1.46882658,  1.48132766,\n",
       "             1.49392212,  1.50661057,  1.51939359,  1.5322718 ,\n",
       "             1.54524578,  1.55831615,  1.57148352,  1.58474848,\n",
       "             1.59811166,  1.61157368,  1.62513515,  1.6387967 ,\n",
       "             1.65255896,  1.66642254,  1.6803881 ,  1.69445625,\n",
       "             1.70862765,  1.72290293,  1.73728274,  1.75176773,\n",
       "             1.76635854,  1.78105584,  1.79586028,  1.81077253,\n",
       "             1.82579324,  1.84092309,  1.85616275,  1.87151289,\n",
       "             1.88697419,  1.90254733,  1.918233  ,  1.93403188,\n",
       "             1.94994466,  1.96597205,  1.98211473,  1.99837341,\n",
       "             2.01474879,  2.03124159,  2.0478525 ,  2.06458226,\n",
       "             2.08143157,  2.09840115,  2.11549174,  2.13270407,\n",
       "             2.15003885,  2.16749684,  2.18507876,  2.20278536,\n",
       "             2.2206174 ,  2.2385756 ,  2.25666074,  2.27487357,\n",
       "             2.29321484,  2.31168533,  2.3302858 ,  2.34901701,\n",
       "             2.36787975,  2.3868748 ,  2.40600293,  2.42526493,\n",
       "             2.4446616 ,  2.46419371,  2.48386208,  2.5036675 ,\n",
       "             2.52361078,  2.54369272,  2.56391413,  2.58427584,\n",
       "             2.60477865,  2.6254234 ,  2.6462109 ,  2.667142  ,\n",
       "             2.68821752,  2.7094383 ,  2.73080518,  2.75231902,\n",
       "             2.77398065,  2.79579094,  2.81775073,  2.8398609 ,\n",
       "             2.8621223 ,  2.88453581,  2.9071023 ,  2.92982264,\n",
       "             2.95269772,  2.97572841,  2.99891562,  3.02226023,\n",
       "             3.04576314,  3.06942525,  3.09324746,  3.11723068,\n",
       "             3.14137583,  3.16568382,  3.19015558,  3.21479202,\n",
       "             3.23959408,  3.26456269,  3.28969879,  3.31500332,\n",
       "             3.34047722,  3.36612144,  3.39193694,  3.41792468,\n",
       "             3.44408562,  3.47042072,  3.49693095,  3.5236173 ,\n",
       "             3.55048073,  3.57752223,  3.6047428 ,  3.63214341,\n",
       "             3.65972507,  3.68748878,  3.71543554,  3.74356635,\n",
       "             3.77188225,  3.80038423,  3.82907332,  3.85795056,\n",
       "             3.88701696,  3.91627357,  3.94572142,  3.97536157,\n",
       "             4.00519504,  4.03522291,  4.06544622,  4.09586604,\n",
       "             4.12648343,  4.15729946,  4.18831522,  4.21953177,\n",
       "             4.2509502 ,  4.28257161,  4.31439707,  4.3464277 ,\n",
       "             4.37866459,  4.41110885,  4.4437616 ,  4.47662394,\n",
       "             4.50969699,  4.54298189,  4.57647976,  4.61019174,\n",
       "             4.64411897,  4.67826258,  4.71262373,  4.74720358,\n",
       "             4.78200327,  4.81702397,  4.85226685,  4.88773309,\n",
       "             4.92342385,  4.95934031,  4.99548368,  5.03185513,\n",
       "             5.06845586,  5.10528707,  5.14234998,  5.17964578,\n",
       "             5.21717569,  5.25494094,  5.29294275,  5.33118234,\n",
       "             5.36966096,  5.40837984,  5.44734023,  5.48654338,\n",
       "             5.52599054,  5.56568296,  5.60562193,  5.64580869,\n",
       "             5.68624454,  5.72693074,  5.76786859,  5.80905936,\n",
       "             5.85050437,  5.89220489,  5.93416225,  5.97637775,\n",
       "             6.0188527 ,  6.06158843,  6.10458625,  6.14784751,\n",
       "             6.19137353,  6.23516565,  6.27922522,  6.32355359,\n",
       "             6.36815212,  6.41302217,  6.4581651 ,  6.50358228,\n",
       "             6.5492751 ,  6.59524493,  6.64149316,  6.68802119,\n",
       "             6.7348304 ,  6.78192221,  6.82929802,  6.87695925,\n",
       "             6.92490732,  6.97314364,  7.02166965,  7.07048678,\n",
       "             7.11959648,  7.16900019,  7.21869936,  7.26869545,\n",
       "             7.31898992,  7.36958423,  7.42047987,  7.4716783 ,\n",
       "             7.52318102,  7.5749895 ,  7.62710526,  7.67952978,\n",
       "             7.73226457,  7.78531115,  7.83867102,  7.89234572,\n",
       "             7.94633677,  8.00064571,  8.05527407,  8.1102234 ,\n",
       "             8.16549524,  8.22109116,  8.27701272,  8.33326148,\n",
       "             8.38983902,  8.44674691,  8.50398674,  8.5615601 ,\n",
       "             8.61946859,  8.6777138 ,  8.73629735,  8.79522084,\n",
       "             8.85448589,  8.91409414,  8.9740472 ,  9.03434672,\n",
       "             9.09499434,  9.1559917 ,  9.21734045,  9.27904227,\n",
       "             9.3410988 ,  9.40351173,  9.46628273,  9.52941347,\n",
       "             9.59290566,  9.65676098,  9.72098114,  9.78556784,\n",
       "             9.85052279,  9.91584771,  9.98154433, 10.04761437,\n",
       "            10.11405958, 10.18088168, 10.24808244, 10.3156636 ,\n",
       "            10.38362693, 10.45197418, 10.52070714, 10.58982758,\n",
       "            10.65933729, 10.72923805, 10.79953166, 10.87021993,\n",
       "            10.94130466, 11.01278767, 11.08467077, 11.1569558 ,\n",
       "            11.22964459, 11.30273898, 11.37624081, 11.45015193,\n",
       "            11.52447421, 11.5992095 , 11.67435968, 11.74992663,\n",
       "            11.82591222, 11.90231834, 11.9791469 , 12.05639979,\n",
       "            12.13407892, 12.2121862 , 12.29072356, 12.36969292,\n",
       "            12.44909621, 12.52893538, 12.60921237, 12.68992913,\n",
       "            12.77108762, 12.8526898 , 12.93473766, 13.01723316,\n",
       "            13.10017828, 13.18357503, 13.26742539, 13.35173138,\n",
       "            13.43649499, 13.52171825, 13.60740318, 13.69355181,\n",
       "            13.78016617, 13.86724831, 13.95480028, 14.04282413,\n",
       "            14.13132192, 14.22029572, 14.30974762, 14.39967968,\n",
       "            14.49009399, 14.58099266, 14.67237779, 14.76425147,\n",
       "            14.85661584, 14.949473  , 15.04282509, 15.13667423,\n",
       "            15.23102258, 15.32587229, 15.42122549, 15.51708436,\n",
       "            15.61345107, 15.71032779, 15.8077167 , 15.90561998,\n",
       "            16.00403985, 16.10297849, 16.20243811, 16.30242094,\n",
       "            16.40292918, 16.50396508, 16.60553087, 16.70762879,\n",
       "            16.81026109, 16.91343002, 17.01713785, 17.12138685]>"
      ]
     },
     "execution_count": 153,
     "metadata": {},
     "output_type": "execute_result"
    }
   ],
   "source": [
    "model(lam)"
   ]
  },
  {
   "cell_type": "code",
   "execution_count": 155,
   "metadata": {},
   "outputs": [
    {
     "name": "stdout",
     "output_type": "stream",
     "text": [
      "Emissivity: 0.12\n",
      "Emissivity: 0.08\n",
      "Emissivity: 0.12\n",
      "Emissivity: 0.12\n"
     ]
    },
    {
     "data": {
      "text/plain": [
       "<matplotlib.lines.Line2D at 0x10f35c630>"
      ]
     },
     "execution_count": 155,
     "metadata": {},
     "output_type": "execute_result"
    },
    {
     "data": {
      "image/png": "[encoded data removed]",
      "text/plain": [
       "<matplotlib.figure.Figure at 0x10f1742b0>"
      ]
     },
     "metadata": {},
     "output_type": "display_data"
    }
   ],
   "source": [
    "spec = N_lam.to(ur.Hertz/ur.angstrom) / (ur.Hertz/ur.angstrom)\n",
    "\n",
    "m = ur.meter\n",
    "\n",
    "figure(figsize=(10,7))\n",
    "semilogy(lam, model(lam, number_mirrors=3, fnum=3.54, D_tel=6.5*m, temp=299*K))\n",
    "semilogy(lam, model(lam, number_mirrors=2, fnum=1.8, D_tel=10*m, temp=277*K))\n",
    "\n",
    "semilogy(lam, model(lam, number_mirrors=3, fnum=1.6, D_tel=6.5*m, temp=299*K))\n",
    "semilogy(lam, model(lam, number_mirrors=3, fnum=1.6, D_tel=6.5*m, temp=277*K))\n",
    "\n",
    "\n",
    "legend([\"Fire 299K\", \"MOSFIRE277K\", \"FIRMOS 299K\", \"FIRMOS 277K\"])\n",
    "xlabel(\"Wavelength [nm]\")\n",
    "ylabel(\"Signal [Photon / s / Angstrom / pixel]\")\n",
    "title(\"Telescope background Keck/Magellan assuming 4% emissivity per bounce in 1 pixel\")\n",
    "grid(True)\n",
    "\n",
    "\n",
    "# The crosshair comes from GWEN, see info at end of this file\n",
    "axhline(3.8, color='black')\n",
    "axvline(2385, color='black')"
   ]
  },
  {
   "cell_type": "code",
   "execution_count": 132,
   "metadata": {},
   "outputs": [
    {
     "data": {
      "text/latex": [
       "$[9.9322291 \\times 10^{-29},~9.9272655 \\times 10^{-29},~9.9223068 \\times 10^{-29},~\\dots, 7.9553297 \\times 10^{-29},~7.952145 \\times 10^{-29},~7.9489629 \\times 10^{-29}] \\; \\mathrm{\\frac{J\\,m}{nm}}$"
      ],
      "text/plain": [
       "<Quantity [  9.93222912e-29,  9.92726549e-29,  9.92230681e-29,\n",
       "             9.91735309e-29,  9.91240431e-29,  9.90746047e-29,\n",
       "             9.90252156e-29,  9.89758756e-29,  9.89265849e-29,\n",
       "             9.88773432e-29,  9.88281505e-29,  9.87790067e-29,\n",
       "             9.87299117e-29,  9.86808656e-29,  9.86318681e-29,\n",
       "             9.85829193e-29,  9.85340191e-29,  9.84851673e-29,\n",
       "             9.84363639e-29,  9.83876089e-29,  9.83389022e-29,\n",
       "             9.82902437e-29,  9.82416332e-29,  9.81930709e-29,\n",
       "             9.81445565e-29,  9.80960901e-29,  9.80476715e-29,\n",
       "             9.79993006e-29,  9.79509775e-29,  9.79027020e-29,\n",
       "             9.78544741e-29,  9.78062937e-29,  9.77581606e-29,\n",
       "             9.77100750e-29,  9.76620366e-29,  9.76140454e-29,\n",
       "             9.75661014e-29,  9.75182044e-29,  9.74703545e-29,\n",
       "             9.74225515e-29,  9.73747953e-29,  9.73270859e-29,\n",
       "             9.72794233e-29,  9.72318074e-29,  9.71842380e-29,\n",
       "             9.71367151e-29,  9.70892387e-29,  9.70418087e-29,\n",
       "             9.69944250e-29,  9.69470876e-29,  9.68997963e-29,\n",
       "             9.68525512e-29,  9.68053521e-29,  9.67581989e-29,\n",
       "             9.67110917e-29,  9.66640304e-29,  9.66170148e-29,\n",
       "             9.65700449e-29,  9.65231207e-29,  9.64762421e-29,\n",
       "             9.64294089e-29,  9.63826213e-29,  9.63358790e-29,\n",
       "             9.62891820e-29,  9.62425302e-29,  9.61959237e-29,\n",
       "             9.61493623e-29,  9.61028459e-29,  9.60563745e-29,\n",
       "             9.60099480e-29,  9.59635664e-29,  9.59172296e-29,\n",
       "             9.58709375e-29,  9.58246900e-29,  9.57784872e-29,\n",
       "             9.57323289e-29,  9.56862150e-29,  9.56401456e-29,\n",
       "             9.55941205e-29,  9.55481397e-29,  9.55022031e-29,\n",
       "             9.54563106e-29,  9.54104623e-29,  9.53646579e-29,\n",
       "             9.53188975e-29,  9.52731810e-29,  9.52275083e-29,\n",
       "             9.51818795e-29,  9.51362943e-29,  9.50907527e-29,\n",
       "             9.50452547e-29,  9.49998003e-29,  9.49543893e-29,\n",
       "             9.49090217e-29,  9.48636974e-29,  9.48184164e-29,\n",
       "             9.47731786e-29,  9.47279840e-29,  9.46828324e-29,\n",
       "             9.46377239e-29,  9.45926583e-29,  9.45476356e-29,\n",
       "             9.45026558e-29,  9.44577187e-29,  9.44128243e-29,\n",
       "             9.43679726e-29,  9.43231635e-29,  9.42783970e-29,\n",
       "             9.42336729e-29,  9.41889912e-29,  9.41443519e-29,\n",
       "             9.40997548e-29,  9.40552000e-29,  9.40106874e-29,\n",
       "             9.39662168e-29,  9.39217884e-29,  9.38774019e-29,\n",
       "             9.38330574e-29,  9.37887547e-29,  9.37444938e-29,\n",
       "             9.37002747e-29,  9.36560973e-29,  9.36119616e-29,\n",
       "             9.35678674e-29,  9.35238147e-29,  9.34798035e-29,\n",
       "             9.34358337e-29,  9.33919052e-29,  9.33480181e-29,\n",
       "             9.33041721e-29,  9.32603673e-29,  9.32166037e-29,\n",
       "             9.31728811e-29,  9.31291994e-29,  9.30855588e-29,\n",
       "             9.30419590e-29,  9.29984000e-29,  9.29548818e-29,\n",
       "             9.29114043e-29,  9.28679675e-29,  9.28245712e-29,\n",
       "             9.27812155e-29,  9.27379003e-29,  9.26946255e-29,\n",
       "             9.26513911e-29,  9.26081969e-29,  9.25650431e-29,\n",
       "             9.25219294e-29,  9.24788559e-29,  9.24358224e-29,\n",
       "             9.23928290e-29,  9.23498756e-29,  9.23069621e-29,\n",
       "             9.22640884e-29,  9.22212546e-29,  9.21784605e-29,\n",
       "             9.21357061e-29,  9.20929914e-29,  9.20503162e-29,\n",
       "             9.20076806e-29,  9.19650845e-29,  9.19225277e-29,\n",
       "             9.18800104e-29,  9.18375323e-29,  9.17950935e-29,\n",
       "             9.17526940e-29,  9.17103335e-29,  9.16680122e-29,\n",
       "             9.16257299e-29,  9.15834866e-29,  9.15412822e-29,\n",
       "             9.14991167e-29,  9.14569901e-29,  9.14149022e-29,\n",
       "             9.13728530e-29,  9.13308425e-29,  9.12888706e-29,\n",
       "             9.12469373e-29,  9.12050424e-29,  9.11631861e-29,\n",
       "             9.11213681e-29,  9.10795885e-29,  9.10378471e-29,\n",
       "             9.09961440e-29,  9.09544791e-29,  9.09128524e-29,\n",
       "             9.08712637e-29,  9.08297130e-29,  9.07882004e-29,\n",
       "             9.07467256e-29,  9.07052888e-29,  9.06638897e-29,\n",
       "             9.06225285e-29,  9.05812049e-29,  9.05399191e-29,\n",
       "             9.04986708e-29,  9.04574601e-29,  9.04162869e-29,\n",
       "             9.03751512e-29,  9.03340529e-29,  9.02929920e-29,\n",
       "             9.02519684e-29,  9.02109820e-29,  9.01700329e-29,\n",
       "             9.01291209e-29,  9.00882460e-29,  9.00474082e-29,\n",
       "             9.00066073e-29,  8.99658435e-29,  8.99251165e-29,\n",
       "             8.98844264e-29,  8.98437731e-29,  8.98031566e-29,\n",
       "             8.97625768e-29,  8.97220336e-29,  8.96815271e-29,\n",
       "             8.96410570e-29,  8.96006236e-29,  8.95602265e-29,\n",
       "             8.95198659e-29,  8.94795416e-29,  8.94392537e-29,\n",
       "             8.93990020e-29,  8.93587865e-29,  8.93186072e-29,\n",
       "             8.92784640e-29,  8.92383569e-29,  8.91982858e-29,\n",
       "             8.91582506e-29,  8.91182514e-29,  8.90782881e-29,\n",
       "             8.90383606e-29,  8.89984688e-29,  8.89586128e-29,\n",
       "             8.89187925e-29,  8.88790078e-29,  8.88392587e-29,\n",
       "             8.87995451e-29,  8.87598670e-29,  8.87202244e-29,\n",
       "             8.86806172e-29,  8.86410453e-29,  8.86015087e-29,\n",
       "             8.85620073e-29,  8.85225412e-29,  8.84831102e-29,\n",
       "             8.84437143e-29,  8.84043535e-29,  8.83650278e-29,\n",
       "             8.83257370e-29,  8.82864811e-29,  8.82472601e-29,\n",
       "             8.82080739e-29,  8.81689225e-29,  8.81298059e-29,\n",
       "             8.80907239e-29,  8.80516766e-29,  8.80126639e-29,\n",
       "             8.79736857e-29,  8.79347421e-29,  8.78958329e-29,\n",
       "             8.78569582e-29,  8.78181178e-29,  8.77793117e-29,\n",
       "             8.77405399e-29,  8.77018024e-29,  8.76630990e-29,\n",
       "             8.76244298e-29,  8.75857947e-29,  8.75471937e-29,\n",
       "             8.75086266e-29,  8.74700935e-29,  8.74315944e-29,\n",
       "             8.73931291e-29,  8.73546976e-29,  8.73163000e-29,\n",
       "             8.72779360e-29,  8.72396058e-29,  8.72013092e-29,\n",
       "             8.71630463e-29,  8.71248168e-29,  8.70866210e-29,\n",
       "             8.70484586e-29,  8.70103296e-29,  8.69722340e-29,\n",
       "             8.69341717e-29,  8.68961428e-29,  8.68581471e-29,\n",
       "             8.68201846e-29,  8.67822553e-29,  8.67443591e-29,\n",
       "             8.67064960e-29,  8.66686660e-29,  8.66308689e-29,\n",
       "             8.65931048e-29,  8.65553736e-29,  8.65176753e-29,\n",
       "             8.64800098e-29,  8.64423770e-29,  8.64047770e-29,\n",
       "             8.63672097e-29,  8.63296751e-29,  8.62921731e-29,\n",
       "             8.62547036e-29,  8.62172667e-29,  8.61798622e-29,\n",
       "             8.61424902e-29,  8.61051506e-29,  8.60678433e-29,\n",
       "             8.60305684e-29,  8.59933257e-29,  8.59561153e-29,\n",
       "             8.59189370e-29,  8.58817909e-29,  8.58446769e-29,\n",
       "             8.58075950e-29,  8.57705451e-29,  8.57335272e-29,\n",
       "             8.56965412e-29,  8.56595871e-29,  8.56226648e-29,\n",
       "             8.55857744e-29,  8.55489158e-29,  8.55120889e-29,\n",
       "             8.54752936e-29,  8.54385301e-29,  8.54017981e-29,\n",
       "             8.53650977e-29,  8.53284289e-29,  8.52917915e-29,\n",
       "             8.52551856e-29,  8.52186111e-29,  8.51820679e-29,\n",
       "             8.51455561e-29,  8.51090756e-29,  8.50726263e-29,\n",
       "             8.50362082e-29,  8.49998213e-29,  8.49634655e-29,\n",
       "             8.49271408e-29,  8.48908472e-29,  8.48545845e-29,\n",
       "             8.48183529e-29,  8.47821521e-29,  8.47459823e-29,\n",
       "             8.47098432e-29,  8.46737350e-29,  8.46376576e-29,\n",
       "             8.46016109e-29,  8.45655949e-29,  8.45296095e-29,\n",
       "             8.44936548e-29,  8.44577306e-29,  8.44218370e-29,\n",
       "             8.43859738e-29,  8.43501412e-29,  8.43143389e-29,\n",
       "             8.42785670e-29,  8.42428255e-29,  8.42071142e-29,\n",
       "             8.41714332e-29,  8.41357825e-29,  8.41001619e-29,\n",
       "             8.40645715e-29,  8.40290112e-29,  8.39934809e-29,\n",
       "             8.39579807e-29,  8.39225105e-29,  8.38870703e-29,\n",
       "             8.38516599e-29,  8.38162795e-29,  8.37809289e-29,\n",
       "             8.37456081e-29,  8.37103171e-29,  8.36750558e-29,\n",
       "             8.36398242e-29,  8.36046222e-29,  8.35694499e-29,\n",
       "             8.35343072e-29,  8.34991940e-29,  8.34641103e-29,\n",
       "             8.34290560e-29,  8.33940312e-29,  8.33590358e-29,\n",
       "             8.33240698e-29,  8.32891331e-29,  8.32542257e-29,\n",
       "             8.32193475e-29,  8.31844985e-29,  8.31496787e-29,\n",
       "             8.31148880e-29,  8.30801265e-29,  8.30453940e-29,\n",
       "             8.30106905e-29,  8.29760160e-29,  8.29413705e-29,\n",
       "             8.29067539e-29,  8.28721662e-29,  8.28376073e-29,\n",
       "             8.28030773e-29,  8.27685760e-29,  8.27341035e-29,\n",
       "             8.26996596e-29,  8.26652445e-29,  8.26308579e-29,\n",
       "             8.25965000e-29,  8.25621706e-29,  8.25278697e-29,\n",
       "             8.24935973e-29,  8.24593534e-29,  8.24251379e-29,\n",
       "             8.23909508e-29,  8.23567920e-29,  8.23226616e-29,\n",
       "             8.22885594e-29,  8.22544855e-29,  8.22204397e-29,\n",
       "             8.21864222e-29,  8.21524328e-29,  8.21184714e-29,\n",
       "             8.20845382e-29,  8.20506330e-29,  8.20167557e-29,\n",
       "             8.19829065e-29,  8.19490852e-29,  8.19152917e-29,\n",
       "             8.18815261e-29,  8.18477884e-29,  8.18140784e-29,\n",
       "             8.17803962e-29,  8.17467417e-29,  8.17131149e-29,\n",
       "             8.16795158e-29,  8.16459443e-29,  8.16124003e-29,\n",
       "             8.15788839e-29,  8.15453951e-29,  8.15119337e-29,\n",
       "             8.14784998e-29,  8.14450932e-29,  8.14117141e-29,\n",
       "             8.13783623e-29,  8.13450378e-29,  8.13117407e-29,\n",
       "             8.12784707e-29,  8.12452280e-29,  8.12120124e-29,\n",
       "             8.11788240e-29,  8.11456628e-29,  8.11125285e-29,\n",
       "             8.10794214e-29,  8.10463413e-29,  8.10132881e-29,\n",
       "             8.09802619e-29,  8.09472626e-29,  8.09142902e-29,\n",
       "             8.08813446e-29,  8.08484259e-29,  8.08155339e-29,\n",
       "             8.07826687e-29,  8.07498303e-29,  8.07170185e-29,\n",
       "             8.06842333e-29,  8.06514748e-29,  8.06187429e-29,\n",
       "             8.05860375e-29,  8.05533586e-29,  8.05207063e-29,\n",
       "             8.04880804e-29,  8.04554809e-29,  8.04229079e-29,\n",
       "             8.03903612e-29,  8.03578408e-29,  8.03253467e-29,\n",
       "             8.02928789e-29,  8.02604373e-29,  8.02280220e-29,\n",
       "             8.01956328e-29,  8.01632697e-29,  8.01309328e-29,\n",
       "             8.00986219e-29,  8.00663371e-29,  8.00340783e-29,\n",
       "             8.00018455e-29,  7.99696387e-29,  7.99374577e-29,\n",
       "             7.99053027e-29,  7.98731735e-29,  7.98410701e-29,\n",
       "             7.98089925e-29,  7.97769407e-29,  7.97449147e-29,\n",
       "             7.97129143e-29,  7.96809396e-29,  7.96489905e-29,\n",
       "             7.96170671e-29,  7.95851692e-29,  7.95532969e-29,\n",
       "             7.95214501e-29,  7.94896288e-29] J m / nm>"
      ]
     },
     "execution_count": 132,
     "metadata": {},
     "output_type": "execute_result"
    }
   ],
   "source": [
    "epp"
   ]
  },
  {
   "cell_type": "markdown",
   "metadata": {},
   "source": [
    "From GWEN Mosfire background in K\n",
    "23847.099  3.01282e-17 ergs/s/cm^2/A\n",
    "\n",
    "8.34641103 × 10-13 erg"
   ]
  },
  {
   "cell_type": "code",
   "execution_count": 137,
   "metadata": {},
   "outputs": [
    {
     "data": {
      "text/latex": [
       "$8.3299611 \\times 10^{-13} \\; \\mathrm{erg}$"
      ],
      "text/plain": [
       "<Quantity 8.329961102745659e-13 erg>"
      ]
     },
     "execution_count": 137,
     "metadata": {},
     "output_type": "execute_result"
    }
   ],
   "source": [
    "epp=hc/(23847*ur.Angstrom)\n",
    "epp.to(ur.erg)"
   ]
  },
  {
   "cell_type": "code",
   "execution_count": 144,
   "metadata": {},
   "outputs": [
    {
     "data": {
      "text/plain": [
       "3.7671035492386253"
      ]
     },
     "execution_count": 144,
     "metadata": {},
     "output_type": "execute_result"
    }
   ],
   "source": [
    "\n",
    "Sig = 3.01e-17\n",
    "\n",
    "epp = 8.33e-13 # erg\n",
    "Atel = 760000 # cm2\n",
    "\n",
    "pixels = 2.7\n",
    "\n",
    "Sig/epp*Atel/pixels**2 # Photon/s/Angstrom"
   ]
  },
  {
   "cell_type": "code",
   "execution_count": null,
   "metadata": {
    "collapsed": true
   },
   "outputs": [],
   "source": []
  }
 ],
 "metadata": {
  "kernelspec": {
   "display_name": "Python 3",
   "language": "python",
   "name": "python3"
  },
  "language_info": {
   "codemirror_mode": {
    "name": "ipython",
    "version": 3
   },
   "file_extension": ".py",
   "mimetype": "text/x-python",
   "name": "python",
   "nbconvert_exporter": "python",
   "pygments_lexer": "ipython3",
   "version": "3.6.1"
  }
 },
 "nbformat": 4,
 "nbformat_minor": 2
}
