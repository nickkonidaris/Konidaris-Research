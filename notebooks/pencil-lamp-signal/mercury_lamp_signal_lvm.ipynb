{
 "cells": [
  {
   "cell_type": "code",
   "execution_count": 1,
   "metadata": {
    "collapsed": true
   },
   "outputs": [],
   "source": [
    "import numpy as np\n",
    "import astropy\n",
    "import astropy.units as uu\n",
    "import astropy.constants as cc\n",
    "\n",
    "%matplotlib inline\n",
    "from pylab import *\n",
    "\n",
    "π = np.pi"
   ]
  },
  {
   "cell_type": "markdown",
   "metadata": {},
   "source": [
    "See Reader+ (1996) \"Irradiances of spectral lines in mercury pencil lamps\"\n",
    "\n",
    "They find $10^{-6} \\frac{Watt}{cm^2}$ is typical line signal\n",
    "\n",
    "So I assume radiance is $1/4\\pi$ of above (isotropic). Clearly not true, but a good approximation since I'm developing a photon budget."
   ]
  },
  {
   "cell_type": "code",
   "execution_count": 2,
   "metadata": {},
   "outputs": [
    {
     "data": {
      "text/latex": [
       "$7.9577472 \\times 10^{-8} \\; \\mathrm{\\frac{W}{sr\\,cm^{2}}}$"
      ],
      "text/plain": [
       "<Quantity 7.95774715e-08 W / (cm2 sr)>"
      ]
     },
     "execution_count": 2,
     "metadata": {},
     "output_type": "execute_result"
    }
   ],
   "source": [
    "L = 1/(4*π) * 1e-6 * uu.watt/uu.cm**2/uu.sr\n",
    "L"
   ]
  },
  {
   "cell_type": "code",
   "execution_count": 3,
   "metadata": {
    "collapsed": true
   },
   "outputs": [],
   "source": [
    "def Ω(θ):\n",
    "    return π * np.sin(θ)**2 * uu.sr\n",
    "\n",
    "def Ω_fnum(fnum):\n",
    "    return π/(2*fnum)**2 * uu.sr"
   ]
  },
  {
   "cell_type": "code",
   "execution_count": 4,
   "metadata": {
    "collapsed": true
   },
   "outputs": [],
   "source": [
    "fiber_tip = np.radians(30/3600.) # 30 arcsecond fiber in radians\n",
    "diffuser = np.radians(1.1) # 1.1 Degree diffuser\n",
    "\n",
    "\n",
    "tel_fnum = 6\n",
    "fiber_area = (180 * uu.micron)**2\n"
   ]
  },
  {
   "cell_type": "code",
   "execution_count": 5,
   "metadata": {
    "collapsed": true
   },
   "outputs": [],
   "source": [
    "ϵ_collection = .4 # Assume 40% gets into fiber\n",
    "ϵ_reflected = Ω(fiber_tip)/Ω(diffuser)\n",
    "ϵ_telandspec = .4"
   ]
  },
  {
   "cell_type": "code",
   "execution_count": 6,
   "metadata": {},
   "outputs": [
    {
     "data": {
      "text/latex": [
       "$5.7399154 \\times 10^{-5} \\; \\mathrm{}$"
      ],
      "text/plain": [
       "<Quantity 5.73991543e-05>"
      ]
     },
     "execution_count": 6,
     "metadata": {},
     "output_type": "execute_result"
    }
   ],
   "source": [
    "ϵ_reflected"
   ]
  },
  {
   "cell_type": "code",
   "execution_count": 7,
   "metadata": {},
   "outputs": [
    {
     "data": {
      "text/latex": [
       "$3.9728916 \\times 10^{-12} \\; \\mathrm{erg}$"
      ],
      "text/plain": [
       "<Quantity 3.97289165e-12 erg>"
      ]
     },
     "execution_count": 7,
     "metadata": {},
     "output_type": "execute_result"
    }
   ],
   "source": [
    "epp = (cc.h * cc.c / (500 * uu.nm)).cgs\n",
    "epp"
   ]
  },
  {
   "cell_type": "code",
   "execution_count": 8,
   "metadata": {},
   "outputs": [
    {
     "data": {
      "text/latex": [
       "$13.002932 \\; \\mathrm{\\frac{1}{s}}$"
      ],
      "text/plain": [
       "<Quantity 13.00293173 1 / s>"
      ]
     },
     "execution_count": 8,
     "metadata": {},
     "output_type": "execute_result"
    }
   ],
   "source": [
    "Grasp = fiber_area * Ω_fnum(tel_fnum) \n",
    "res = L * ϵ_collection * ϵ_reflected * ϵ_telandspec / epp * Grasp\n",
    "res.cgs"
   ]
  },
  {
   "cell_type": "code",
   "execution_count": 9,
   "metadata": {},
   "outputs": [
    {
     "name": "stdout",
     "output_type": "stream",
     "text": [
      "It will take 3.2 min to observe 2500 photon\n"
     ]
    }
   ],
   "source": [
    "num = 2500\n",
    "ttg = (num / res).to(uu.minute)\n",
    "print(\"It will take {0:1.1f} to observe {1} photon\".format(ttg, num))"
   ]
  },
  {
   "cell_type": "code",
   "execution_count": null,
   "metadata": {
    "collapsed": true
   },
   "outputs": [],
   "source": []
  },
  {
   "cell_type": "code",
   "execution_count": null,
   "metadata": {
    "collapsed": true
   },
   "outputs": [],
   "source": []
  },
  {
   "cell_type": "code",
   "execution_count": null,
   "metadata": {
    "collapsed": true
   },
   "outputs": [],
   "source": []
  },
  {
   "cell_type": "code",
   "execution_count": null,
   "metadata": {
    "collapsed": true
   },
   "outputs": [],
   "source": []
  }
 ],
 "metadata": {
  "kernelspec": {
   "display_name": "Python 3",
   "language": "python",
   "name": "python3"
  },
  "language_info": {
   "codemirror_mode": {
    "name": "ipython",
    "version": 3
   },
   "file_extension": ".py",
   "mimetype": "text/x-python",
   "name": "python",
   "nbconvert_exporter": "python",
   "pygments_lexer": "ipython3",
   "version": "3.6.1"
  }
 },
 "nbformat": 4,
 "nbformat_minor": 2
}
