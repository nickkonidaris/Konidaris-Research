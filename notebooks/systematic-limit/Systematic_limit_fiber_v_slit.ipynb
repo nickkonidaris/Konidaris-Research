{
 "cells": [
  {
   "cell_type": "code",
   "execution_count": 239,
   "metadata": {
    "collapsed": true
   },
   "outputs": [],
   "source": [
    "%matplotlib inline\n",
    "import numpy as np\n",
    "from pylab import *\n",
    "from astropy import units, constants"
   ]
  },
  {
   "cell_type": "code",
   "execution_count": 241,
   "metadata": {
    "collapsed": true
   },
   "outputs": [],
   "source": [
    "\n",
    "def mag_to_flambda(ABmag, leff=1.55 * units.micron):\n",
    "    \n",
    "    fnu = 10**(-0.4 * (ABmag + 48.6)) * units.erg/units.s/units.cm**2/units.Hz\n",
    "    flam = fnu * constants.c / leff**2\n",
    "    \n",
    "    return flam.to(units.erg/units.cm**2/units.s/units.angstrom)\n",
    "    \n",
    "\n",
    "    \n",
    "    \n",
    "    \n",
    "    "
   ]
  },
  {
   "cell_type": "code",
   "execution_count": 242,
   "metadata": {},
   "outputs": [],
   "source": [
    "r=mag_to_flambda(24)"
   ]
  },
  {
   "cell_type": "code",
   "execution_count": 244,
   "metadata": {},
   "outputs": [],
   "source": [
    "skymag = \"skymag\"; objmag = \"objmag\" ; Dtel = \"Dtel\" ; texp = \"texp\" ; skysublimit = \"skysublimit\" ; BW = \"BW\"\n",
    "lam = \"lam\" ; RN = \"RN\" ; Nexp = \"Nexp\" ; Efficiency = \"Efficiency\"\n",
    "m = units.meter ; s = units.second ; percent=.01 ; AA = units.angstrom ; µm = units.micron"
   ]
  },
  {
   "cell_type": "code",
   "execution_count": 335,
   "metadata": {},
   "outputs": [],
   "source": [
    "def compute_snr(system, loud=True):\n",
    "    \"\"\"                                 signal\n",
    "       Gives SNR = --------------------------------------------------------------\n",
    "                    sqrt(signal + background + rn**2) + skysublimit*background \"\"\"\n",
    "    \n",
    "    skyfl = mag_to_flambda(system[skymag])\n",
    "    objfl = mag_to_flambda(system[objmag])\n",
    "\n",
    "    \n",
    "    if loud: print(\"Object: %s   Sky: %s\" % (objfl, skyfl))\n",
    "    r = objfl/skyfl\n",
    "    if loud: print(\"Obj/sky %3.3f\" % r)\n",
    "    \n",
    "    Atel = np.pi * (system[Dtel]/2)**2\n",
    "    t = system[texp]\n",
    "    lim = system[skysublimit]\n",
    "    bw = system[BW]\n",
    "    ll = system[lam]\n",
    "    epp = constants.h * constants.c/ll\n",
    "    rn = system[RN]\n",
    "    nexp = system[Nexp]\n",
    "    eta = system[Efficiency]\n",
    "    \n",
    "    \n",
    "    numsky = (skyfl / epp * bw * t * Atel).cgs * nexp * eta\n",
    "    numobj = (objfl / epp * bw * t * Atel).cgs * nexp * eta\n",
    "    \n",
    "    \n",
    "    SNR = numobj / (np.sqrt(numsky + numobj + rn**2 * nexp + (lim * numsky)**2))\n",
    "    \n",
    "    if loud: print(\"Number obj photons: %3.0f, Number sky photons: %3.0f, %%%1.3f: %3.0f\" % (numobj, numsky,\n",
    "                                                                                            lim, lim*numsky))\n",
    "    if loud: print(\"RN: %3.1f\" % rn)\n",
    "\n",
    "    return SNR"
   ]
  },
  {
   "cell_type": "code",
   "execution_count": 246,
   "metadata": {},
   "outputs": [
    {
     "name": "stdout",
     "output_type": "stream",
     "text": [
      "Object: 7.18054331927879e-19 erg / (Angstrom cm2 s)   Sky: 4.530616544657145e-18 erg / (Angstrom cm2 s)\n",
      "Obj/sky 0.158\n",
      "Number obj photons: 267, Number sky photons: 1686, %0.001:   2\n",
      "RN: 5.0\n"
     ]
    },
    {
     "data": {
      "text/latex": [
       "$4.9777301 \\; \\mathrm{}$"
      ],
      "text/plain": [
       "<Quantity 4.97773008>"
      ]
     },
     "execution_count": 246,
     "metadata": {},
     "output_type": "execute_result"
    }
   ],
   "source": [
    "system = {skymag: 20, objmag: 22, Dtel: 6.5*m, texp: 180*s, skysublimit: .1*percent, BW: 1*AA, lam: 1.65*µm,\n",
    "         RN: 5, Nexp: 30, Efficiency: .25}\n",
    "\n",
    "\n",
    "compute_snr(system)"
   ]
  },
  {
   "cell_type": "code",
   "execution_count": 121,
   "metadata": {
    "collapsed": true
   },
   "outputs": [],
   "source": [
    "\n",
    "\n",
    "def compute_systems(baseline, vary=Dtel, by=[6.5*m, 10.0*m]):\n",
    "    \n",
    "    SNRs = []\n",
    "    for i in range(len(by)):\n",
    "        system = baseline.copy()\n",
    "        system[vary] = by[i]\n",
    "        SNRs.append(compute_snr(system, loud=False))\n",
    "        \n",
    "    return SNRs"
   ]
  },
  {
   "cell_type": "code",
   "execution_count": 191,
   "metadata": {},
   "outputs": [
    {
     "name": "stdout",
     "output_type": "stream",
     "text": [
      "1200.0\n"
     ]
    },
    {
     "data": {
      "text/plain": [
       "<matplotlib.legend.Legend at 0x10dcfe710>"
      ]
     },
     "execution_count": 191,
     "metadata": {},
     "output_type": "execute_result"
    },
    {
     "data": {
      "image/png": "[encoded data removed]",
      "text/plain": [
       "<matplotlib.figure.Figure at 0x10db8e5f8>"
      ]
     },
     "metadata": {},
     "output_type": "display_data"
    }
   ],
   "source": [
    "\n",
    "\n",
    "system = {skymag: 20, objmag: 22, Dtel: 6.5*m, texp: 180*s, skysublimit: .5*percent, BW: 1*AA, lam: 1.65*µm,\n",
    "         RN: 5, Nexp: 30, Efficiency: .25}\n",
    "\n",
    "\n",
    "\n",
    "# long exposure is 10 days or 60 hour\n",
    "# 60*60 / 3 expoures\n",
    "\n",
    "et = system[texp]\n",
    "goal = 60 * units.hour\n",
    "print((goal/et).cgs)\n",
    "\n",
    "night = 6 * 60 # 6 hour\n",
    "npernight = night/3\n",
    "nexps = np.arange(1, 1200, 30)\n",
    "snrs = compute_systems(system, vary=Nexp, by=nexps)\n",
    "\n",
    "\n",
    "\n",
    "ets = (et * nexps).to(units.hour)\n",
    "plot(ets, snrs)\n",
    "plot(ets, np.sqrt(nexps))\n",
    "xlabel(\"Total exposure time [hr]\")\n",
    "ylabel(\"SNR\")\n",
    "grid(True)\n",
    "\n",
    "legend([\"Actual\", \"Root N\"])"
   ]
  },
  {
   "cell_type": "markdown",
   "metadata": {},
   "source": [
    "# By Telescope diameter"
   ]
  },
  {
   "cell_type": "code",
   "execution_count": 353,
   "metadata": {},
   "outputs": [
    {
     "name": "stdout",
     "output_type": "stream",
     "text": [
      "Object: 7.18054331927879e-19 erg / (Angstrom cm2 s)   Sky: 2.858625783874882e-17 erg / (Angstrom cm2 s)\n",
      "Obj/sky 0.025\n",
      "Number obj photons: 177, Number sky photons: 7049, %0.000:   0\n",
      "RN: 0.0\n"
     ]
    },
    {
     "data": {
      "text/plain": [
       "<matplotlib.text.Text at 0x118ce3390>"
      ]
     },
     "execution_count": 353,
     "metadata": {},
     "output_type": "execute_result"
    },
    {
     "data": {
      "image/png": "[encoded data removed]",
      "text/plain": [
       "<matplotlib.figure.Figure at 0x118acb208>"
      ]
     },
     "metadata": {},
     "output_type": "display_data"
    }
   ],
   "source": [
    "\n",
    "\n",
    "system = {skymag: 18, objmag: 22, Dtel: 6.5*m, texp: 180*s, skysublimit: 0.1*percent, BW: 1*AA, lam: 1.65*µm,\n",
    "         RN: 0, Nexp: 600, Efficiency: .35}\n",
    "\n",
    "dtels = np.arange(1,31,1) * units.meter\n",
    "\n",
    "clean = system.copy()\n",
    "clean[skysublimit] = 0\n",
    "clean[Dtel] = dtels[0]\n",
    "baseline = compute_snr(clean)\n",
    "\n",
    "\n",
    "snrs = compute_systems(system, vary=Dtel, by=dtels)\n",
    "\n",
    "total = system[Nexp] * system[texp]\n",
    "lim = system[skysublimit]\n",
    "\n",
    "\n",
    "plot(dtels, snrs/baseline/dtels*dtels[0])\n",
    "axvline(6.5)\n",
    "axvline(10)\n",
    "axvline(30)\n",
    "xlabel(\"Telescope diameter\")\n",
    "ylabel(\"DQE\")\n",
    "ylim(0,1.1)\n",
    "\n",
    "grid(True)\n",
    "title(\"Detected QE given %%%1.1f limit at %s et\" % (lim*100, total.to(units.hour)))"
   ]
  },
  {
   "cell_type": "markdown",
   "metadata": {},
   "source": [
    "## By sky subtraction limit"
   ]
  },
  {
   "cell_type": "code",
   "execution_count": 349,
   "metadata": {},
   "outputs": [
    {
     "name": "stdout",
     "output_type": "stream",
     "text": [
      "Object: 7.18054331927879e-19 erg / (Angstrom cm2 s)   Sky: 2.858625783874882e-17 erg / (Angstrom cm2 s)\n",
      "Obj/sky 0.025\n",
      "Number obj photons: 24937, Number sky photons: 992777, %0.000:  99\n",
      "RN: 5.0\n"
     ]
    },
    {
     "data": {
      "text/plain": [
       "<matplotlib.text.Text at 0x1186ad2e8>"
      ]
     },
     "execution_count": 349,
     "metadata": {},
     "output_type": "execute_result"
    },
    {
     "data": {
      "image/png": "[encoded data removed]",
      "text/plain": [
       "<matplotlib.figure.Figure at 0x11853f518>"
      ]
     },
     "metadata": {},
     "output_type": "display_data"
    }
   ],
   "source": [
    "\n",
    "\n",
    "system = {skymag: 18, objmag: 22, Dtel: 6.5*m, texp: 180*s, skysublimit: 0.1*percent, BW: 1*AA, lam: 1.65*µm,\n",
    "         RN: 5, Nexp: 2000, Efficiency: .35}\n",
    "\n",
    "skysublimits = 10**(np.arange(-4,-1,.03))\n",
    "\n",
    "clean = system.copy()\n",
    "clean[skysublimit] = skysublimits[0]\n",
    "baseline = compute_snr(clean)\n",
    "total = system[Nexp] * system[texp]\n",
    "\n",
    "\n",
    "snrs = compute_systems(system, vary=skysublimit, by=skysublimits)\n",
    "\n",
    "total = system[Nexp] * system[texp]\n",
    "\n",
    "\n",
    "semilogx(skysublimits, snrs/baseline)\n",
    "\n",
    "\n",
    "grid(True)\n",
    "title(\"Detected QE given %s telescope at %s et\" % (system[Dtel], total.to(units.hour)))"
   ]
  },
  {
   "cell_type": "code",
   "execution_count": null,
   "metadata": {
    "collapsed": true
   },
   "outputs": [],
   "source": []
  }
 ],
 "metadata": {
  "kernelspec": {
   "display_name": "Python 3",
   "language": "python",
   "name": "python3"
  },
  "language_info": {
   "codemirror_mode": {
    "name": "ipython",
    "version": 3
   },
   "file_extension": ".py",
   "mimetype": "text/x-python",
   "name": "python",
   "nbconvert_exporter": "python",
   "pygments_lexer": "ipython3",
   "version": "3.6.1"
  }
 },
 "nbformat": 4,
 "nbformat_minor": 2
}
