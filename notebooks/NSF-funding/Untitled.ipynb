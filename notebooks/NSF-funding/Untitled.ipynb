{
 "cells": [
  {
   "cell_type": "markdown",
   "metadata": {},
   "source": [
    "# Data Driven Analysis of NSF Funding"
   ]
  },
  {
   "cell_type": "code",
   "execution_count": 111,
   "metadata": {
    "collapsed": true
   },
   "outputs": [],
   "source": [
    "import os, xml\n",
    "import numpy as np\n",
    "from pylab import *\n",
    "\n",
    "import pandas as pd\n",
    "import xml.etree.ElementTree as ET\n",
    "from progressbar import ProgressBar as PB\n",
    "ion()\n",
    "_ = np.array"
   ]
  },
  {
   "cell_type": "code",
   "execution_count": null,
   "metadata": {
    "collapsed": true
   },
   "outputs": [],
   "source": []
  },
  {
   "cell_type": "code",
   "execution_count": 181,
   "metadata": {},
   "outputs": [
    {
     "name": "stdout",
     "output_type": "stream",
     "text": [
      "AwardTitle\n",
      "AwardEffectiveDate\n",
      "AwardExpirationDate\n",
      "AwardTotalIntnAmount\n",
      "AwardAmount\n",
      "AwardInstrument\n",
      "Organization\n",
      "ProgramOfficer\n",
      "AbstractNarration\n",
      "MinAmdLetterDate\n",
      "MaxAmdLetterDate\n",
      "ARRAAmount\n",
      "AwardID\n",
      "Investigator\n",
      "Institution\n",
      "ProgramElement\n",
      "ProgramReference\n"
     ]
    }
   ],
   "source": [
    "tree = ET.parse('data/1907565.xml')\n",
    "root = tree.getroot()\n",
    "for x in root[0]:\n",
    "    tag = x.tag\n",
    "    exec('%s = \"%s\"' % (tag,tag))\n",
    "    print(x.tag)\n",
    "    \n",
    "Year = 'Year'"
   ]
  },
  {
   "cell_type": "code",
   "execution_count": 113,
   "metadata": {},
   "outputs": [
    {
     "name": "stderr",
     "output_type": "stream",
     "text": [
      " 99% (48991 of 48993) |################## | Elapsed Time: 0:08:36 ETA:  0:00:00"
     ]
    },
    {
     "name": "stdout",
     "output_type": "stream",
     "text": [
      "Done with 3 errors\n"
     ]
    }
   ],
   "source": [
    "cols = [AwardTitle,AwardAmount,AwardEffectiveDate, AwardTotalIntnAmount,\n",
    "                   AwardInstrument,Organization,ProgramOfficer, ProgramElement, ProgramReference]\n",
    "df = pd.DataFrame(columns=cols)\n",
    "df = df.astype({AwardAmount: \"float\", AwardTotalIntnAmount: \"float\"})\n",
    "\n",
    "\n",
    "files = os.listdir(\"data\")\n",
    "tree = ET.parse('data/1907565.xml')\n",
    "root = tree.getroot()\n",
    "vals = {}\n",
    "\n",
    "bar = PB(max_value=len(files))\n",
    "errors = 0\n",
    "for ix, file in enumerate(files):\n",
    "    bar.update(ix)\n",
    "    try:\n",
    "        tree = ET.parse(\"data/\" + file)\n",
    "    except:\n",
    "        errors += 1\n",
    "        continue\n",
    "    root = tree.getroot()\n",
    "    vals = {}\n",
    "\n",
    "    for el in root[0]:\n",
    "        if el.tag not in cols: continue\n",
    "        vals[el.tag] = el.text.rstrip()\n",
    "    \n",
    "    df = df.append(vals, ignore_index=True)\n",
    "\n",
    "print(\"Done with %i errors\" % errors)"
   ]
  },
  {
   "cell_type": "code",
   "execution_count": 116,
   "metadata": {
    "collapsed": true
   },
   "outputs": [],
   "source": [
    "df = df.astype({AwardAmount: \"float\", AwardTotalIntnAmount: \"float\"})\n",
    "df.sort_values(AwardAmount, inplace=True)"
   ]
  },
  {
   "cell_type": "code",
   "execution_count": 117,
   "metadata": {},
   "outputs": [
    {
     "data": {
      "text/plain": [
       "[<matplotlib.lines.Line2D at 0x116662be0>]"
      ]
     },
     "execution_count": 117,
     "metadata": {},
     "output_type": "execute_result"
    },
    {
     "data": {
      "image/png": "[encoded data removed]",
      "text/plain": [
       "<matplotlib.figure.Figure at 0x1157f4438>"
      ]
     },
     "metadata": {},
     "output_type": "display_data"
    }
   ],
   "source": [
    "plot(df[AwardAmount])"
   ]
  },
  {
   "cell_type": "code",
   "execution_count": 118,
   "metadata": {
    "collapsed": true
   },
   "outputs": [],
   "source": [
    "aa = _(df[AwardAmount])"
   ]
  },
  {
   "cell_type": "code",
   "execution_count": 119,
   "metadata": {},
   "outputs": [
    {
     "data": {
      "text/plain": [
       "[<matplotlib.lines.Line2D at 0x11542b8d0>]"
      ]
     },
     "execution_count": 119,
     "metadata": {},
     "output_type": "execute_result"
    },
    {
     "data": {
      "image/png": "[encoded data removed]",
      "text/plain": [
       "<matplotlib.figure.Figure at 0x115743080>"
      ]
     },
     "metadata": {},
     "output_type": "display_data"
    }
   ],
   "source": [
    "semilogy(aa[-50:])"
   ]
  },
  {
   "cell_type": "code",
   "execution_count": 121,
   "metadata": {},
   "outputs": [
    {
     "data": {
      "text/plain": [
       "array([ 269951.        ,  454382.75      ,  750000.        ,\n",
       "       6141491.55500004])"
      ]
     },
     "execution_count": 121,
     "metadata": {},
     "output_type": "execute_result"
    }
   ],
   "source": [
    "np.percentile(aa, [50, 75, 90, 99.65])"
   ]
  },
  {
   "cell_type": "code",
   "execution_count": 129,
   "metadata": {},
   "outputs": [],
   "source": [
    "ad=_(df[AwardEffectiveDate])"
   ]
  },
  {
   "cell_type": "code",
   "execution_count": 147,
   "metadata": {},
   "outputs": [],
   "source": [
    "ys = np.array(list(map(lambda x: int(x[-4:]), ad)))"
   ]
  },
  {
   "cell_type": "code",
   "execution_count": 151,
   "metadata": {},
   "outputs": [
    {
     "data": {
      "text/plain": [
       "[<matplotlib.lines.Line2D at 0x1155c5be0>]"
      ]
     },
     "execution_count": 151,
     "metadata": {},
     "output_type": "execute_result"
    },
    {
     "data": {
      "image/png": "[encoded data removed]",
      "text/plain": [
       "<matplotlib.figure.Figure at 0x11276a080>"
      ]
     },
     "metadata": {},
     "output_type": "display_data"
    }
   ],
   "source": [
    "semilogx(aa,ys,'.')"
   ]
  },
  {
   "cell_type": "code",
   "execution_count": null,
   "metadata": {
    "collapsed": true
   },
   "outputs": [],
   "source": []
  },
  {
   "cell_type": "code",
   "execution_count": 158,
   "metadata": {},
   "outputs": [
    {
     "data": {
      "text/plain": [
       "[<matplotlib.lines.Line2D at 0x118bfdf28>]"
      ]
     },
     "execution_count": 158,
     "metadata": {},
     "output_type": "execute_result"
    },
    {
     "data": {
      "image/png": "[encoded data removed]",
      "text/plain": [
       "<matplotlib.figure.Figure at 0x118b9ad68>"
      ]
     },
     "metadata": {},
     "output_type": "display_data"
    }
   ],
   "source": [
    "semilogy(ys,aa,',')"
   ]
  },
  {
   "cell_type": "code",
   "execution_count": 163,
   "metadata": {
    "collapsed": true
   },
   "outputs": [],
   "source": []
  },
  {
   "cell_type": "code",
   "execution_count": 164,
   "metadata": {},
   "outputs": [],
   "source": [
    "df[Year] = ys"
   ]
  },
  {
   "cell_type": "code",
   "execution_count": 180,
   "metadata": {},
   "outputs": [
    {
     "data": {
      "text/html": [
       "<div>\n",
       "<style>\n",
       "    .dataframe thead tr:only-child th {\n",
       "        text-align: right;\n",
       "    }\n",
       "\n",
       "    .dataframe thead th {\n",
       "        text-align: left;\n",
       "    }\n",
       "\n",
       "    .dataframe tbody tr th {\n",
       "        vertical-align: top;\n",
       "    }\n",
       "</style>\n",
       "<table border=\"1\" class=\"dataframe\">\n",
       "  <thead>\n",
       "    <tr style=\"text-align: right;\">\n",
       "      <th>0.996</th>\n",
       "      <th>AwardAmount</th>\n",
       "      <th>AwardTotalIntnAmount</th>\n",
       "    </tr>\n",
       "    <tr>\n",
       "      <th>Year</th>\n",
       "      <th></th>\n",
       "      <th></th>\n",
       "    </tr>\n",
       "  </thead>\n",
       "  <tbody>\n",
       "    <tr>\n",
       "      <th>2014</th>\n",
       "      <td>222125.368</td>\n",
       "      <td>222125.368</td>\n",
       "    </tr>\n",
       "    <tr>\n",
       "      <th>2015</th>\n",
       "      <td>6004016.992</td>\n",
       "      <td>3080061.840</td>\n",
       "    </tr>\n",
       "    <tr>\n",
       "      <th>2016</th>\n",
       "      <td>5590890.600</td>\n",
       "      <td>4827988.896</td>\n",
       "    </tr>\n",
       "    <tr>\n",
       "      <th>2017</th>\n",
       "      <td>7250551.644</td>\n",
       "      <td>6329397.720</td>\n",
       "    </tr>\n",
       "    <tr>\n",
       "      <th>2018</th>\n",
       "      <td>7006751.072</td>\n",
       "      <td>8654645.712</td>\n",
       "    </tr>\n",
       "    <tr>\n",
       "      <th>2019</th>\n",
       "      <td>3782344.504</td>\n",
       "      <td>6000000.000</td>\n",
       "    </tr>\n",
       "    <tr>\n",
       "      <th>2020</th>\n",
       "      <td>2893948.996</td>\n",
       "      <td>4749864.864</td>\n",
       "    </tr>\n",
       "    <tr>\n",
       "      <th>2021</th>\n",
       "      <td>1226419.728</td>\n",
       "      <td>1226419.728</td>\n",
       "    </tr>\n",
       "  </tbody>\n",
       "</table>\n",
       "</div>"
      ],
      "text/plain": [
       "0.996  AwardAmount  AwardTotalIntnAmount\n",
       "Year                                    \n",
       "2014    222125.368            222125.368\n",
       "2015   6004016.992           3080061.840\n",
       "2016   5590890.600           4827988.896\n",
       "2017   7250551.644           6329397.720\n",
       "2018   7006751.072           8654645.712\n",
       "2019   3782344.504           6000000.000\n",
       "2020   2893948.996           4749864.864\n",
       "2021   1226419.728           1226419.728"
      ]
     },
     "execution_count": 180,
     "metadata": {},
     "output_type": "execute_result"
    }
   ],
   "source": [
    "df.groupby(Year).quantile(q=.996)"
   ]
  },
  {
   "cell_type": "code",
   "execution_count": null,
   "metadata": {
    "collapsed": true
   },
   "outputs": [],
   "source": []
  }
 ],
 "metadata": {
  "kernelspec": {
   "display_name": "Python 3",
   "language": "python",
   "name": "python3"
  },
  "language_info": {
   "codemirror_mode": {
    "name": "ipython",
    "version": 3
   },
   "file_extension": ".py",
   "mimetype": "text/x-python",
   "name": "python",
   "nbconvert_exporter": "python",
   "pygments_lexer": "ipython3",
   "version": "3.6.1"
  }
 },
 "nbformat": 4,
 "nbformat_minor": 2
}
