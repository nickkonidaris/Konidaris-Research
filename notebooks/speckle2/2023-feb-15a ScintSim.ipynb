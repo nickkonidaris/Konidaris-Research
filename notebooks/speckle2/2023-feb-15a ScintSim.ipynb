{
 "cells": [
  {
   "cell_type": "code",
   "execution_count": 1,
   "id": "9ce8bb6c",
   "metadata": {},
   "outputs": [],
   "source": [
    "import numpy as np"
   ]
  },
  {
   "cell_type": "code",
   "execution_count": 8,
   "id": "95ef746c",
   "metadata": {},
   "outputs": [],
   "source": [
    "N_scene = 30\n",
    "\n",
    "phases = np.random.uniform(size=N_scene, low=0, high=2*np.pi)\n",
    "\n",
    "\n",
    "N_targ = 30"
   ]
  },
  {
   "cell_type": "code",
   "execution_count": 9,
   "id": "43fdcaf8",
   "metadata": {},
   "outputs": [
    {
     "data": {
      "text/plain": [
       "array([5.58034651, 4.30008423, 0.17026559, 1.3910144 , 5.82857384,\n",
       "       5.70346543, 1.20631099, 1.82162884, 4.66066292, 0.30029088,\n",
       "       6.02280798, 0.60358351, 4.24194937, 4.75120275, 3.56212911,\n",
       "       1.96941387, 2.22104093, 1.8729496 , 1.85610764, 5.70524918,\n",
       "       2.58912689, 1.46635155, 2.40011267, 3.02346075, 2.36138681,\n",
       "       4.77055847, 2.64043877, 3.59513291, 4.32958205, 4.81944626])"
      ]
     },
     "execution_count": 9,
     "metadata": {},
     "output_type": "execute_result"
    }
   ],
   "source": [
    "phases"
   ]
  },
  {
   "cell_type": "code",
   "execution_count": null,
   "id": "27d4eb48",
   "metadata": {},
   "outputs": [],
   "source": []
  }
 ],
 "metadata": {
  "kernelspec": {
   "display_name": "Python 3 (ipykernel)",
   "language": "python",
   "name": "python3"
  },
  "language_info": {
   "codemirror_mode": {
    "name": "ipython",
    "version": 3
   },
   "file_extension": ".py",
   "mimetype": "text/x-python",
   "name": "python",
   "nbconvert_exporter": "python",
   "pygments_lexer": "ipython3",
   "version": "3.10.4"
  }
 },
 "nbformat": 4,
 "nbformat_minor": 5
}
