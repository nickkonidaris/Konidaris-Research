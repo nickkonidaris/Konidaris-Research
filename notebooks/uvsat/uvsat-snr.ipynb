{
 "cells": [
  {
   "cell_type": "code",
   "execution_count": 1,
   "metadata": {
    "collapsed": true
   },
   "outputs": [],
   "source": [
    "import numpy as np\n",
    "\n",
    "import astropy\n",
    "import astropy.units as ur\n",
    "import astropy.constants as cr\n",
    "\n",
    "%matplotlib inline\n",
    "\n",
    "from astropy.io import fits\n",
    "from specutils import Spectrum1D\n",
    "from specutils.manipulation import (box_smooth, gaussian_smooth, trapezoid_smooth)\n",
    "\n",
    "from pylab import *\n",
    "\n",
    "import scipy.interpolate as II"
   ]
  },
  {
   "cell_type": "code",
   "execution_count": 98,
   "metadata": {},
   "outputs": [],
   "source": [
    "fλ_unit = ur.erg/ur.s/ur.cm**2/ur.Angstrom # Spectral radiances per Hz or per angstrom\n",
    "fν_unit = ur.erg/ur.s/ur.cm**2/ur.Hertz\n",
    "\n",
    "Ω_arcsecond = 1/(3600.**2 * 57.4**2) * ur.sr\n",
    "\n",
    "µ = ur.micron\n",
    "arcsec = ur.arcsec\n",
    "nm = ur.nm"
   ]
  },
  {
   "cell_type": "code",
   "execution_count": 99,
   "metadata": {
    "collapsed": true
   },
   "outputs": [],
   "source": [
    "def fnum_to_steradian(fnum):\n",
    "    \" See eq. 24 https://www.labsphere.com/site/assets/files/2551/integrating_sphere_theory_apps_tech_guide.pdf\"\n",
    "    \n",
    "    return np.pi/(4*fnum*fnum) * ur.steradian\n",
    "\n",
    "\n",
    "def steradian_to_fnum(sr):\n",
    "    \n",
    "    return np.sqrt(np.pi/(4*sr/ur.steradian))"
   ]
  },
  {
   "cell_type": "markdown",
   "metadata": {},
   "source": [
    "## Inputs"
   ]
  },
  {
   "cell_type": "code",
   "execution_count": 142,
   "metadata": {},
   "outputs": [],
   "source": [
    "pixel_size = 10 * µ\n",
    "plate_scale = 6 * arcsec\n",
    "RN = 1 \n",
    "BGDs = np.array([22, 22, 22]) * ur.ABmag\n",
    "target = 22 * ur.ABmag\n",
    "exptime = 20*ur.second\n",
    "efficiency = 0.5\n",
    "\n",
    "bands = np.array([ \n",
    "    (180, 220),\n",
    "    (240, 300),\n",
    "    (340, 380)\n",
    "        ])*nm"
   ]
  },
  {
   "cell_type": "markdown",
   "metadata": {},
   "source": [
    "## Outputs"
   ]
  },
  {
   "cell_type": "code",
   "execution_count": 168,
   "metadata": {},
   "outputs": [
    {
     "name": "stdout",
     "output_type": "stream",
     "text": [
      "\n",
      "At 200.0 nm the energy per photon is 9.9e-12 erg\n",
      "Per pixel the number of photons per Sr are 2.7e+04 1 / sr\n",
      "Required focal ratio is f/45.8 with f=343.8 mm ∴ Dtel=0.8 cm\n",
      "\n",
      "At 270.0 nm the energy per photon is 7.4e-12 erg\n",
      "Per pixel the number of photons per Sr are 3.0e+04 1 / sr\n",
      "Required focal ratio is f/48.3 with f=343.8 mm ∴ Dtel=0.7 cm\n",
      "\n",
      "At 360.0 nm the energy per photon is 5.5e-12 erg\n",
      "Per pixel the number of photons per Sr are 1.5e+04 1 / sr\n",
      "Required focal ratio is f/34.1 with f=343.8 mm ∴ Dtel=1.0 cm\n"
     ]
    }
   ],
   "source": [
    "\n",
    "\n",
    "for bgd, band in zip(BGDs, bands):\n",
    "    λ_mid = np.mean(band)\n",
    "    epp = (cr.c*cr.h/λ_mid).cgs\n",
    "    BW = np.abs(band[0]-band[1])\n",
    "    \n",
    "    A_pixel = pixel_size**2\n",
    "    pixel_angular_area = (plate_scale**2 / ur.arcsecond**2).cgs\n",
    "    \n",
    "    # Spectral radiance in band --> # photons in band\n",
    "    L_λ_bgd = bgd.to(flu, equivalencies=ur.spectral_density(λ_mid)) / Ω_arcsecond \n",
    "    L_λ_obj = target.to(flu,equivalencies=ur.spectral_density(λ_mid)) / Ω_arcsecond \n",
    "    \n",
    "    num_photons_bgd = (L_λ_bgd * exptime * BW * efficiency * pixel_angular_area * A_pixel / epp).to(1/ur.steradian)\n",
    "    \n",
    "    bgd_limit = 10 * RN\n",
    "    required_Ω = bgd_limit / num_photons_bgd\n",
    "    \n",
    "    fnum = steradian_to_fnum(required_Ω)\n",
    "    focal_length = (pixel_size/(plate_scale/ur.arcsec) * 206265).to(ur.mm)\n",
    "    Dtel = (focal_length/fnum).to(ur.cm)\n",
    "    \n",
    "    print()\n",
    "    print(\"At {0} the energy per photon is {1:1.1e}\".format(λ_mid, epp))\n",
    "    print(\"Per pixel the number of photons per Sr are {0:5.1e}\".format(num_photons_bgd))\n",
    "    print(\"Resul f/{0:3.1f} with f={1:3.1f} ∴ Dtel={2:3.1f}\".format(fnum, focal_length, Dtel))"
   ]
  },
  {
   "cell_type": "code",
   "execution_count": null,
   "metadata": {
    "collapsed": true
   },
   "outputs": [],
   "source": []
  }
 ],
 "metadata": {
  "kernelspec": {
   "display_name": "Python 3",
   "language": "python",
   "name": "python3"
  },
  "language_info": {
   "codemirror_mode": {
    "name": "ipython",
    "version": 3
   },
   "file_extension": ".py",
   "mimetype": "text/x-python",
   "name": "python",
   "nbconvert_exporter": "python",
   "pygments_lexer": "ipython3",
   "version": "3.6.1"
  }
 },
 "nbformat": 4,
 "nbformat_minor": 2
}
