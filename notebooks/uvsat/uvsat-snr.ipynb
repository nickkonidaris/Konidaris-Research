{
 "cells": [
  {
   "cell_type": "code",
   "execution_count": 5,
   "metadata": {
    "collapsed": true
   },
   "outputs": [],
   "source": [
    "import numpy as np\n",
    "\n",
    "import astropy\n",
    "import astropy.units as ur\n",
    "import astropy.constants as cr\n",
    "\n",
    "%matplotlib inline\n",
    "\n",
    "from astropy.io import fits\n",
    "from specutils import Spectrum1D\n",
    "from specutils.manipulation import (box_smooth, gaussian_smooth, trapezoid_smooth)\n",
    "\n",
    "from pylab import *\n",
    "\n",
    "import scipy.interpolate as II"
   ]
  },
  {
   "cell_type": "code",
   "execution_count": 6,
   "metadata": {
    "collapsed": true
   },
   "outputs": [],
   "source": [
    "fλ_unit = ur.erg/ur.s/ur.cm**2/ur.Angstrom # Spectral radiances per Hz or per angstrom\n",
    "fν_unit = ur.erg/ur.s/ur.cm**2/ur.Hertz\n",
    "\n",
    "Ω_arcsecond = 1/(3600.**2 * 57.4**2) * ur.sr\n",
    "\n",
    "µ = ur.micron\n",
    "arcsec = ur.arcsec\n",
    "nm = ur.nm"
   ]
  },
  {
   "cell_type": "code",
   "execution_count": 7,
   "metadata": {
    "collapsed": true
   },
   "outputs": [],
   "source": [
    "def fnum_to_steradian(fnum):\n",
    "    \" See eq. 24 https://www.labsphere.com/site/assets/files/2551/integrating_sphere_theory_apps_tech_guide.pdf\"\n",
    "    \n",
    "    return np.pi/(4*fnum*fnum) * ur.steradian\n",
    "\n",
    "\n",
    "def steradian_to_fnum(sr):\n",
    "    \n",
    "    return np.sqrt(np.pi/(4*sr/ur.steradian))"
   ]
  },
  {
   "cell_type": "markdown",
   "metadata": {},
   "source": [
    "## Inputs"
   ]
  },
  {
   "cell_type": "code",
   "execution_count": 8,
   "metadata": {
    "collapsed": true
   },
   "outputs": [],
   "source": [
    "pixel_size = 10 * µ\n",
    "plate_scale = 6 * arcsec\n",
    "RN = 10\n",
    "BGDs = np.array([22, 22, 22]) * ur.ABmag\n",
    "target = 22 * ur.ABmag\n",
    "exptime = 300*ur.second\n",
    "efficiency = 0.4\n",
    "num_pixels_psf = 25\n",
    "\n",
    "bands = np.array([ \n",
    "    (180, 220),\n",
    "    (240, 300),\n",
    "    (340, 380)\n",
    "        ])*nm"
   ]
  },
  {
   "cell_type": "markdown",
   "metadata": {},
   "source": [
    "## Outputs"
   ]
  },
  {
   "cell_type": "code",
   "execution_count": 31,
   "metadata": {},
   "outputs": [
    {
     "name": "stdout",
     "output_type": "stream",
     "text": [
      "\n",
      "At 200.0 nm the energy per photon is 9.9e-12 erg\n",
      "From 22.0 mag(AB) background the number of photons per pixel per Sr are 3.2e+05 1 / sr\n",
      "From 22.0 mag(AB) target the number of photons per pixel per Sr are 1.3e+04 1 / sr\n",
      "Bgd Limit Arguments: f/50.2 with f=343.8 mm ∴ Dtel=0.7 cm\n",
      "SNR Arguments: f/2.2 with f=343.8 mm ∴ Dtel=15.3 cm\n",
      "SNR of target is 43.8\n",
      "50000.0 1249999.9999999998 0.04 0.15605708762593035 sr\n",
      "\n",
      "At 270.0 nm the energy per photon is 7.4e-12 erg\n",
      "From 22.0 mag(AB) background the number of photons per pixel per Sr are 3.6e+05 1 / sr\n",
      "From 22.0 mag(AB) target the number of photons per pixel per Sr are 1.4e+04 1 / sr\n",
      "Bgd Limit Arguments: f/52.9 with f=343.8 mm ∴ Dtel=0.7 cm\n",
      "SNR Arguments: f/2.4 with f=343.8 mm ∴ Dtel=14.5 cm\n",
      "SNR of target is 43.8\n",
      "49999.99999999999 1250000.0 0.039999999999999994 0.1404513788633373 sr\n",
      "\n",
      "At 360.0 nm the energy per photon is 5.5e-12 erg\n",
      "From 22.0 mag(AB) background the number of photons per pixel per Sr are 1.8e+05 1 / sr\n",
      "From 22.0 mag(AB) target the number of photons per pixel per Sr are 7.1e+03 1 / sr\n",
      "Bgd Limit Arguments: f/37.4 with f=343.8 mm ∴ Dtel=0.9 cm\n",
      "SNR Arguments: f/1.7 with f=343.8 mm ∴ Dtel=20.6 cm\n",
      "SNR of target is 43.8\n",
      "49999.99999999999 1250000.0 0.039999999999999994 0.2809027577266746 sr\n"
     ]
    }
   ],
   "source": [
    "for bgd, band in zip(BGDs, bands):\n",
    "    λ_mid = np.mean(band)\n",
    "    epp = (cr.c*cr.h/λ_mid).cgs\n",
    "    BW = np.abs(band[0]-band[1])\n",
    "    \n",
    "    A_pixel = pixel_size**2\n",
    "    pixel_angular_area = (plate_scale**2 / ur.arcsecond**2).cgs\n",
    "    \n",
    "    # Spectral radiance in band --> # photons in band\n",
    "    L_λ_bgd = bgd.to(fλ_unit, equivalencies=ur.spectral_density(λ_mid)) / Ω_arcsecond \n",
    "    L_λ_obj = target.to(fλ_unit, equivalencies=ur.spectral_density(λ_mid)) / Ω_arcsecond \n",
    "    \n",
    "    num_photons_bgd = (L_λ_bgd * exptime * BW * efficiency * pixel_angular_area \n",
    "                       * A_pixel / epp).to(1/ur.steradian)\n",
    "    num_photons_obj = (L_λ_obj * exptime * BW * efficiency * pixel_angular_area \n",
    "                       * A_pixel / epp / num_pixels_psf).to(1/ur.steradian)\n",
    "    \n",
    "    bgd_limit = 10 * RN\n",
    "    required_Ω = bgd_limit / num_photons_bgd\n",
    "    \n",
    "    \n",
    "    fnum = steradian_to_fnum(required_Ω)\n",
    "    focal_length = (pixel_size/(plate_scale/ur.arcsec) * 206265).to(ur.mm)\n",
    "    Dtel = (focal_length/fnum).to(ur.cm)\n",
    "    \n",
    "    print()\n",
    "    print(\"At {0} the energy per photon is {1:1.1e}\".format(λ_mid, epp))\n",
    "    print(\"From {0} background the number of photons per pixel per Sr are {1:5.1e}\".format(bgd, num_photons_bgd))\n",
    "    print(\"From {0} target the number of photons per pixel per Sr are {1:5.1e}\".format(target, num_photons_obj))\n",
    "    print(\"Bgd Limit Arguments: f/{0:3.1f} with f={1:3.1f} ∴ Dtel={2:3.1f}\".format(fnum, focal_length, Dtel))\n",
    "    \n",
    "    required_Ω_snr = 2000 / num_photons_obj\n",
    "    nobj = num_photons_obj*required_Ω_snr*num_pixels_psf\n",
    "    nbgd = num_photons_bgd*required_Ω_snr*num_pixels_psf\n",
    "    \n",
    "    SNR = nobj/np.sqrt(nobj + nbgd + RN**2*num_pixels_psf)\n",
    "    \n",
    "\n",
    "    fnum = steradian_to_fnum(required_Ω_snr)\n",
    "    focal_length = (pixel_size/(plate_scale/ur.arcsec) * 206265).to(ur.mm)\n",
    "    Dtel = (focal_length/fnum).to(ur.cm)\n",
    "    \n",
    "    print(\"SNR Arguments: f/{0:3.1f} with f={1:3.1f} ∴ Dtel={2:3.1f}\".format(fnum, focal_length, Dtel))\n",
    "    print(\"SNR of target is {0:3.1f}\".format(SNR))\n",
    "    print(nobj, nbgd, num_photons_obj/num_photons_bgd, required_Ω_snr)"
   ]
  },
  {
   "cell_type": "code",
   "execution_count": null,
   "metadata": {
    "collapsed": true
   },
   "outputs": [],
   "source": []
  }
 ],
 "metadata": {
  "kernelspec": {
   "display_name": "Python 3",
   "language": "python",
   "name": "python3"
  },
  "language_info": {
   "codemirror_mode": {
    "name": "ipython",
    "version": 3
   },
   "file_extension": ".py",
   "mimetype": "text/x-python",
   "name": "python",
   "nbconvert_exporter": "python",
   "pygments_lexer": "ipython3",
   "version": "3.6.1"
  }
 },
 "nbformat": 4,
 "nbformat_minor": 2
}
