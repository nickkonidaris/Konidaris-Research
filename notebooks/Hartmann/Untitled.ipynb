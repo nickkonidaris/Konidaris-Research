{
 "cells": [
  {
   "cell_type": "code",
   "execution_count": 1,
   "metadata": {},
   "outputs": [],
   "source": [
    "import numpy as np\n",
    "from scipy import ndimage as ndi"
   ]
  },
  {
   "cell_type": "code",
   "execution_count": 2,
   "metadata": {},
   "outputs": [],
   "source": [
    "r = np.random.randn(4096,4096)*3/2."
   ]
  },
  {
   "cell_type": "code",
   "execution_count": 3,
   "metadata": {},
   "outputs": [
    {
     "data": {
      "text/plain": [
       "(4096, 4096)"
      ]
     },
     "execution_count": 3,
     "metadata": {},
     "output_type": "execute_result"
    }
   ],
   "source": [
    "r.shape"
   ]
  },
  {
   "cell_type": "code",
   "execution_count": 4,
   "metadata": {},
   "outputs": [
    {
     "data": {
      "text/plain": [
       "<module 'scipy.ndimage' from 'c:\\\\users\\\\npk\\\\virtualenv\\\\astropy\\\\lib\\\\site-packages\\\\scipy\\\\ndimage\\\\__init__.py'>"
      ]
     },
     "execution_count": 4,
     "metadata": {},
     "output_type": "execute_result"
    }
   ],
   "source": [
    "\n",
    "ndi"
   ]
  },
  {
   "cell_type": "code",
   "execution_count": 5,
   "metadata": {},
   "outputs": [
    {
     "data": {
      "text/plain": [
       "array([[ 2.27672057, -0.63430804,  2.60304051, ...,  0.10510857,\n",
       "        -0.92900466, -1.66363195],\n",
       "       [ 0.87390971, -1.30070399,  1.27062839, ..., -0.77382585,\n",
       "        -0.22412883, -0.01850196],\n",
       "       [ 1.43534405, -0.42337615,  1.32572211, ..., -0.19308557,\n",
       "         0.50003951,  2.32610987],\n",
       "       ...,\n",
       "       [-0.46184517, -1.34466338, -1.59406497, ...,  2.97233418,\n",
       "        -1.44049478, -0.37159086],\n",
       "       [-0.55204907, -0.0247666 , -1.73381957, ..., -0.99785314,\n",
       "        -0.12111198,  1.12243667],\n",
       "       [-0.88651612, -0.84407196,  1.29742236, ..., -2.26330344,\n",
       "         0.43822377, -1.32459044]])"
      ]
     },
     "execution_count": 5,
     "metadata": {},
     "output_type": "execute_result"
    }
   ],
   "source": [
    "r"
   ]
  },
  {
   "cell_type": "code",
   "execution_count": 6,
   "metadata": {},
   "outputs": [
    {
     "data": {
      "text/plain": [
       "array([ 372.36363636,  744.72727273, 1117.09090909, 1489.45454545,\n",
       "       1861.81818182, 2234.18181818, 2606.54545455, 2978.90909091,\n",
       "       3351.27272727, 3723.63636364])"
      ]
     },
     "execution_count": 6,
     "metadata": {},
     "output_type": "execute_result"
    }
   ],
   "source": [
    "d = 4096/11\n",
    "np.arange(d,4096,d)"
   ]
  },
  {
   "cell_type": "code",
   "execution_count": 7,
   "metadata": {},
   "outputs": [],
   "source": [
    "PSF = \"\"\"  0.0000E+00\t  0.0000E+00\t  0.0000E+00\t  0.0000E+00\t  0.0000E+00\t  0.0000E+00\n",
    "  0.0000E+00\t  0.0000E+00\t  2.0672E+00\t  2.7464E+01\t  4.7250E+00\t  0.0000E+00\n",
    "  0.0000E+00\t  0.0000E+00\t  4.3529E+02\t  6.3403E+02\t  1.9491E+01\t  0.0000E+00\n",
    "  0.0000E+00\t  0.0000E+00\t  6.0332E+02\t  6.8630E+02\t  9.4500E+00\t  0.0000E+00\n",
    "  0.0000E+00\t  0.0000E+00\t  3.1598E+01\t  3.2780E+01\t  0.0000E+00\t  0.0000E+00\n",
    "  0.0000E+00\t  0.0000E+00\t  0.0000E+00\t  2.9531E-01\t  0.0000E+00\t  0.0000E+00\n",
    "\"\"\""
   ]
  },
  {
   "cell_type": "code",
   "execution_count": 8,
   "metadata": {},
   "outputs": [
    {
     "data": {
      "text/plain": [
       "'  0.0000E+00\\t  0.0000E+00\\t  0.0000E+00\\t  0.0000E+00\\t  0.0000E+00\\t  0.0000E+00\\n  0.0000E+00\\t  0.0000E+00\\t  2.0672E+00\\t  2.7464E+01\\t  4.7250E+00\\t  0.0000E+00\\n  0.0000E+00\\t  0.0000E+00\\t  4.3529E+02\\t  6.3403E+02\\t  1.9491E+01\\t  0.0000E+00\\n  0.0000E+00\\t  0.0000E+00\\t  6.0332E+02\\t  6.8630E+02\\t  9.4500E+00\\t  0.0000E+00\\n  0.0000E+00\\t  0.0000E+00\\t  3.1598E+01\\t  3.2780E+01\\t  0.0000E+00\\t  0.0000E+00\\n  0.0000E+00\\t  0.0000E+00\\t  0.0000E+00\\t  2.9531E-01\\t  0.0000E+00\\t  0.0000E+00\\n'"
      ]
     },
     "execution_count": 8,
     "metadata": {},
     "output_type": "execute_result"
    }
   ],
   "source": [
    "PSF"
   ]
  },
  {
   "cell_type": "code",
   "execution_count": 9,
   "metadata": {},
   "outputs": [],
   "source": [
    "psf=np.fromstring(PSF, sep=\"\\t\").reshape(6,6)"
   ]
  },
  {
   "cell_type": "code",
   "execution_count": 10,
   "metadata": {},
   "outputs": [],
   "source": [
    "?np.fromstring"
   ]
  },
  {
   "cell_type": "code",
   "execution_count": 11,
   "metadata": {},
   "outputs": [
    {
     "data": {
      "text/plain": [
       "array([[0.0000e+00, 0.0000e+00, 0.0000e+00, 0.0000e+00, 0.0000e+00,\n",
       "        0.0000e+00],\n",
       "       [0.0000e+00, 0.0000e+00, 2.0672e+00, 2.7464e+01, 4.7250e+00,\n",
       "        0.0000e+00],\n",
       "       [0.0000e+00, 0.0000e+00, 4.3529e+02, 6.3403e+02, 1.9491e+01,\n",
       "        0.0000e+00],\n",
       "       [0.0000e+00, 0.0000e+00, 6.0332e+02, 6.8630e+02, 9.4500e+00,\n",
       "        0.0000e+00],\n",
       "       [0.0000e+00, 0.0000e+00, 3.1598e+01, 3.2780e+01, 0.0000e+00,\n",
       "        0.0000e+00],\n",
       "       [0.0000e+00, 0.0000e+00, 0.0000e+00, 2.9531e-01, 0.0000e+00,\n",
       "        0.0000e+00]])"
      ]
     },
     "execution_count": 11,
     "metadata": {},
     "output_type": "execute_result"
    }
   ],
   "source": [
    "psf"
   ]
  },
  {
   "cell_type": "code",
   "execution_count": 12,
   "metadata": {},
   "outputs": [
    {
     "ename": "NameError",
     "evalue": "name 'imshow' is not defined",
     "output_type": "error",
     "traceback": [
      "\u001b[1;31m---------------------------------------------------------------------------\u001b[0m",
      "\u001b[1;31mNameError\u001b[0m                                 Traceback (most recent call last)",
      "\u001b[1;32m<ipython-input-12-16a77a1c17a7>\u001b[0m in \u001b[0;36m<module>\u001b[1;34m\u001b[0m\n\u001b[1;32m----> 1\u001b[1;33m \u001b[0mimshow\u001b[0m\u001b[1;33m(\u001b[0m\u001b[0mpsf\u001b[0m\u001b[1;33m)\u001b[0m\u001b[1;33m\u001b[0m\u001b[1;33m\u001b[0m\u001b[0m\n\u001b[0m",
      "\u001b[1;31mNameError\u001b[0m: name 'imshow' is not defined"
     ]
    }
   ],
   "source": [
    "imshow(psf)"
   ]
  },
  {
   "cell_type": "code",
   "execution_count": null,
   "metadata": {},
   "outputs": [],
   "source": [
    "from pylab import *\n",
    "imshow(psf)"
   ]
  },
  {
   "cell_type": "code",
   "execution_count": null,
   "metadata": {},
   "outputs": [],
   "source": [
    "#PSF comes from zemax simulations\n",
    "PSF = \"\"\"  0.0000E+00\t  0.0000E+00\t  0.0000E+00\t  0.0000E+00\t  0.0000E+00\t  0.0000E+00\n",
    "  0.0000E+00\t  0.0000E+00\t  2.0672E+00\t  2.7464E+01\t  4.7250E+00\t  0.0000E+00\n",
    "  0.0000E+00\t  0.0000E+00\t  4.3529E+02\t  6.3403E+02\t  1.9491E+01\t  0.0000E+00\n",
    "  0.0000E+00\t  0.0000E+00\t  6.0332E+02\t  6.8630E+02\t  9.4500E+00\t  0.0000E+00\n",
    "  0.0000E+00\t  0.0000E+00\t  3.1598E+01\t  3.2780E+01\t  0.0000E+00\t  0.0000E+00\n",
    "  0.0000E+00\t  0.0000E+00\t  0.0000E+00\t  2.9531E-01\t  0.0000E+00\t  0.0000E+00\n",
    "\"\"\"\n",
    "\n",
    "def really_fake_line_frame(n_fibers=10, n_pix=4096, counts=30000):\n",
    "    \"\"\" Makes a really fake \"emission line\" spectrum \"\"\"\n",
    "\n",
    "    delta = n_pix/(n_fibers+1)\n",
    "    img = np.zeros((n_pix,n_pix))\n",
    "\n",
    "    w=3\n",
    "    psf=np.fromstring(PSF, sep=\"\\t\").reshape(2*w,2*w)\n",
    "    psf /= np.max(psf)\n",
    "    \n",
    "    psf *= counts\n",
    "\n",
    "    dlines = n_pix/100\n",
    "    poss = np.arange(delta, n_pix-delta, delta).astype(int)\n",
    "    line_locs = np.arange(dlines,n_pix-dlines,delta).astype(int)\n",
    "    for pos in poss:\n",
    "        for line_loc in line_locs:\n",
    "            s1 = slice(pos-w,pos+w)\n",
    "            s2 = slice(line_loc-w,line_loc+w)\n",
    "            img[s1,s2] = np.random.poisson(psf)\n",
    "    \n",
    "    return img"
   ]
  },
  {
   "cell_type": "code",
   "execution_count": null,
   "metadata": {},
   "outputs": [],
   "source": [
    "fm = really_fake_line_frame()\n",
    "fm2 = really_fake_line_frame()\n",
    "\n",
    "d=fm-fm2"
   ]
  },
  {
   "cell_type": "code",
   "execution_count": null,
   "metadata": {},
   "outputs": [],
   "source": [
    "imshow(d[360:380,390:420])"
   ]
  },
  {
   "cell_type": "code",
   "execution_count": 14,
   "metadata": {},
   "outputs": [],
   "source": [
    "import timeit"
   ]
  },
  {
   "cell_type": "code",
   "execution_count": 20,
   "metadata": {},
   "outputs": [
    {
     "name": "stdout",
     "output_type": "stream",
     "text": [
      "1 took 29.2448767\n",
      "3 took 20.8376808\n",
      "10 took 29.9002282\n",
      "30 took 92.9153829\n"
     ]
    }
   ],
   "source": [
    "sz = [1, 3, 10, 30]\n",
    "\n",
    "sx = 0\n",
    "sy = .5\n",
    "\n",
    "for s in sz:\n",
    "    a = np.random.randn(s,s)\n",
    "    t = timeit.timeit(lambda:  ndi.shift(a, (sx, sy)))\n",
    "    \n",
    "    print(\"%i took %s\" % (s,t))\n",
    "    "
   ]
  },
  {
   "cell_type": "code",
   "execution_count": 15,
   "metadata": {},
   "outputs": [],
   "source": [
    "from scipy.signal import convolve, convolve2d\n"
   ]
  },
  {
   "cell_type": "code",
   "execution_count": 41,
   "metadata": {},
   "outputs": [],
   "source": [
    "#- Utility functions for sinc shifting pixelated PSFs\n",
    "def _sincfunc(x, dx, dampfac=3.25):\n",
    "    \"\"\"sinc helper function for sincshift()\"\"\"\n",
    "    if dx != 0.0:\n",
    "        xx = (x+dx)*np.pi  #- cache shifted array for 30% faster evals\n",
    "        return np.exp( -(xx/(dampfac*np.pi))**2 ) * np.sin(xx) / xx\n",
    "    else:\n",
    "        xx = np.zeros(len(x))\n",
    "        xx[len(x)//2] = 1.0\n",
    "        return xx\n",
    "    \n",
    "    \n",
    "def sincshift2d(image, dx, dy, sincrad=10, dampfac=3.25):\n",
    "    \"\"\"\n",
    "    Return image shifted by dx, dy using full 2D sinc interpolation\n",
    "    \"\"\"\n",
    "    s = np.arange(-sincrad, sincrad+1.0)\n",
    "    sincx = _sincfunc(s, -dx, dampfac=dampfac)\n",
    "    sincy = _sincfunc(s, -dy, dampfac=dampfac)\n",
    "    kernel = np.outer(sincy, sincx)\n",
    "    newimage = convolve2d(image, kernel, mode='same')\n",
    "    return newimage\n"
   ]
  },
  {
   "cell_type": "code",
   "execution_count": 42,
   "metadata": {},
   "outputs": [
    {
     "name": "stdout",
     "output_type": "stream",
     "text": [
      "240 ms ± 237 µs per loop (mean ± std. dev. of 7 runs, 1 loop each)\n"
     ]
    }
   ],
   "source": [
    "a = np.random.randn(500,500)\n",
    "%timeit sincshift2d(a, 0.5, 0.5);"
   ]
  },
  {
   "cell_type": "code",
   "execution_count": 47,
   "metadata": {},
   "outputs": [
    {
     "data": {
      "text/plain": [
       "array([[0., 0., 0., 0., 0.],\n",
       "       [0., 0., 0., 0., 0.],\n",
       "       [0., 0., 1., 0., 0.],\n",
       "       [0., 0., 0., 0., 0.],\n",
       "       [0., 0., 0., 0., 0.]])"
      ]
     },
     "execution_count": 47,
     "metadata": {},
     "output_type": "execute_result"
    }
   ],
   "source": [
    "a = np.zeros((5,5))\n",
    "a[2,2] = 1\n",
    "a"
   ]
  },
  {
   "cell_type": "code",
   "execution_count": 49,
   "metadata": {},
   "outputs": [
    {
     "data": {
      "text/plain": [
       "array([[ 0.        ,  0.        ,  0.        ,  0.        ,  0.        ],\n",
       "       [ 0.        ,  0.        ,  0.        ,  0.        ,  0.        ],\n",
       "       [ 0.62172877,  0.62172877, -0.17149301,  0.07045813, -0.02851696],\n",
       "       [ 0.        ,  0.        ,  0.        ,  0.        ,  0.        ],\n",
       "       [ 0.        ,  0.        ,  0.        ,  0.        ,  0.        ]])"
      ]
     },
     "execution_count": 49,
     "metadata": {},
     "output_type": "execute_result"
    }
   ],
   "source": [
    "sincshift2d(a,-1.5,0)"
   ]
  },
  {
   "cell_type": "code",
   "execution_count": null,
   "metadata": {},
   "outputs": [],
   "source": [
    "a"
   ]
  },
  {
   "cell_type": "code",
   "execution_count": null,
   "metadata": {},
   "outputs": [],
   "source": [
    "\n",
    "s=(slice(100,200),slice(100,200))\n",
    "a[s]"
   ]
  },
  {
   "cell_type": "code",
   "execution_count": null,
   "metadata": {},
   "outputs": [],
   "source": [
    "def x(t):\n",
    "    print (t)\n",
    "\n",
    "\n",
    "\n",
    "list(map(x, [(i,j) for i in range(3) for j in range(3)]))"
   ]
  },
  {
   "cell_type": "code",
   "execution_count": null,
   "metadata": {},
   "outputs": [],
   "source": [
    "data = {\"T\": 3}\n",
    "for k,v in data.items():\n",
    "    exec(\"%s=data['%s']\" % (k,k))"
   ]
  },
  {
   "cell_type": "code",
   "execution_count": null,
   "metadata": {},
   "outputs": [],
   "source": [
    "subsample = 20\n",
    "pm_pixels = 1\n",
    "\n",
    "stepsize = pm_pixels*2/(subsample+1)\n",
    "for ix in range(subsample):\n",
    "    for jx in range(subsample):\n",
    "        sx = -pm_pixels + stepsize*ix\n",
    "        sy = -pm_pixels + stepsize*jx\n",
    "        \n",
    "        print(sx,sy)"
   ]
  },
  {
   "cell_type": "code",
   "execution_count": 50,
   "metadata": {},
   "outputs": [],
   "source": [
    "around = np.array([[0,0,1],[0,0,0]])"
   ]
  },
  {
   "cell_type": "code",
   "execution_count": 53,
   "metadata": {},
   "outputs": [
    {
     "data": {
      "text/plain": [
       "array([2, 0], dtype=int64)"
      ]
     },
     "execution_count": 53,
     "metadata": {},
     "output_type": "execute_result"
    }
   ],
   "source": [
    "np.argmax(around, axis=1)"
   ]
  },
  {
   "cell_type": "code",
   "execution_count": null,
   "metadata": {},
   "outputs": [],
   "source": []
  },
  {
   "cell_type": "code",
   "execution_count": null,
   "metadata": {},
   "outputs": [],
   "source": []
  },
  {
   "cell_type": "code",
   "execution_count": null,
   "metadata": {},
   "outputs": [],
   "source": []
  },
  {
   "cell_type": "code",
   "execution_count": null,
   "metadata": {},
   "outputs": [],
   "source": []
  },
  {
   "cell_type": "code",
   "execution_count": null,
   "metadata": {},
   "outputs": [],
   "source": []
  },
  {
   "cell_type": "code",
   "execution_count": null,
   "metadata": {},
   "outputs": [],
   "source": []
  },
  {
   "cell_type": "code",
   "execution_count": null,
   "metadata": {},
   "outputs": [],
   "source": []
  },
  {
   "cell_type": "code",
   "execution_count": null,
   "metadata": {},
   "outputs": [],
   "source": []
  },
  {
   "cell_type": "code",
   "execution_count": null,
   "metadata": {},
   "outputs": [],
   "source": []
  },
  {
   "cell_type": "code",
   "execution_count": null,
   "metadata": {},
   "outputs": [],
   "source": []
  },
  {
   "cell_type": "code",
   "execution_count": null,
   "metadata": {},
   "outputs": [],
   "source": []
  },
  {
   "cell_type": "code",
   "execution_count": null,
   "metadata": {},
   "outputs": [],
   "source": []
  },
  {
   "cell_type": "code",
   "execution_count": null,
   "metadata": {},
   "outputs": [],
   "source": []
  },
  {
   "cell_type": "code",
   "execution_count": null,
   "metadata": {},
   "outputs": [],
   "source": []
  },
  {
   "cell_type": "code",
   "execution_count": null,
   "metadata": {},
   "outputs": [],
   "source": []
  },
  {
   "cell_type": "code",
   "execution_count": null,
   "metadata": {},
   "outputs": [],
   "source": []
  },
  {
   "cell_type": "code",
   "execution_count": null,
   "metadata": {},
   "outputs": [],
   "source": []
  },
  {
   "cell_type": "code",
   "execution_count": null,
   "metadata": {},
   "outputs": [],
   "source": []
  },
  {
   "cell_type": "code",
   "execution_count": null,
   "metadata": {},
   "outputs": [],
   "source": []
  },
  {
   "cell_type": "code",
   "execution_count": null,
   "metadata": {},
   "outputs": [],
   "source": []
  },
  {
   "cell_type": "code",
   "execution_count": null,
   "metadata": {},
   "outputs": [],
   "source": []
  },
  {
   "cell_type": "code",
   "execution_count": null,
   "metadata": {},
   "outputs": [],
   "source": []
  },
  {
   "cell_type": "code",
   "execution_count": null,
   "metadata": {},
   "outputs": [],
   "source": []
  },
  {
   "cell_type": "code",
   "execution_count": null,
   "metadata": {},
   "outputs": [],
   "source": []
  },
  {
   "cell_type": "code",
   "execution_count": null,
   "metadata": {},
   "outputs": [],
   "source": []
  }
 ],
 "metadata": {
  "kernelspec": {
   "display_name": "Python 3",
   "language": "python",
   "name": "python3"
  },
  "language_info": {
   "codemirror_mode": {
    "name": "ipython",
    "version": 3
   },
   "file_extension": ".py",
   "mimetype": "text/x-python",
   "name": "python",
   "nbconvert_exporter": "python",
   "pygments_lexer": "ipython3",
   "version": "3.8.5"
  }
 },
 "nbformat": 4,
 "nbformat_minor": 4
}
