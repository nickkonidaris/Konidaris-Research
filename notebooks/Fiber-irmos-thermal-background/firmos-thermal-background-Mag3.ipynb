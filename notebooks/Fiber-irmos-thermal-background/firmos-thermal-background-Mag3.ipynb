{
 "cells": [
  {
   "cell_type": "markdown",
   "metadata": {},
   "source": [
    "# Thermal background of Fiber IRMOS"
   ]
  },
  {
   "cell_type": "markdown",
   "metadata": {},
   "source": [
    "# Nick Konidaris\n",
    "1 May 2019"
   ]
  },
  {
   "cell_type": "code",
   "execution_count": 38,
   "metadata": {
    "collapsed": true
   },
   "outputs": [],
   "source": [
    "import numpy as np\n",
    "%matplotlib inline\n",
    "from pylab import *\n",
    "\n",
    "import scipy.integrate\n",
    "import scipy\n",
    "\n",
    "\n",
    "\n",
    "\n",
    "from collections import namedtuple\n",
    "\n",
    "import numpy as np\n",
    "%matplotlib inline\n",
    "from pylab import *\n",
    "\n",
    "import astropy\n",
    "from astropy import units as ur\n",
    "from astropy import constants as cc\n",
    "import astropy.modeling.blackbody\n",
    "\n",
    "from astropy.convolution import convolve, Box1DKernel\n",
    "K = ur.Kelvin\n",
    "\n",
    "hc = cc.h * cc.c\n",
    "\n",
    "\n"
   ]
  },
  {
   "cell_type": "markdown",
   "metadata": {},
   "source": [
    "## Introduction\n",
    "\n",
    "The thermal background of fiber irmos is computed.\n",
    "\n",
    "Here I tabulate the Étendue of various systems preceeindg the fiber tip. These Etendues are useful because one can add them together and multiply by the blackbody spectral radiance to compute a thermal background for the instrument. Recall that for some spectral radiance $L_{e \\Omega \\lambda}$ in units of $\\left[ Power/Bandwidth/Area/Solid\\ angle \\right]$ there is an Étendue ($G$) that will yield a Spectral flux $\\Phi_e = L_{e \\Omega \\lambda} \\cdot G$. \n",
    "\n",
    "Our goal with fiber IRMOS is to produce an instrument whose Étendue from the spectrograph is only a fraction of the Étendue from the telescope. So it is worth computing the Étendue of the telescope first. I use various approximations that are useful.\n",
    "\n",
    "$\\Omega \\approx \\pi \\sin^2 \\theta$ and this is equivalent to $\\Omega \\approx \\frac{\\pi}{(2\\cdot f/\\#)^2}$\n",
    "\n",
    "$G_{telescope} = \\Omega_{telescope} \\cdot A_{telescope} \\cdot \\epsilon_{telescope} = 3.61E-6\\cdot cm2\\cdot sr$ (see below)\n"
   ]
  },
  {
   "cell_type": "code",
   "execution_count": 32,
   "metadata": {
    "collapsed": true
   },
   "outputs": [],
   "source": [
    "def theta_to_omega(theta_rad):\n",
    "    \n",
    "    return np.pi * np.sin(theta_rad)**2 * ur.steradian\n",
    "\n",
    "def fnum_to_omega(fnum):\n",
    "    return np.pi /(2*fnum)**2 * ur.steradian"
   ]
  },
  {
   "cell_type": "code",
   "execution_count": 103,
   "metadata": {},
   "outputs": [],
   "source": [
    "# Important constants\n",
    "\n",
    "\n",
    "ϵ_world = 1\n",
    "\n",
    "# Corrector\n",
    "suprasil301transmissivity = 93.39/93.82\n",
    "\n",
    "# FOREOPTICS\n",
    "final_focal_ratio = 3.5 # This is the final focal ratio entering the fiber\n",
    "fiber_focal_ratio = 3.0 # Given by the manufacturer\n",
    "refl_ar_coating = 0.99 # I hope\n",
    "τ_s_lah71 = -np.log(0.959)/10.\n",
    "\n",
    "# FIBER\n",
    "fiber_ffov = 0.8 * ur.arcsecond\n",
    "fiber_diameter = 100 * ur.micron\n",
    "ϵ_fiber = .05\n",
    "\n",
    "# TELESCOPE\n",
    "Dtel = 6.5 * ur.meter\n",
    "n_mirrors = 2\n",
    "refl_mirror = .95\n",
    "fnum_tel = 11\n",
    "\n",
    "# CORRECTOR\n",
    "t_corr = 75.8 # cm\n",
    "\n",
    "#### DERIVED\n",
    "Atel = (np.pi * (Dtel/2)**2).to(ur.cm**2)*.93\n",
    "Asecondary = Atel * 0.074 # from http://www.lco.cl/telescopes-information/magellan/magellan-telescopes/#figure1\n",
    "ϵ_tel = 1 - refl_mirror**n_mirrors\n",
    "A_fiber = np.pi*(fiber_diameter/2)**2\n",
    "Gus = ur.cm**2 * ur.sr\n",
    "ϵ_corr = 1-10**(-t_corr*0.001)\n",
    "\n",
    "\n",
    "def p_h(varname):\n",
    "    val = eval(varname)\n",
    "    print(\"{0:25s} is {1:1.2e} or {2:3.0f}% of telescope\".format(varname, val, val/G_telescope*100))"
   ]
  },
  {
   "cell_type": "code",
   "execution_count": 87,
   "metadata": {
    "collapsed": true
   },
   "outputs": [],
   "source": [
    "try:\n",
    "    dat\n",
    "except:\n",
    "    dat = np.loadtxt(\"../K-band-background/atran/atran.plt.14451.dat.txt\")"
   ]
  },
  {
   "cell_type": "code",
   "execution_count": 88,
   "metadata": {},
   "outputs": [],
   "source": [
    "lams = dat[:,1] * ur.micron\n",
    "\n",
    "goal = 2.4*ur.micron/3400\n",
    "delt = lams[1]-lams[0]\n",
    "N = np.int(np.ceil(goal/delt))\n",
    "kernel = Box1DKernel(N)\n",
    "\n",
    "\n",
    "\n",
    "lams = lams[::N]\n",
    "ϵ_atm = (1 - convolve(dat[:,2], kernel))[::N]\n"
   ]
  },
  {
   "cell_type": "markdown",
   "metadata": {},
   "source": [
    "If I raytrace $10^6$ rays and give the ball lens a 50% coating then zemax reports $147,854$ rays return in a 1st order ghost. With a 99% coathing zemax reports $9,720$ rays are sent to the 1st order ghost."
   ]
  },
  {
   "cell_type": "code",
   "execution_count": 98,
   "metadata": {
    "collapsed": true
   },
   "outputs": [],
   "source": [
    "G_pixel = (theta_to_omega(1.5) * (18*ur.micron)**2)"
   ]
  },
  {
   "cell_type": "code",
   "execution_count": 99,
   "metadata": {},
   "outputs": [
    {
     "data": {
      "text/latex": [
       "$1012.7828 \\; \\mathrm{\\mu m^{2}\\,sr}$"
      ],
      "text/plain": [
       "<Quantity 1012.7828209 micron2 sr>"
      ]
     },
     "execution_count": 99,
     "metadata": {},
     "output_type": "execute_result"
    }
   ],
   "source": [
    "G_pixel"
   ]
  },
  {
   "cell_type": "code",
   "execution_count": 89,
   "metadata": {},
   "outputs": [
    {
     "name": "stdout",
     "output_type": "stream",
     "text": [
      "G_telescope               is 1.46e-05 cm2 sr or 100% of telescope\n"
     ]
    }
   ],
   "source": [
    "G_telescope = (theta_to_omega(fiber_ffov) * Atel).to(Gus)\n",
    "\n",
    "p_h(\"G_telescope\")"
   ]
  },
  {
   "cell_type": "markdown",
   "metadata": {},
   "source": [
    "###  Fiber etendue -- first order"
   ]
  },
  {
   "cell_type": "markdown",
   "metadata": {},
   "source": [
    "For the purposes of thermal background, I am most concerned with the étendue of the area outside the controlled f/# as defined by the manufacturer of the fiber. I also compute the étendue of the secondary assuming the spectrograph's internal Lyot stop will not block the secondary. I assume the world has unit emissivity.\n"
   ]
  },
  {
   "cell_type": "code",
   "execution_count": 66,
   "metadata": {},
   "outputs": [
    {
     "name": "stdout",
     "output_type": "stream",
     "text": [
      "G_secondary               is 9.39e-07 cm2 sr or   6% of telescope\n",
      "G_fiber                   is 1.82e-06 cm2 sr or  12% of telescope\n"
     ]
    }
   ],
   "source": [
    "EPP = 1.235e+004*ur.mm\n",
    "Omega_baffles = theta_to_omega(np.arctan(fiber_diameter/EPP))\n",
    "\n",
    "G_secondary = (Omega_baffles * A_baffles).to(Gus)\n",
    "G_fiber = (np.abs(fnum_to_omega(final_focal_ratio) - fnum_to_omega(fiber_focal_ratio)) * A_fiber).to(Gus)\n",
    "\n",
    "p_h(\"G_secondary\")\n",
    "p_h(\"G_fiber\")"
   ]
  },
  {
   "cell_type": "markdown",
   "metadata": {},
   "source": [
    "###  Fiber etendue -- second order"
   ]
  },
  {
   "cell_type": "markdown",
   "metadata": {},
   "source": [
    "0th order attributes of a fiber sytem are shown in the figure below under the assumption that a ball lens is used to reduce the focal ratio of the telescope. "
   ]
  },
  {
   "cell_type": "markdown",
   "metadata": {},
   "source": [
    "![0th order fiber trace](fiber_0th_order.png)"
   ]
  },
  {
   "cell_type": "markdown",
   "metadata": {},
   "source": [
    "While the 0th order system is a useful place to start, there are ghost images that appear after 1 bounce. These are \"first order ghosts\" and are shown in the image below"
   ]
  },
  {
   "cell_type": "markdown",
   "metadata": {},
   "source": [
    "![first order ghost fiber trace](fiber_1st_order.png)"
   ]
  },
  {
   "cell_type": "markdown",
   "metadata": {},
   "source": [
    "If I raytrace $10^6$ rays and give the ball lens a 50% coating then zemax reports $147,854$ rays return in a 1st order ghost. With a 99% coating zemax reports $9,720$ rays are sent to the 1st order ghost. \n",
    "\n",
    "Note that only odd-order ghosts go to the \"left\" in the figure above, and even-order ghosts go to the right. As the ghost order increases the rays bounce around more and become more angularly homogeneous, so to overestimate their contribution I assume any ghosts higher than second order come from $4\\pi$. It turns out that even with their solid angle overestimated, ghosts higher than 1st order benefit from $\\epsilon^{ghost\\ order}$ and so only the first-order ghosts matter. "
   ]
  },
  {
   "cell_type": "code",
   "execution_count": 67,
   "metadata": {},
   "outputs": [
    {
     "name": "stdout",
     "output_type": "stream",
     "text": [
      "G_first_order             is 8.52e-05 cm2 sr or 585% of telescope\n",
      "G_second_order            is 8.52e-05 cm2 sr or 585% of telescope\n",
      "G_third_order             is 9.87e-04 cm2 sr or 6767% of telescope\n"
     ]
    }
   ],
   "source": [
    "G_first_order = (theta_to_omega(36*ur.degree) * A_fiber ).to(Gus)\n",
    "G_second_order = (theta_to_omega(36*ur.degree) * A_fiber ).to(Gus)\n",
    "G_third_order = (4*np.pi*ur.sr * A_fiber ).to(Gus)\n",
    "\n",
    "p_h(\"G_first_order\")\n",
    "p_h(\"G_second_order\")\n",
    "p_h(\"G_third_order\")"
   ]
  },
  {
   "cell_type": "markdown",
   "metadata": {},
   "source": [
    "### Ball lens emissivity"
   ]
  },
  {
   "cell_type": "markdown",
   "metadata": {},
   "source": [
    "The ball lens, made of S-LAH71 has an internall transmissivity for a tiny thickness (.7 mm). Its transmissivity is derived from the spec sheet."
   ]
  },
  {
   "cell_type": "code",
   "execution_count": 68,
   "metadata": {},
   "outputs": [
    {
     "name": "stdout",
     "output_type": "stream",
     "text": [
      "G_ball_lens               is 6.85e-06 cm2 sr or  47% of telescope\n"
     ]
    }
   ],
   "source": [
    "G_ball_lens = (fnum_to_omega(fiber_focal_ratio) * A_fiber ).to(Gus)\n",
    "\n",
    "G_ball_lens = (fnum_to_omega(fiber_focal_ratio) * A_fiber ).to(Gus)\n",
    "\n",
    "\n",
    "p_h(\"G_ball_lens\")"
   ]
  },
  {
   "cell_type": "markdown",
   "metadata": {},
   "source": [
    "### Corrector emissivity"
   ]
  },
  {
   "cell_type": "markdown",
   "metadata": {},
   "source": [
    "suprasil301transmissivity is from the Heraeus web calculator at 2.45µm where the transmissivity of a 100-mm thick sample of Suprasil 301 is 93.39% and the Fresnel losses are 93.82%. "
   ]
  },
  {
   "cell_type": "code",
   "execution_count": 69,
   "metadata": {},
   "outputs": [
    {
     "name": "stdout",
     "output_type": "stream",
     "text": [
      "G_corrector               is 3.75e-07 cm2 sr or   3% of telescope\n"
     ]
    }
   ],
   "source": [
    "G_corrector = (fnum_to_omega(fnum_tel * final_focal_ratio/fiber_focal_ratio) * A_fiber).to(Gus)\n",
    "\n",
    "p_h(\"G_corrector\")"
   ]
  },
  {
   "cell_type": "markdown",
   "metadata": {},
   "source": [
    "### Fiber attenuation"
   ]
  },
  {
   "cell_type": "markdown",
   "metadata": {},
   "source": [
    "Based on communications from Le Verre Fluore the fiber attenuation in the thermal is 2 db / km"
   ]
  },
  {
   "cell_type": "code",
   "execution_count": 70,
   "metadata": {
    "collapsed": true
   },
   "outputs": [],
   "source": [
    "t_fiber = 10**(2/10*30/1000)-1"
   ]
  },
  {
   "cell_type": "code",
   "execution_count": 71,
   "metadata": {},
   "outputs": [
    {
     "name": "stdout",
     "output_type": "stream",
     "text": [
      "G_fiber_transmissivity    is 5.04e-06 cm2 sr or  35% of telescope\n"
     ]
    }
   ],
   "source": [
    "G_fiber_transmissivity = (fnum_to_omega(final_focal_ratio) * A_fiber ).to(Gus)\n",
    "p_h(\"G_fiber_transmissivity\")"
   ]
  },
  {
   "cell_type": "markdown",
   "metadata": {},
   "source": [
    "## Summary"
   ]
  },
  {
   "cell_type": "code",
   "execution_count": 72,
   "metadata": {},
   "outputs": [
    {
     "name": "stdout",
     "output_type": "stream",
     "text": [
      "G_telescope               is 1.46e-05 cm2 sr or 100% of telescope\n",
      "G_secondary               is 9.39e-07 cm2 sr or   6% of telescope\n",
      "G_fiber_transmissivity    is 5.04e-06 cm2 sr or  35% of telescope\n",
      "G_ball_lens               is 6.85e-06 cm2 sr or  47% of telescope\n",
      "G_corrector               is 3.75e-07 cm2 sr or   3% of telescope\n",
      "\n",
      "G_tot                     is 1.32e-05 cm2 sr or  91% of telescope\n"
     ]
    }
   ],
   "source": [
    "\n",
    "\n",
    "vs = [\"G_telescope\", \"G_secondary\", \"G_fiber\", \"G_first_order\", \"G_second_order\", \"G_third_order\", \n",
    "      \"G_ball_lens\", \"G_corrector\", \"G_fiber_transmissivity\"]\n",
    "\n",
    "vs = [\"G_telescope\", \"G_secondary\",   \"G_fiber_transmissivity\",      \"G_ball_lens\", \"G_corrector\"]\n",
    "\n",
    "\n",
    "G_tot = 0\n",
    "for ix,v in enumerate(vs):\n",
    "    p_h(v)\n",
    "    \n",
    "    if ix > 0: G_tot += eval(v)\n",
    "\n",
    "print()\n",
    "p_h(\"G_tot\")"
   ]
  },
  {
   "cell_type": "code",
   "execution_count": null,
   "metadata": {
    "collapsed": true
   },
   "outputs": [],
   "source": []
  },
  {
   "cell_type": "code",
   "execution_count": null,
   "metadata": {
    "collapsed": true
   },
   "outputs": [],
   "source": []
  },
  {
   "cell_type": "markdown",
   "metadata": {
    "collapsed": true
   },
   "source": [
    "# Atmosphere"
   ]
  },
  {
   "cell_type": "code",
   "execution_count": 73,
   "metadata": {
    "collapsed": true
   },
   "outputs": [],
   "source": [
    "def model(lam, grasp, emissivity, efficiency=0.3, temp=300*K):\n",
    "    \"\"\" Return BB curve for the reflective component of a telescope system\n",
    "    \n",
    "    Args:\n",
    "        lam[] -- Wavelengths [L] to consider\n",
    "        grasp -- Grasp of system in cm2 sr\n",
    "        emissivity[] -- emissivity of system at that wavelength\n",
    "        temp -- temperature\n",
    "        \n",
    "    Returns:\n",
    "        Spectrum in units of 1/(s Angstrom) with same dimensionality as lam\n",
    "     \"\"\"\n",
    "    epp = hc/lam\n",
    "\n",
    "    # Specific spectral radiance in photon / sr/ m2 / bw\n",
    "    L_e_Omega_lam = astropy.modeling.blackbody.blackbody_lambda(lam, temp)\n",
    "        \n",
    "    Phi_lam = L_e_Omega_lam * grasp * emissivity # Phi_lam is [Power]/[Bandwidth]\n",
    "    N_lam = Phi_lam/epp # N_lam is [Hz]/[Bandwidth]\n",
    "    \n",
    "    nlam = N_lam.to(ur.Hertz/ur.angstrom) / (ur.Hertz/ur.angstrom) * efficiency\n",
    "    flam = L_e_Omega_lam * (1*ur.arcsecond)**2 * emissivity * efficiency\n",
    "\n",
    "    return nlam, flam.to(ur.erg/ur.second/ur.Angstrom/ur.cm**2)"
   ]
  },
  {
   "cell_type": "code",
   "execution_count": 111,
   "metadata": {},
   "outputs": [
    {
     "data": {
      "image/png": "[encoded data removed]",
      "text/plain": [
       "<matplotlib.figure.Figure at 0x1105417f0>"
      ]
     },
     "metadata": {},
     "output_type": "display_data"
    }
   ],
   "source": [
    "back_tel = model(lams, G_pixel, ϵ_tel, temp=293*ur.Kelvin)[0]\n",
    "back_atm = model(lams, G_pixel, ϵ_atm)[0]\n",
    "back_adc = model(lams, G_pixel, ϵ_corr/.8, temp=293*ur.Kelvin)[0]\n",
    "back_fiber = model(lams, G_pixel, ϵ_fiber, temp=293*ur.Kelvin)[0]\n",
    "\n",
    "\n",
    "figure(figsize=(12,5))\n",
    "S=np.sqrt\n",
    "step(lams, back_tel)\n",
    "step(lams, back_tel + back_atm + back_adc + back_fiber)\n",
    "step(lams, back_adc)\n",
    "step(lams, back_fiber)\n",
    "\n",
    "#yscale(\"log\")\n",
    "xlim(2.1,2.41)\n",
    "axvline(2.404)\n",
    "ylim(-2,560)\n",
    "\n",
    "ylabel(r\"$\\propto$photons\")\n",
    "\n",
    "legend([\"Tel (293 K)\", \"Tel+Atm+Corr\", \"Corr (293 K)\", \"Fiber\"])\n",
    "title(\"IR Backgrounds\")\n",
    "grid(True)"
   ]
  },
  {
   "cell_type": "code",
   "execution_count": 107,
   "metadata": {},
   "outputs": [
    {
     "data": {
      "text/plain": [
       "(0.1601533388420855, 0.09750000000000003)"
      ]
     },
     "execution_count": 107,
     "metadata": {},
     "output_type": "execute_result"
    }
   ],
   "source": [
    "ϵ_corr, ϵ_tel"
   ]
  },
  {
   "cell_type": "code",
   "execution_count": 106,
   "metadata": {},
   "outputs": [
    {
     "data": {
      "text/plain": [
       "0.05"
      ]
     },
     "execution_count": 106,
     "metadata": {},
     "output_type": "execute_result"
    }
   ],
   "source": [
    "ϵ_fiber"
   ]
  },
  {
   "cell_type": "code",
   "execution_count": null,
   "metadata": {
    "collapsed": true
   },
   "outputs": [],
   "source": []
  }
 ],
 "metadata": {
  "kernelspec": {
   "display_name": "Python 3",
   "language": "python",
   "name": "python3"
  },
  "language_info": {
   "codemirror_mode": {
    "name": "ipython",
    "version": 3
   },
   "file_extension": ".py",
   "mimetype": "text/x-python",
   "name": "python",
   "nbconvert_exporter": "python",
   "pygments_lexer": "ipython3",
   "version": "3.6.1"
  }
 },
 "nbformat": 4,
 "nbformat_minor": 2
}
