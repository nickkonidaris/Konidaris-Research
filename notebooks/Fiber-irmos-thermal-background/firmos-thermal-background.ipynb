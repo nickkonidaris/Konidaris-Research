{
 "cells": [
  {
   "cell_type": "markdown",
   "metadata": {},
   "source": [
    "# Thermal background of Fiber IRMOS"
   ]
  },
  {
   "cell_type": "markdown",
   "metadata": {},
   "source": [
    "Nick Konidaris\n",
    "6 June 2018"
   ]
  },
  {
   "cell_type": "code",
   "execution_count": 202,
   "metadata": {
    "collapsed": true
   },
   "outputs": [],
   "source": [
    "import numpy as np\n",
    "%matplotlib inline\n",
    "from pylab import *\n",
    "\n",
    "import scipy.integrate\n",
    "import scipy\n",
    "\n",
    "\n",
    "\n",
    "\n",
    "from collections import namedtuple\n",
    "\n",
    "import numpy as np\n",
    "%matplotlib inline\n",
    "from pylab import *\n",
    "\n",
    "import astropy\n",
    "from astropy import units as ur\n",
    "from astropy import constants as cc\n",
    "import astropy.modeling.blackbody\n",
    "\n"
   ]
  },
  {
   "cell_type": "markdown",
   "metadata": {},
   "source": [
    "## Introduction\n",
    "\n",
    "The thermal background of fiber irmos is computed.\n",
    "\n",
    "Here I tabulate the Étendue of various systems preceeindg the fiber tip. These Etendues are useful because one can add them together and multiply by the blackbody spectral radiance to compute a thermal background for the instrument. Recall that for some spectral radiance $L_{e \\Omega \\lambda}$ in units of $\\left[ Power/Bandwidth/Area/Solid\\ angle \\right]$ there is an Étendue ($G$) that will yield a Spectral flux $\\Phi_e = L_{e \\Omega \\lambda} \\cdot G$. \n",
    "\n",
    "Our goal with fiber IRMOS is to produce an instrument whose Étendue from the spectrograph is only a fraction of the Étendue from the telescope. So it is worth computing the Étendue of the telescope first. I use various approximations that are useful.\n",
    "\n",
    "$\\Omega \\approx \\pi \\sin^2 \\theta$ and this is equivalent to $\\Omega \\approx \\frac{\\pi}{(2\\cdot f/\\#)^2}$\n",
    "\n",
    "$G_{telescope} = \\Omega_{telescope} \\cdot A_{telescope} \\cdot \\epsilon_{telescope} = 3.61E-6\\cdot cm2\\cdot sr$ (see below)\n"
   ]
  },
  {
   "cell_type": "code",
   "execution_count": 203,
   "metadata": {
    "collapsed": true
   },
   "outputs": [],
   "source": [
    "def theta_to_omega(theta_rad):\n",
    "    \n",
    "    return np.pi * np.sin(theta_rad)**2 * ur.steradian\n",
    "\n",
    "def fnum_to_omega(fnum):\n",
    "    return np.pi /(2*fnum)**2 * ur.steradian"
   ]
  },
  {
   "cell_type": "code",
   "execution_count": 204,
   "metadata": {
    "collapsed": true
   },
   "outputs": [],
   "source": [
    "# Important constants\n",
    "\n",
    "\n",
    "ϵ_world = 1\n",
    "\n",
    "# FOREOPTICS\n",
    "final_focal_ratio = 3.5 # This is the final focal ratio entering the fiber\n",
    "fiber_focal_ratio = 3.0 # Given by the manufacturer\n",
    "refl_ar_coating = 0.99 # I hope\n",
    "\n",
    "\n",
    "# FIBER\n",
    "fiber_ffov = 0.8 * ur.arcsecond\n",
    "fiber_diameter = 100 * ur.micron\n",
    "\n",
    "# TELESCOPE\n",
    "Dtel = 6.5 * ur.meter\n",
    "n_mirrors = 3\n",
    "refl_mirror = .9\n",
    "ϵ_secondary = 0.1 ## WAG\n",
    "fnum_tel = 11\n",
    "\n",
    "#### DERIVED\n",
    "Atel = (np.pi * (Dtel/2)**2).to(ur.cm**2)*.93\n",
    "Asecondary = Atel * 0.074 # from http://www.lco.cl/telescopes-information/magellan/magellan-telescopes/#figure1\n",
    "ϵ_tel = 1 - refl_mirror**n_mirrors\n",
    "A_fiber = np.pi*(fiber_diameter/2)**2\n",
    "Gus = ur.cm**2 * ur.sr\n",
    "\n",
    "def p_h(varname):\n",
    "    val = eval(varname)\n",
    "    print(\"{0:20s} is {1:1.2e} or {2:3.0f}% of telescope\".format(varname, val, val/G_telescope*100))"
   ]
  },
  {
   "cell_type": "code",
   "execution_count": 205,
   "metadata": {},
   "outputs": [
    {
     "name": "stdout",
     "output_type": "stream",
     "text": [
      "G_telescope          is 3.95e-06 cm2 sr or 100% of telescope\n"
     ]
    }
   ],
   "source": [
    "G_telescope = (theta_to_omega(fiber_ffov) * Atel * ϵ_tel).to(Gus)\n",
    "\n",
    "p_h(\"G_telescope\")"
   ]
  },
  {
   "cell_type": "markdown",
   "metadata": {},
   "source": [
    "###  Fiber etendue -- first order"
   ]
  },
  {
   "cell_type": "markdown",
   "metadata": {},
   "source": [
    "For the purposes of thermal background, I am most concerned with the étendue of the area outside the controlled f/# as defined by the manufacturer of the fiber. I also compute the étendue of the secondary assuming the spectrograph's internal Lyot stop will not block the secondary. I assume the world has unit emissivity.\n"
   ]
  },
  {
   "cell_type": "code",
   "execution_count": 206,
   "metadata": {},
   "outputs": [
    {
     "name": "stdout",
     "output_type": "stream",
     "text": [
      "G_secondary          is 5.10e-08 cm2 sr or   1% of telescope\n",
      "G_fiber              is 1.82e-06 cm2 sr or  46% of telescope\n"
     ]
    }
   ],
   "source": [
    "G_secondary = (fnum_to_omega(fnum_tel) * A_fiber * ϵ_secondary).to(Gus)\n",
    "G_fiber = (np.abs(fnum_to_omega(final_focal_ratio) - fnum_to_omega(fiber_focal_ratio)) * A_fiber * ϵ_world).to(Gus)\n",
    "\n",
    "p_h(\"G_secondary\")\n",
    "p_h(\"G_fiber\")"
   ]
  },
  {
   "cell_type": "markdown",
   "metadata": {},
   "source": [
    "###  Fiber etendue -- second order"
   ]
  },
  {
   "cell_type": "markdown",
   "metadata": {},
   "source": [
    "0th order attributes of a fiber sytem are shown in the figure below under the assumption that a ball lens is used to reduce the focal ratio of the telescope. "
   ]
  },
  {
   "cell_type": "markdown",
   "metadata": {},
   "source": [
    "![0th order fiber trace](fiber_0th_order.png)"
   ]
  },
  {
   "cell_type": "markdown",
   "metadata": {},
   "source": [
    "While the 0th order system is a useful place to start, there are ghost images that appear after 1 bounce. These are \"first order ghosts\" and are shown in the image below"
   ]
  },
  {
   "cell_type": "markdown",
   "metadata": {},
   "source": [
    "![first order ghost fiber trace](fiber_1st_order.png)"
   ]
  },
  {
   "cell_type": "markdown",
   "metadata": {},
   "source": [
    "If I raytrace $10^6$ rays and give the ball lens a 50% coating then zemax reports $147,854$ rays return in a 1st order ghost. With a 99% coating zemax reports $9,720$ rays are sent to the 1st order ghost. \n",
    "\n",
    "Note that only odd-order ghosts go to the \"left\" in the figure above, and even-order ghosts go to the right. As the ghost order increases the rays bounce around more and become more angularly homogeneous, so to overestimate their contribution I assume any ghosts higher than second order come from $4\\pi$. It turns out that even with their solid angle overestimated, ghosts higher than 1st order benefit from $\\epsilon^{ghost\\ order}$ and so only the first-order ghosts matter. "
   ]
  },
  {
   "cell_type": "code",
   "execution_count": 217,
   "metadata": {},
   "outputs": [
    {
     "name": "stdout",
     "output_type": "stream",
     "text": [
      "G_first_order        is 8.52e-07 cm2 sr or  22% of telescope\n",
      "G_second_order       is 8.52e-09 cm2 sr or   0% of telescope\n",
      "G_third_order        is 9.87e-10 cm2 sr or   0% of telescope\n"
     ]
    }
   ],
   "source": [
    "G_first_order = (theta_to_omega(36*ur.degree) * A_fiber * (1-refl_ar_coating)).to(Gus)\n",
    "G_second_order = (theta_to_omega(36*ur.degree) * A_fiber * (1-refl_ar_coating)**2).to(Gus)\n",
    "G_third_order = (4*np.pi*ur.sr * A_fiber * (1-refl_ar_coating)**3).to(Gus)\n",
    "\n",
    "p_h(\"G_first_order\")\n",
    "p_h(\"G_second_order\")\n",
    "p_h(\"G_third_order\")"
   ]
  },
  {
   "cell_type": "code",
   "execution_count": 218,
   "metadata": {},
   "outputs": [
    {
     "name": "stdout",
     "output_type": "stream",
     "text": [
      "G_telescope          is 3.95e-06 cm2 sr or 100% of telescope\n",
      "G_secondary          is 5.10e-08 cm2 sr or   1% of telescope\n",
      "G_fiber              is 1.82e-06 cm2 sr or  46% of telescope\n",
      "G_first_order        is 8.52e-07 cm2 sr or  22% of telescope\n",
      "G_second_order       is 8.52e-09 cm2 sr or   0% of telescope\n",
      "G_third_order        is 9.87e-10 cm2 sr or   0% of telescope\n"
     ]
    }
   ],
   "source": [
    "\n",
    "\n",
    "vs = [\"G_telescope\", \"G_secondary\", \"G_fiber\", \"G_first_order\", \"G_second_order\", \"G_third_order\"]\n",
    "for v in vs:\n",
    "    p_h(v)"
   ]
  },
  {
   "cell_type": "code",
   "execution_count": null,
   "metadata": {
    "collapsed": true
   },
   "outputs": [],
   "source": []
  }
 ],
 "metadata": {
  "kernelspec": {
   "display_name": "Python 3",
   "language": "python",
   "name": "python3"
  },
  "language_info": {
   "codemirror_mode": {
    "name": "ipython",
    "version": 3
   },
   "file_extension": ".py",
   "mimetype": "text/x-python",
   "name": "python",
   "nbconvert_exporter": "python",
   "pygments_lexer": "ipython3",
   "version": "3.6.1"
  }
 },
 "nbformat": 4,
 "nbformat_minor": 2
}
