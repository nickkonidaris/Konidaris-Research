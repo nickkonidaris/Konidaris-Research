{
 "cells": [
  {
   "cell_type": "markdown",
   "id": "5225b35d",
   "metadata": {},
   "source": [
    "Day-night emission spectrum"
   ]
  },
  {
   "cell_type": "code",
   "execution_count": 16,
   "id": "fa9e9479",
   "metadata": {},
   "outputs": [],
   "source": [
    "from astropy.modeling import models\n",
    "from astropy import units as u\n",
    "from astropy import constants as cc\n",
    "\n",
    "import numpy as np\n",
    "\n"
   ]
  },
  {
   "cell_type": "code",
   "execution_count": 116,
   "id": "7741792f",
   "metadata": {},
   "outputs": [
    {
     "data": {
      "text/latex": [
       "$1.5325469 \\times 10^{-5} \\; \\mathrm{\\frac{erg}{Hz\\,s\\,sr\\,cm^{2}}}$"
      ],
      "text/plain": [
       "<Quantity 1.53254685e-05 erg / (cm2 Hz s sr)>"
      ]
     },
     "execution_count": 116,
     "metadata": {},
     "output_type": "execute_result"
    }
   ],
   "source": [
    "bb(6000 * u.AA)"
   ]
  },
  {
   "cell_type": "code",
   "execution_count": 105,
   "id": "1627cc87",
   "metadata": {},
   "outputs": [],
   "source": [
    "# Star\n",
    "Teff = 5000*u.K\n",
    "Dtostar = 50*u.pc \n",
    "Rstar = 1*u.solRad\n",
    "Rtel = 1*u.m/2\n",
    "Npix = 36\n",
    "exptime = 1*u.hour\n",
    "\n",
    "bb = models.BlackBody(temperature=Teff)\n",
    "\n",
    "A = np.pi*(Rstar)**2\n",
    "Ω = (np.pi*Rtel**2)/(4*np.pi*Dtostar**2) * u.sr\n",
    "\n",
    "λ = 6000 * u.AA\n",
    "dλ = λ/100\n",
    "BW = (cc.c/λ - cc.c/(λ+dλ)).cgs\n",
    "hc = cc.h * cc.c"
   ]
  },
  {
   "cell_type": "code",
   "execution_count": 115,
   "id": "7a4506a1",
   "metadata": {},
   "outputs": [
    {
     "name": "stdout",
     "output_type": "stream",
     "text": [
      "3.9923885155913227e-16 cm2 rad2\n",
      "Phot / pix: 914258\n",
      "Phot:  32913317\n",
      "SNR:  5737\n"
     ]
    },
    {
     "data": {
      "text/latex": [
       "$9142.5881 \\; \\mathrm{\\frac{1}{s}}$"
      ],
      "text/plain": [
       "<Quantity 9142.58811147 1 / s>"
      ]
     },
     "execution_count": 115,
     "metadata": {},
     "output_type": "execute_result"
    }
   ],
   "source": [
    "print(\"%s\" % (A*Ω).cgs)\n",
    "sig = (bb(λ) * BW * A*Ω / (hc/λ)).cgs\n",
    "print(\"Phot / pix: %i\" % int(sig * exptime / Npix))\n",
    "print(\"Phot: \", int(sig * exptime))\n",
    "print(\"SNR: \", int(np.sqrt(sig*exptime)))\n",
    "sig\n",
    "\n"
   ]
  },
  {
   "cell_type": "code",
   "execution_count": 78,
   "id": "9b9c5850",
   "metadata": {},
   "outputs": [
    {
     "data": {
      "text/latex": [
       "$\\mathrm{R_{\\oplus}}$"
      ],
      "text/plain": [
       "Unit(\"earthRad\")"
      ]
     },
     "execution_count": 78,
     "metadata": {},
     "output_type": "execute_result"
    }
   ],
   "source": [
    "u.earthRad"
   ]
  },
  {
   "cell_type": "code",
   "execution_count": 208,
   "id": "bc634115",
   "metadata": {},
   "outputs": [
    {
     "data": {
      "text/latex": [
       "$\\mathrm{R_{\\rm J}}$"
      ],
      "text/plain": [
       "Unit(\"jupiterRad\")"
      ]
     },
     "execution_count": 208,
     "metadata": {},
     "output_type": "execute_result"
    }
   ],
   "source": [
    "u.jupiterRad"
   ]
  },
  {
   "cell_type": "code",
   "execution_count": 209,
   "id": "512fe960",
   "metadata": {},
   "outputs": [
    {
     "data": {
      "text/latex": [
       "$\\mathrm{R_{\\odot}}$"
      ],
      "text/plain": [
       "Unit(\"solRad\")"
      ]
     },
     "execution_count": 209,
     "metadata": {},
     "output_type": "execute_result"
    }
   ],
   "source": [
    "u.solRad"
   ]
  },
  {
   "cell_type": "code",
   "execution_count": null,
   "id": "e82cd240",
   "metadata": {},
   "outputs": [],
   "source": []
  }
 ],
 "metadata": {
  "kernelspec": {
   "display_name": "Python 3 (ipykernel)",
   "language": "python",
   "name": "python3"
  },
  "language_info": {
   "codemirror_mode": {
    "name": "ipython",
    "version": 3
   },
   "file_extension": ".py",
   "mimetype": "text/x-python",
   "name": "python",
   "nbconvert_exporter": "python",
   "pygments_lexer": "ipython3",
   "version": "3.10.4"
  }
 },
 "nbformat": 4,
 "nbformat_minor": 5
}
