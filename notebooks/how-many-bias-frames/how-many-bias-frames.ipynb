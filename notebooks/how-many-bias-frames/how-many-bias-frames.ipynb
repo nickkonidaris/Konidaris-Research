{
 "cells": [
  {
   "cell_type": "markdown",
   "metadata": {},
   "source": [
    "# How many bias frames do I need?\n",
    "\n",
    "Bias is an additive structure in a CCD image. Assume the bias structure is drawn from a normal distribution and you want to measure it. Take a single frame, that frame has variance that is equivalent to the quadratic sum of  read noise and the standard deviation of the bias. \n",
    "\n",
    "Here I do a simple numerical simulation to figure out the number of frames needed.\n",
    "\n",
    "Nick Konidaris\n",
    "npk@carnegiescience.edu\n"
   ]
  },
  {
   "cell_type": "code",
   "execution_count": 1,
   "metadata": {
    "collapsed": true
   },
   "outputs": [],
   "source": [
    "import numpy as np\n",
    "%matplotlib inline\n",
    "from pylab import *"
   ]
  },
  {
   "cell_type": "markdown",
   "metadata": {},
   "source": [
    "Pretend that bias is a random normal draw with unit variance."
   ]
  },
  {
   "cell_type": "code",
   "execution_count": 10,
   "metadata": {},
   "outputs": [],
   "source": [
    "bias = np.random.randn(100)"
   ]
  },
  {
   "cell_type": "markdown",
   "metadata": {},
   "source": [
    "Now simulate measuring it with a detector that has muRN x bias \"noise\"."
   ]
  },
  {
   "cell_type": "code",
   "execution_count": 56,
   "metadata": {
    "collapsed": true
   },
   "outputs": [],
   "source": [
    "sigs = []\n",
    "\n",
    "muRN=5\n",
    "bias = np.random.randn(1000)\n",
    "realization = np.random.randn(len(bias))*muRN + bias\n",
    "for i in range(1000):\n",
    "    sigs.append(np.std(realization)/(i+1))\n",
    "    RN = np.random.randn(len(bias))*muRN\n",
    "    realization += RN + bias\n",
    "    "
   ]
  },
  {
   "cell_type": "code",
   "execution_count": 57,
   "metadata": {},
   "outputs": [
    {
     "data": {
      "text/plain": [
       "<matplotlib.text.Text at 0x10f8c14a8>"
      ]
     },
     "execution_count": 57,
     "metadata": {},
     "output_type": "execute_result"
    },
    {
     "data": {
      "image/png": "[encoded data removed]",
      "text/plain": [
       "<matplotlib.figure.Figure at 0x10ef91e10>"
      ]
     },
     "metadata": {},
     "output_type": "display_data"
    }
   ],
   "source": [
    "figure(figsize=(10,5))\n",
    "semilogx(sigs,'.')\n",
    "axhline(1.1)\n",
    "grid(True)\n",
    "title(\"Ratio of RN to bias noise is %s:1\" % muRN)\n",
    "xlabel(\"# of bias frames\")\n",
    "ylabel(\"STD of running average\")"
   ]
  },
  {
   "cell_type": "code",
   "execution_count": 58,
   "metadata": {},
   "outputs": [
    {
     "data": {
      "text/plain": [
       "5.0241118002745937"
      ]
     },
     "execution_count": 58,
     "metadata": {},
     "output_type": "execute_result"
    }
   ],
   "source": [
    "sigs[0]"
   ]
  },
  {
   "cell_type": "code",
   "execution_count": null,
   "metadata": {
    "collapsed": true
   },
   "outputs": [],
   "source": []
  }
 ],
 "metadata": {
  "kernelspec": {
   "display_name": "Python 3",
   "language": "python",
   "name": "python3"
  },
  "language_info": {
   "codemirror_mode": {
    "name": "ipython",
    "version": 3
   },
   "file_extension": ".py",
   "mimetype": "text/x-python",
   "name": "python",
   "nbconvert_exporter": "python",
   "pygments_lexer": "ipython3",
   "version": "3.6.1"
  }
 },
 "nbformat": 4,
 "nbformat_minor": 2
}
