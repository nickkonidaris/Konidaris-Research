{
 "cells": [
  {
   "cell_type": "code",
   "execution_count": 193,
   "metadata": {
    "collapsed": true
   },
   "outputs": [],
   "source": [
    "import numpy as np\n",
    "%matplotlib inline\n",
    "from pylab import *\n",
    "import ccdproc\n",
    "from ccdproc import ImageFileCollection\n",
    "import astropy\n",
    "import astropy.units as u"
   ]
  },
  {
   "cell_type": "code",
   "execution_count": 2,
   "metadata": {
    "collapsed": true
   },
   "outputs": [],
   "source": [
    "path = \"/Volumes/GoogleDrive/My Drive/Observing/2018A/Feb 9 10 11- Swope/TEST\""
   ]
  },
  {
   "cell_type": "code",
   "execution_count": 6,
   "metadata": {},
   "outputs": [
    {
     "name": "stdout",
     "output_type": "stream",
     "text": [
      "INFO: using the unit adu passed to the FITS reader instead of the unit DU/PIXEL in the FITS file. [astropy.nddata.ccddata]\n"
     ]
    }
   ],
   "source": [
    "data = astropy.nddata.CCDData.read(path + \"/ccd3001c1.fits\", unit='adu')"
   ]
  },
  {
   "cell_type": "code",
   "execution_count": 17,
   "metadata": {
    "collapsed": true
   },
   "outputs": [],
   "source": []
  },
  {
   "cell_type": "code",
   "execution_count": 70,
   "metadata": {},
   "outputs": [
    {
     "data": {
      "text/html": [
       "&lt;Row index=1 masked=True&gt;\n",
       "<table id=\"table4746292752\">\n",
       "<thead><tr><th>file</th><th>simple</th><th>bitpix</th><th>naxis</th><th>naxis1</th><th>naxis2</th><th>bscale</th><th>bzero</th><th>bunit</th><th>origin</th><th>observer</th><th>telescop</th><th>sitename</th><th>sitealt</th><th>sitelat</th><th>sitelong</th><th>timezone</th><th>date-obs</th><th>ut-date</th><th>ut-time</th><th>ut-end</th><th>lc-time</th><th>night</th><th>instrume</th><th>scale</th><th>egain</th><th>enoise</th><th>nopamps</th><th>opamp</th><th>choffx</th><th>choffy</th><th>dispaxis</th><th>ra</th><th>ra-d</th><th>dec</th><th>dec-d</th><th>equinox</th><th>asecs</th><th>dsecs</th><th>epoch</th><th>airmass</th><th>st</th><th>telfocus</th><th>casspos</th><th>filename</th><th>object</th><th>exptype</th><th>exptime</th><th>nloops</th><th>loop</th><th>binning</th><th>speed</th><th>noverscn</th><th>nbiaslns</th><th>biassec</th><th>datasec</th><th>trimsec</th><th>filter</th><th>wheel1</th><th>wheel2</th><th>subrastr</th><th>tempccd</th><th>vgauge</th><th>igauge</th><th>software</th><th>fitsvers</th><th>comment</th></tr></thead>\n",
       "<thead><tr><th>str14</th><th>bool</th><th>int64</th><th>int64</th><th>int64</th><th>int64</th><th>float64</th><th>float64</th><th>str8</th><th>str8</th><th>str4</th><th>str5</th><th>str3</th><th>int64</th><th>float64</th><th>float64</th><th>int64</th><th>str10</th><th>str10</th><th>str8</th><th>str8</th><th>str8</th><th>str9</th><th>str14</th><th>float64</th><th>float64</th><th>float64</th><th>int64</th><th>int64</th><th>float64</th><th>float64</th><th>int64</th><th>str11</th><th>float64</th><th>str11</th><th>float64</th><th>float64</th><th>float64</th><th>float64</th><th>float64</th><th>float64</th><th>float64</th><th>float64</th><th>float64</th><th>str9</th><th>str5</th><th>str4</th><th>float64</th><th>int64</th><th>int64</th><th>str3</th><th>str5</th><th>int64</th><th>int64</th><th>str21</th><th>str15</th><th>str15</th><th>str1</th><th>str1</th><th>str4</th><th>str4</th><th>float64</th><th>float64</th><th>float64</th><th>str46</th><th>str3</th><th>str6</th></tr></thead>\n",
       "<tr><td>ccd3001c2.fits</td><td>True</td><td>16</td><td>2</td><td>2176</td><td>2184</td><td>1.0</td><td>32768.0</td><td>DU/PIXEL</td><td>LCO/OCIW</td><td>UCSC</td><td>Swope</td><td>LCO</td><td>2280</td><td>-29.083</td><td>-70.698</td><td>4</td><td>2018-02-07</td><td>2018-02-07</td><td>22:55:23</td><td>22:55:23</td><td>19:55:23</td><td>07Feb2018</td><td>Direct/4Kx4K-4</td><td>0.435</td><td>1.04</td><td>3.2</td><td>4</td><td>2</td><td>445.44</td><td>447.18</td><td>0</td><td>03:20:46.8</td><td>50.1949583</td><td>-29:16:28.3</td><td>-29.2745361</td><td>2000.0</td><td>431.0</td><td>441.0</td><td>2018.10399</td><td>1.0</td><td>12277.5</td><td>0.0</td><td>0.0</td><td>ccd2134c2</td><td>bias</td><td>Bias</td><td>0.0</td><td>1</td><td>1</td><td>1x1</td><td>Turbo</td><td>128</td><td>128</td><td>[2049:2176,2057:2184]</td><td>[1:2048,1:2056]</td><td>[1:2048,1:2056]</td><td>u</td><td>u</td><td>Open</td><td>none</td><td>-111.7</td><td>3.16e-05</td><td>2.63e-07</td><td>Version 1.4.2 (1.0421) (May 16 2017, 13:14:35)</td><td>1.2</td><td>=,,,,,</td></tr>\n",
       "</table>"
      ],
      "text/plain": [
       "<Row index=1 masked=True>\n",
       "     file      simple bitpix naxis naxis1 naxis2  bscale  bzero   bunit    origin  observer telescop sitename sitealt sitelat sitelong timezone  date-obs   ut-date   ut-time   ut-end  lc-time    night      instrume     scale   egain   enoise nopamps opamp  choffx  choffy dispaxis      ra        ra-d        dec        dec-d    equinox  asecs   dsecs    epoch    airmass    st   telfocus casspos  filename object exptype exptime nloops  loop binning speed noverscn nbiaslns        biassec            datasec         trimsec     filter wheel1 wheel2 subrastr tempccd  vgauge   igauge                     software                    fitsvers comment\n",
       "    str14       bool  int64  int64 int64  int64  float64 float64   str8     str8     str4     str5     str3    int64  float64 float64   int64     str10      str10      str8     str8     str8      str9       str14      float64 float64 float64  int64  int64 float64 float64  int64      str11     float64      str11      float64   float64 float64 float64  float64   float64 float64 float64  float64    str9    str5    str4  float64 int64  int64   str3   str5  int64    int64           str21              str15           str15       str1   str1   str4    str4   float64 float64  float64                      str46                        str3     str6 \n",
       "-------------- ------ ------ ----- ------ ------ ------- ------- -------- -------- -------- -------- -------- ------- ------- -------- -------- ---------- ---------- -------- -------- -------- --------- -------------- ------- ------- ------- ------- ----- ------- ------- -------- ----------- ---------- ----------- ----------- ------- ------- ------- ---------- ------- ------- -------- ------- --------- ------ ------- ------- ------ ----- ------- ----- -------- -------- --------------------- --------------- --------------- ------ ------ ------ -------- ------- -------- -------- ---------------------------------------------- -------- -------\n",
       "ccd3001c2.fits   True     16     2   2176   2184     1.0 32768.0 DU/PIXEL LCO/OCIW     UCSC    Swope      LCO    2280 -29.083  -70.698        4 2018-02-07 2018-02-07 22:55:23 22:55:23 19:55:23 07Feb2018 Direct/4Kx4K-4   0.435    1.04     3.2       4     2  445.44  447.18        0  03:20:46.8 50.1949583 -29:16:28.3 -29.2745361  2000.0   431.0   441.0 2018.10399     1.0 12277.5      0.0     0.0 ccd2134c2   bias    Bias     0.0      1     1     1x1 Turbo      128      128 [2049:2176,2057:2184] [1:2048,1:2056] [1:2048,1:2056]      u      u   Open     none  -111.7 3.16e-05 2.63e-07 Version 1.4.2 (1.0421) (May 16 2017, 13:14:35)      1.2  =,,,,,"
      ]
     },
     "execution_count": 70,
     "metadata": {},
     "output_type": "execute_result"
    }
   ],
   "source": [
    "ic = ImageFileCollection(path)\n",
    "ic.summary[1]"
   ]
  },
  {
   "cell_type": "code",
   "execution_count": 224,
   "metadata": {},
   "outputs": [
    {
     "data": {
      "text/plain": [
       "'[1:2048,1:2056]'"
      ]
     },
     "execution_count": 224,
     "metadata": {},
     "output_type": "execute_result"
    }
   ],
   "source": [
    "raw.header[\"TRIMSEC\"]"
   ]
  },
  {
   "cell_type": "code",
   "execution_count": null,
   "metadata": {
    "collapsed": true
   },
   "outputs": [],
   "source": [
    "imshow"
   ]
  },
  {
   "cell_type": "code",
   "execution_count": null,
   "metadata": {
    "collapsed": true
   },
   "outputs": [],
   "source": [
    "def"
   ]
  },
  {
   "cell_type": "code",
   "execution_count": 234,
   "metadata": {},
   "outputs": [
    {
     "name": "stderr",
     "output_type": "stream",
     "text": [
      "INFO:astropy:using the unit adu passed to the FITS reader instead of the unit DU/PIXEL in the FITS file.\n",
      "/Users/npk/Dropbox/virtualenv/astropy/lib/python3.6/site-packages/ccdproc/core.py:336: RuntimeWarning: invalid value encountered in sqrt\n",
      "  var = (gain_value * ccd_data.data + readnoise_value ** 2) ** 0.5\n",
      "INFO:astropy:using the unit adu passed to the FITS reader instead of the unit DU/PIXEL in the FITS file.\n"
     ]
    },
    {
     "name": "stdout",
     "output_type": "stream",
     "text": [
      "INFO: using the unit adu passed to the FITS reader instead of the unit DU/PIXEL in the FITS file. [astropy.nddata.ccddata]\n",
      "INFO: using the unit adu passed to the FITS reader instead of the unit DU/PIXEL in the FITS file. [astropy.nddata.ccddata]\n"
     ]
    },
    {
     "name": "stderr",
     "output_type": "stream",
     "text": [
      "INFO:astropy:using the unit adu passed to the FITS reader instead of the unit DU/PIXEL in the FITS file.\n",
      "INFO:astropy:using the unit adu passed to the FITS reader instead of the unit DU/PIXEL in the FITS file.\n"
     ]
    },
    {
     "name": "stdout",
     "output_type": "stream",
     "text": [
      "INFO: using the unit adu passed to the FITS reader instead of the unit DU/PIXEL in the FITS file. [astropy.nddata.ccddata]\n",
      "INFO: using the unit adu passed to the FITS reader instead of the unit DU/PIXEL in the FITS file. [astropy.nddata.ccddata]\n"
     ]
    },
    {
     "name": "stderr",
     "output_type": "stream",
     "text": [
      "INFO:astropy:using the unit adu passed to the FITS reader instead of the unit DU/PIXEL in the FITS file.\n",
      "INFO:astropy:using the unit adu passed to the FITS reader instead of the unit DU/PIXEL in the FITS file.\n"
     ]
    },
    {
     "name": "stdout",
     "output_type": "stream",
     "text": [
      "INFO: using the unit adu passed to the FITS reader instead of the unit DU/PIXEL in the FITS file. [astropy.nddata.ccddata]\n",
      "INFO: using the unit adu passed to the FITS reader instead of the unit DU/PIXEL in the FITS file. [astropy.nddata.ccddata]\n"
     ]
    },
    {
     "name": "stderr",
     "output_type": "stream",
     "text": [
      "INFO:astropy:using the unit adu passed to the FITS reader instead of the unit DU/PIXEL in the FITS file.\n"
     ]
    },
    {
     "name": "stdout",
     "output_type": "stream",
     "text": [
      "INFO: using the unit adu passed to the FITS reader instead of the unit DU/PIXEL in the FITS file. [astropy.nddata.ccddata]\n",
      "INFO"
     ]
    },
    {
     "name": "stderr",
     "output_type": "stream",
     "text": [
      "INFO:astropy:using the unit adu passed to the FITS reader instead of the unit DU/PIXEL in the FITS file.\n",
      "INFO:astropy:using the unit adu passed to the FITS reader instead of the unit DU/PIXEL in the FITS file.\n",
      "INFO:astropy:using the unit adu passed to the FITS reader instead of the unit DU/PIXEL in the FITS file.\n"
     ]
    },
    {
     "name": "stdout",
     "output_type": "stream",
     "text": [
      ": using the unit adu passed to the FITS reader instead of the unit DU/PIXEL in the FITS file. [astropy.nddata.ccddata]\n",
      "INFO: using the unit adu passed to the FITS reader instead of the unit DU/PIXEL in the FITS file. [astropy.nddata.ccddata]\n",
      "INFO: using the unit adu passed to the FITS reader instead of the unit DU/PIXEL in the FITS file. [astropy.nddata.ccddata]\n"
     ]
    },
    {
     "name": "stderr",
     "output_type": "stream",
     "text": [
      "INFO:astropy:using the unit adu passed to the FITS reader instead of the unit DU/PIXEL in the FITS file.\n",
      "INFO:astropy:using the unit adu passed to the FITS reader instead of the unit DU/PIXEL in the FITS file.\n"
     ]
    },
    {
     "name": "stdout",
     "output_type": "stream",
     "text": [
      "INFO: using the unit adu passed to the FITS reader instead of the unit DU/PIXEL in the FITS file. [astropy.nddata.ccddata]\n",
      "INFO: using the unit adu passed to the FITS reader instead of the unit DU/PIXEL in the FITS file. [astropy.nddata.ccddata]\n"
     ]
    }
   ],
   "source": [
    "ic = ImageFileCollection(path)\n",
    "ccdargs = {\"unit\": \"adu\"}\n",
    "\n",
    "biases = {1: [], 2: [], 3: [], 4: []}\n",
    "\n",
    "for ccd, fname in ic.ccds(object='BIAS', return_fname=True, ccd_kwargs=ccdargs):\n",
    "\n",
    "    dat = ccdproc.ccd_process(ccd, oscan=ccd[:,2049:], trim=\"[2:2047,2:2055]\",\n",
    "                            error=True,\n",
    "                            gain=raw.header[\"EGAIN\"]*u.electron/u.adu, \n",
    "                            readnoise=raw.header[\"ENOISE\"]*u.electron)\n",
    "    \n",
    "    biases[dat.header[\"OPAMP\"]].append(dat)\n"
   ]
  },
  {
   "cell_type": "code",
   "execution_count": 240,
   "metadata": {},
   "outputs": [],
   "source": [
    "master_biases = {}\n",
    "\n",
    "for opamp, ccds in biases.items():\n",
    "    mb = ccdproc.Combiner(ccds).average_combine()\n",
    "    master_biases[opamp] = mb"
   ]
  },
  {
   "cell_type": "code",
   "execution_count": 239,
   "metadata": {},
   "outputs": [
    {
     "data": {
      "text/plain": [
       "<matplotlib.colorbar.Colorbar at 0x1497fed68>"
      ]
     },
     "execution_count": 239,
     "metadata": {},
     "output_type": "execute_result"
    },
    {
     "data": {
      "image/png": "[encoded data removed]",
      "text/plain": [
       "<matplotlib.figure.Figure at 0x149725a58>"
      ]
     },
     "metadata": {},
     "output_type": "display_data"
    }
   ],
   "source": [
    "imshow(master_biases[1][100:200,100:200],vmin=-10, vmax=10)\n",
    "colorbar()"
   ]
  },
  {
   "cell_type": "code",
   "execution_count": 194,
   "metadata": {},
   "outputs": [],
   "source": [
    "raw = ccd`\n",
    "\n",
    "dat = ccdproc.ccd_process(raw, oscan=raw[:,2049:], trim=raw.header[\"TRIMSEC\"], \n",
    "                            error=True,\n",
    "                            gain=raw.header[\"EGAIN\"]*u.electron/u.adu, \n",
    "                            readnoise=raw.header[\"ENOISE\"]*u.electron)"
   ]
  },
  {
   "cell_type": "code",
   "execution_count": 181,
   "metadata": {},
   "outputs": [
    {
     "data": {
      "text/plain": [
       "SIMPLE  =                    T                                                  \n",
       "BITPIX  =                   16                                                  \n",
       "NAXIS   =                    2                                                  \n",
       "NAXIS1  =                 2176                                                  \n",
       "NAXIS2  =                 2184                                                  \n",
       "BSCALE  =           1.00000000         / real=bzero+bscale*value                \n",
       "BZERO   =       32768.00000000                                                  \n",
       "BUNIT   = 'DU/PIXEL'                                                            \n",
       "ORIGIN  = 'LCO/OCIW'                                                            \n",
       "OBSERVER= 'UCSC'                                                                \n",
       "TELESCOP= 'Swope'                      / telescope                              \n",
       "SITENAME= 'LCO'                                                                 \n",
       "SITEALT =                 2280         / meters                                 \n",
       "SITELAT =            -29.08300                                                  \n",
       "SITELONG=            -70.69800                                                  \n",
       "TIMEZONE=                    4                                                  \n",
       "DATE-OBS= '2018-02-07'                 / UT date (start)                        \n",
       "UT-DATE = '2018-02-07'                 / UT date (start)                        \n",
       "UT-TIME = '23:48:24'                   / UT time (start) 85704 seconds          \n",
       "UT-END  = '23:48:30'                   / UT time (end) 85710 seconds            \n",
       "LC-TIME = '20:48:24'                   / local time (start) 74904 seconds       \n",
       "NIGHT   = '07Feb2018'                  / local night                            \n",
       "INSTRUME= 'Direct/4Kx4K-4'             / instrument name                        \n",
       "SCALE   =                0.435         / arcsec/pixel                           \n",
       "EGAIN   =                1.040         / electrons/DU                           \n",
       "ENOISE  =                3.100         / electrons/read                         \n",
       "NOPAMPS =                    4         / # of op-amps                           \n",
       "OPAMP   =                    4         / this op-amp                            \n",
       "CHOFFX  =             -445.440         / x-offset [arcsec]                      \n",
       "CHOFFY  =             -447.180         / y-offset [arcsec]                      \n",
       "DISPAXIS=                    0         / disperser axis                         \n",
       "RA      = ' 05:17:08.9'                / right ascension                        \n",
       "RA-D    =           79.2870417         / degrees                                \n",
       "DEC     = '-37:51:44.3'                / declination                            \n",
       "DEC-D   =          -37.8623139         / degrees                                \n",
       "EQUINOX =           2000.00000         / of above coordinates                   \n",
       "ASECS   =               30.000         / arcseconds                             \n",
       "DSECS   =               30.000         / arcseconds                             \n",
       "EPOCH   =           2018.10409         / epoch (start)                          \n",
       "AIRMASS =                1.036         / airmass (start) from TCS               \n",
       "ST      =              15467.5         / sidereal time:  4:17:47 (start)        \n",
       "TELFOCUS=                  0.0         / IDEA: from new TCS                     \n",
       "CASSPOS =                  0.0         / fixed at N-up/E-left                   \n",
       "FILENAME= 'ccd3012c4'                                                           \n",
       "OBJECT  = 'sflat'                                                               \n",
       "COMMENT =                                                                       \n",
       "EXPTYPE = 'Flat'                       / exposure type                          \n",
       "EXPTIME =                5.000         / exposure time                          \n",
       "NLOOPS  =                    1         / # of loops per sequence                \n",
       "LOOP    =                    1         / # within this sequence                 \n",
       "BINNING = '1x1'                        / binning                                \n",
       "SPEED   = 'Turbo'                      / readout speed                          \n",
       "NOVERSCN=                  128         / overscan pixels                        \n",
       "NBIASLNS=                  128         / bias lines                             \n",
       "BIASSEC = '[2049:2176,2057:2184]'      / NOAO: bias section                     \n",
       "DATASEC = '[1:2048,1:2056]'            / NOAO: data section                     \n",
       "TRIMSEC = '[1:2048,1:2056]'            / NOAO: trim section                     \n",
       "FILTER  = 'u'                                                                   \n",
       "WHEEL1  = 'u'                          / filter in wheel1                       \n",
       "WHEEL2  = 'Open'                       / filter in wheel2                       \n",
       "SUBRASTR= 'none'                       / full frame                             \n",
       "TEMPCCD =               -110.8         / CCD temperature [C]                    \n",
       "VGAUGE  =             3.16E-05         / vacuum gauge [mbar]                    \n",
       "IGAUGE  =             1.67E-07         / ion-pump gauge [mbar]                  \n",
       "SOFTWARE= 'Version 1.4.2 (1.0421) (May 16 2017, 13:14:35)'                      \n",
       "FITSVERS= '1.2'                        / FITS header version                    \n",
       "COMMENT                                                                         \n",
       "COMMENT                                                                         \n",
       "COMMENT                                                                         \n",
       "COMMENT                                                                         \n",
       "COMMENT                                                                         "
      ]
     },
     "execution_count": 181,
     "metadata": {},
     "output_type": "execute_result"
    }
   ],
   "source": [
    "raw.header"
   ]
  },
  {
   "cell_type": "code",
   "execution_count": null,
   "metadata": {
    "collapsed": true
   },
   "outputs": [],
   "source": []
  }
 ],
 "metadata": {
  "kernelspec": {
   "display_name": "Python 3",
   "language": "python",
   "name": "python3"
  },
  "language_info": {
   "codemirror_mode": {
    "name": "ipython",
    "version": 3
   },
   "file_extension": ".py",
   "mimetype": "text/x-python",
   "name": "python",
   "nbconvert_exporter": "python",
   "pygments_lexer": "ipython3",
   "version": "3.6.1"
  }
 },
 "nbformat": 4,
 "nbformat_minor": 2
}
