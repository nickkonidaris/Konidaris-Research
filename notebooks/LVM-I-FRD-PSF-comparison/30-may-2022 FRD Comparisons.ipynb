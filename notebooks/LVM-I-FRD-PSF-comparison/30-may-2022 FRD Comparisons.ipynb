{
 "cells": [
  {
   "cell_type": "markdown",
   "metadata": {},
   "source": [
    "# Simulations comparing LVM-I PSF before/after FRD"
   ]
  },
  {
   "cell_type": "markdown",
   "metadata": {},
   "source": [
    "Nick Konidaris\n",
    "30-May-2022\n",
    "\n",
    "Summary: I simulate the effect of FRD when the fibers deliver a 2.0-deg-FWHM versus 1.5-deg-FWHM frd rings. The analysis shows that there is PSF variation at the few percent level in the \"wings\" of the PSF.\n",
    "\n",
    "Methods: Zemax allows me to adjust the NA into the spectrograph. The apodiziation is crude (tophat), but represents a worst-case analysis."
   ]
  },
  {
   "cell_type": "code",
   "execution_count": 68,
   "metadata": {},
   "outputs": [],
   "source": [
    "import numpy as np\n",
    "from pylab import *\n",
    "rc(\"font\", size=15)"
   ]
  },
  {
   "cell_type": "markdown",
   "metadata": {},
   "source": [
    "# Conversion of FRD to Pupils"
   ]
  },
  {
   "cell_type": "code",
   "execution_count": 69,
   "metadata": {},
   "outputs": [],
   "source": [
    "def na_to_fno(na):\n",
    "    \"\"\" Convert a NA to focal ratio \"\"\"\n",
    "    return 1/(2*na)\n",
    "\n",
    "def fno_to_na(fno):\n",
    "    \"\"\" Convert Fno to NA \"\"\"\n",
    "    return na_to_fno(fno) # Turns out these are inverse functions\n",
    "    \n",
    "def fno_to_area(fno):\n",
    "    return np.pi * (fno/2)**2\n",
    "\n",
    "def area_to_fno(area):\n",
    "    return 2*np.sqrt(area/np.pi)\n",
    "\n",
    "assert(area_to_fno(fno_to_area(3)) == 3)"
   ]
  },
  {
   "cell_type": "code",
   "execution_count": 70,
   "metadata": {},
   "outputs": [],
   "source": [
    "na_rx = 0.14018\n",
    "ar_rx = fno_to_area(na_to_fno(na_rx))\n",
    "\n",
    "ar_degraded = ar_rx * 9./6. # Tobias predicts, via email, that the prescribed FRD loss is 6% with 1.5-deg-FWHM and 9% with 2.0-deg-FWHM\n",
    "na_degraded = fno_to_na(area_to_fno(ar_degraded))\n"
   ]
  },
  {
   "cell_type": "code",
   "execution_count": 71,
   "metadata": {},
   "outputs": [
    {
     "data": {
      "text/plain": [
       "(0.1322452830188679, 0.12860550458715594)"
      ]
     },
     "execution_count": 71,
     "metadata": {},
     "output_type": "execute_result"
    }
   ],
   "source": [
    "fno_to_na(area_to_fno(ar_rx) * 1.06), fno_to_na(area_to_fno(ar_rx) * 1.09)"
   ]
  },
  {
   "cell_type": "markdown",
   "metadata": {},
   "source": [
    "## Semi-Analytic Simulations of FRD\n",
    "\n",
    "Here I take results from the RED spectrograph Zemax (FRD Study 30-may-2022\\2711-DESI-0034-V1-Red)\n",
    "\n",
    "I input NAs of .13224528 (low FRD) and 0.128605 (high FRD)"
   ]
  },
  {
   "cell_type": "code",
   "execution_count": 72,
   "metadata": {},
   "outputs": [],
   "source": [
    "psf_high_frd = np.fromstring(\"\"\"\n",
    "  0.0000E+00\t  0.0000E+00\t  3.1085E-02\t  2.1760E-01\t  3.9967E-02\t  0.0000E+00\t  0.0000E+00\n",
    "  0.0000E+00\t  1.0169E+00\t  4.7916E+01\t  1.2432E+02\t  4.8094E+01\t  1.0613E+00\t  0.0000E+00\n",
    "  8.8816E-03\t  3.1081E+01\t  3.4974E+02\t  4.5891E+02\t  3.5012E+02\t  3.0437E+01\t  1.3322E-02\n",
    "  1.7319E-01\t  7.9339E+01\t  4.5713E+02\t  4.8864E+02\t  4.5803E+02\t  7.9437E+01\t  1.9095E-01\n",
    "  3.5526E-02\t  3.2933E+01\t  3.4319E+02\t  4.6148E+02\t  3.4459E+02\t  3.3173E+01\t  3.5526E-02\n",
    "  0.0000E+00\t  2.2071E+00\t  4.9457E+01\t  1.1884E+02\t  4.8573E+01\t  2.1937E+00\t  0.0000E+00\n",
    "  0.0000E+00\t  0.0000E+00\t  3.5082E-01\t  1.1679E+00\t  2.9309E-01\t  0.0000E+00\t  0.0000E+00\n",
    "\"\"\", sep=\" \").reshape((7,7))"
   ]
  },
  {
   "cell_type": "code",
   "execution_count": 73,
   "metadata": {},
   "outputs": [],
   "source": [
    "psf_low_frd = np.fromstring(\"\"\"\n",
    "  0.0000E+00\t  0.0000E+00\t  0.0000E+00\t  0.0000E+00\t  0.0000E+00\t  0.0000E+00\t  0.0000E+00\n",
    "  0.0000E+00\t  0.0000E+00\t  4.1002E+01\t  1.2118E+02\t  4.1330E+01\t  0.0000E+00\t  0.0000E+00\n",
    "  0.0000E+00\t  1.9242E+01\t  3.6186E+02\t  4.6855E+02\t  3.6109E+02\t  1.9397E+01\t  0.0000E+00\n",
    "  0.0000E+00\t  6.6043E+01\t  4.7660E+02\t  4.8921E+02\t  4.7746E+02\t  6.6083E+01\t  0.0000E+00\n",
    "  0.0000E+00\t  2.1072E+01\t  3.5881E+02\t  4.7170E+02\t  3.5900E+02\t  2.0947E+01\t  0.0000E+00\n",
    "  0.0000E+00\t  4.4408E-03\t  4.2667E+01\t  1.1944E+02\t  4.1761E+01\t  0.0000E+00\t  0.0000E+00\n",
    "  0.0000E+00\t  0.0000E+00\t  0.0000E+00\t  0.0000E+00\t  0.0000E+00\t  0.0000E+00\t  0.0000E+00\n",
    "\"\"\", sep=\" \").reshape((7,7))"
   ]
  },
  {
   "cell_type": "code",
   "execution_count": null,
   "metadata": {},
   "outputs": [],
   "source": []
  },
  {
   "cell_type": "code",
   "execution_count": 74,
   "metadata": {
    "scrolled": true
   },
   "outputs": [
    {
     "data": {
      "text/plain": [
       "Text(0.5, 1.0, '(PSF1 - PSF2)/max(PSF1)')"
      ]
     },
     "execution_count": 74,
     "metadata": {},
     "output_type": "execute_result"
    },
    {
     "data": {
      "image/png": "[encoded data removed]",
      "text/plain": [
       "<Figure size 432x288 with 2 Axes>"
      ]
     },
     "metadata": {
      "needs_background": "light"
     },
     "output_type": "display_data"
    }
   ],
   "source": [
    "imshow(100*(psf_high_frd - psf_low_frd)/np.max(psf_low_frd), vmin=-3, vmax=3)\n",
    "colorbar(label=\"Variation [%]\")\n",
    "\n",
    "xlabel(\"Pixel #\")\n",
    "ylabel(\"Pixel #\")\n",
    "title(\"(PSF1 - PSF2)/max(PSF1)\")"
   ]
  },
  {
   "cell_type": "code",
   "execution_count": 77,
   "metadata": {},
   "outputs": [
    {
     "data": {
      "text/plain": [
       "Text(0.5, 1.0, '(PSF1 - PSF2)/max(PSF1)')"
      ]
     },
     "execution_count": 77,
     "metadata": {},
     "output_type": "execute_result"
    },
    {
     "data": {
      "image/png": "[encoded data removed]",
      "text/plain": [
       "<Figure size 432x288 with 2 Axes>"
      ]
     },
     "metadata": {
      "needs_background": "light"
     },
     "output_type": "display_data"
    }
   ],
   "source": [
    "imshow(100*psf_low_frd/np.max(psf_low_frd))\n",
    "colorbar(label=\"PSF Intensity [%]\")\n",
    "\n",
    "xlabel(\"Pixel #\")\n",
    "ylabel(\"Pixel #\")\n",
    "title(\"(PSF1 - PSF2)/max(PSF1)\")"
   ]
  },
  {
   "cell_type": "code",
   "execution_count": null,
   "metadata": {},
   "outputs": [],
   "source": []
  }
 ],
 "metadata": {
  "kernelspec": {
   "display_name": "Python 3",
   "language": "python",
   "name": "python3"
  },
  "language_info": {
   "codemirror_mode": {
    "name": "ipython",
    "version": 3
   },
   "file_extension": ".py",
   "mimetype": "text/x-python",
   "name": "python",
   "nbconvert_exporter": "python",
   "pygments_lexer": "ipython3",
   "version": "3.8.5"
  }
 },
 "nbformat": 4,
 "nbformat_minor": 4
}
