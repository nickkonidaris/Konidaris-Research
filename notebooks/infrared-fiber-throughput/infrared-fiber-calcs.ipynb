{
 "cells": [
  {
   "cell_type": "markdown",
   "metadata": {},
   "source": [
    "\n",
    "Question:\n",
    "\n",
    "What is the infrared sky background in the K band for a fiber?\n",
    "\n",
    "See Zur (1991)\n"
   ]
  },
  {
   "cell_type": "markdown",
   "metadata": {},
   "source": [
    "Following equations from Zir"
   ]
  },
  {
   "cell_type": "code",
   "execution_count": 6,
   "metadata": {},
   "outputs": [],
   "source": [
    "import numpy as np\n",
    "%matplotlib inline\n",
    "from pylab import *\n",
    "\n",
    "import scipy.integrate\n",
    "\n",
    "from collections import namedtuple"
   ]
  },
  {
   "cell_type": "code",
   "execution_count": 7,
   "metadata": {},
   "outputs": [
    {
     "name": "stderr",
     "output_type": "stream",
     "text": [
      "/usr/local/lib/python3.6/site-packages/scipy/integrate/quadpack.py:364: IntegrationWarning: The occurrence of roundoff error is detected, which prevents \n",
      "  the requested tolerance from being achieved.  The error may be \n",
      "  underestimated.\n",
      "  warnings.warn(msg, IntegrationWarning)\n"
     ]
    }
   ],
   "source": [
    "def Wbb(temp, lam_meter):\n",
    "\n",
    "    \n",
    "    h = 6.62e-34 # J s\n",
    "    k = 1.38e-23 # J/K\n",
    "    c = 3e8 # m/s\n",
    "    \n",
    "    denom = np.exp(h*c/(lam_meter * k * temp) - 1)\n",
    "    \n",
    "    return 2*np.pi*h*c**2/lam_meter**5*1/denom\n",
    "\n",
    "def skewness(gamma, theta, n_core=1.516, n_clad=1.501):\n",
    "    \n",
    "    theta_crit = np.arccos(n_clad/n_core)\n",
    "    \n",
    "    cgst = np.cos(gamma) * np.sin(theta)\n",
    "    stc = np.sin(theta_crit)\n",
    "    \n",
    "    if cgst <= stc:\n",
    "        term = 1\n",
    "    else:\n",
    "        term = 0\n",
    "    \n",
    "    return np.cos(gamma * term)**2\n",
    "\n",
    "\n",
    "\n",
    "def guided_radiation_factor(n_core=1.516, n_clad=1.501):\n",
    "    \n",
    "    def _integrand(gamma_, theta_):    \n",
    "        return cos(theta_) * sin(theta_) * skewness(gamma_, theta_, n_core, n_clad)\n",
    "    \n",
    "    options={'limit':100}\n",
    "    II = scipy.integrate.nquad(_integrand, [[0,np.pi/2.], [0,np.pi/2.]], opts=[options, options])\n",
    "    \n",
    "    return II[0]\n",
    "\n",
    "\n",
    "GRF = guided_radiation_factor()\n",
    "\n",
    "def Pbb(temp, lam_, a_meter, GRF):\n",
    "    \n",
    "    return 8 * a_meter**2 * Wbb(temp, lam_) * GRF\n",
    "\n",
    "def emissivity(delta_x_meter, db_per_km):\n",
    "    \n",
    "    return 10**(db_per_km/10. * delta_x_meter/1000.) - 1"
   ]
  },
  {
   "cell_type": "code",
   "execution_count": 8,
   "metadata": {},
   "outputs": [
    {
     "name": "stdout",
     "output_type": "stream",
     "text": [
      "29123.6726847\n"
     ]
    }
   ],
   "source": [
    "hc = 1.98e-25 # Joule meter\n",
    "k = 1.38e-23 # J/K\n",
    "\n",
    "\n",
    "T = 21.5 + 273 # K\n",
    "lam = 2.35e-6 # meter\n",
    "d_fiber = 100e-6 # meter\n",
    "\n",
    "fiber_length = 30 #m\n",
    "fiber_db_km = 5 \n",
    "\n",
    "epp = hc/lam\n",
    "\n",
    "watt_micron = Pbb(T, lam, d_fiber, GRF) * emissivity(fiber_length, fiber_db_km)\n",
    "\n",
    "meter_to_ang = 1e10\n",
    "print(watt_micron/epp/meter_to_ang)"
   ]
  },
  {
   "cell_type": "code",
   "execution_count": 9,
   "metadata": {},
   "outputs": [
    {
     "data": {
      "text/plain": [
       "0.0034598491478392557"
      ]
     },
     "execution_count": 9,
     "metadata": {},
     "output_type": "execute_result"
    }
   ],
   "source": [
    "gs = np.arange(0,6,.01)\n",
    "fs = [skewness(g, np.pi/2, 1.516, 1.501) for g in gs]\n",
    "\n",
    "emissivity(3, 5) # Watt / micron\n"
   ]
  },
  {
   "cell_type": "code",
   "execution_count": 10,
   "metadata": {},
   "outputs": [
    {
     "data": {
      "text/plain": [
       "[<matplotlib.lines.Line2D at 0x10a195e80>]"
      ]
     },
     "execution_count": 10,
     "metadata": {},
     "output_type": "execute_result"
    },
    {
     "data": {
      "image/png": "[encoded data removed]",
      "text/plain": [
       "<matplotlib.figure.Figure at 0x10733d518>"
      ]
     },
     "metadata": {},
     "output_type": "display_data"
    }
   ],
   "source": [
    "lam = np.arange(1e-6,30e-6,1e-7)\n",
    "plot(lam*1e6, Wbb(300, lam))"
   ]
  },
  {
   "cell_type": "code",
   "execution_count": 11,
   "metadata": {},
   "outputs": [
    {
     "data": {
      "image/png": "[encoded data removed]",
      "text/plain": [
       "<matplotlib.figure.Figure at 0x10a1a0b00>"
      ]
     },
     "metadata": {},
     "output_type": "display_data"
    }
   ],
   "source": [
    "ts = np.arange(200, 300, 1)\n",
    "ws = [Wbb(t, 2.35e-6) for t in ts]\n",
    "normat = np.argmin(np.abs(ts-(273+21.5)))\n",
    "\n",
    "semilogy(ts,ws/ws[normat])\n",
    "axvline(273+21.5)\n",
    "xlabel(\"TEMP\")\n",
    "grid(True)"
   ]
  },
  {
   "cell_type": "code",
   "execution_count": null,
   "metadata": {
    "collapsed": true
   },
   "outputs": [],
   "source": []
  },
  {
   "cell_type": "code",
   "execution_count": 12,
   "metadata": {},
   "outputs": [
    {
     "data": {
      "image/png": "[encoded data removed]",
      "text/plain": [
       "<matplotlib.figure.Figure at 0x10acadc88>"
      ]
     },
     "metadata": {},
     "output_type": "display_data"
    }
   ],
   "source": [
    "ls = np.arange(1e-6, 2.55e-6, 1e-8)\n",
    "ws = [Wbb(293, l) for l in ls]\n",
    "normat = np.argmin(np.abs(ls-(2.35e-6)))\n",
    "\n",
    "l5 = ls**5\n",
    "\n",
    "plot(ls*1e6,ws/ws[normat])\n",
    "plot(ls*1e6,l5/l5[normat])\n",
    "\n",
    "legend([\"W\",\"l5\"])\n",
    "grid(True)"
   ]
  },
  {
   "cell_type": "code",
   "execution_count": null,
   "metadata": {
    "collapsed": true
   },
   "outputs": [],
   "source": []
  }
 ],
 "metadata": {
  "kernelspec": {
   "display_name": "Python 3",
   "language": "python",
   "name": "python3"
  },
  "language_info": {
   "codemirror_mode": {
    "name": "ipython",
    "version": 3
   },
   "file_extension": ".py",
   "mimetype": "text/x-python",
   "name": "python",
   "nbconvert_exporter": "python",
   "pygments_lexer": "ipython3",
   "version": "3.6.1"
  }
 },
 "nbformat": 4,
 "nbformat_minor": 2
}
